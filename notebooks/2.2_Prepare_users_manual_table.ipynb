{
 "cells": [
  {
   "cell_type": "markdown",
   "id": "b05d2beb",
   "metadata": {},
   "source": [
    "# GOAL\n",
    "- Write here the notebook onjectives."
   ]
  },
  {
   "cell_type": "markdown",
   "id": "e6a7314f",
   "metadata": {},
   "source": [
    "# PACKAGES"
   ]
  },
  {
   "cell_type": "code",
   "execution_count": 172,
   "id": "05ed37dc",
   "metadata": {},
   "outputs": [],
   "source": [
    "import pandas as pd\n",
    "import pandas_gbq\n",
    "import gcsfs\n",
    "from typing import Dict, List"
   ]
  },
  {
   "cell_type": "code",
   "execution_count": 173,
   "id": "f3ef5e4b-9c86-4754-b523-587149fc4b60",
   "metadata": {
    "tags": [
     "active-ipynb"
    ]
   },
   "outputs": [],
   "source": [
    "# for use with notebooks\n",
    "import os"
   ]
  },
  {
   "cell_type": "markdown",
   "id": "c401c6a7",
   "metadata": {},
   "source": [
    "# PARAMETERS"
   ]
  },
  {
   "cell_type": "code",
   "execution_count": 174,
   "id": "0b0b4be3",
   "metadata": {
    "tags": []
   },
   "outputs": [],
   "source": [
    "project_id = \"analytics-dev-308300\"\n",
    "file_path = 'gs://humane-landing-zone/manual'\n",
    "file_name='talentcards_user_list.xlsx'\n",
    "users_table='talentcards.users_manual'"
   ]
  },
  {
   "cell_type": "code",
   "execution_count": 175,
   "id": "963e267b-7474-4772-9d84-f2d77fd9975c",
   "metadata": {
    "tags": [
     "active-ipynb"
    ]
   },
   "outputs": [],
   "source": [
    "# for use with notebooks\n",
    "os.environ['GOOGLE_APPLICATION_CREDENTIALS'] = os.getcwd().replace('notebooks','keys/gcp_key.json')\n",
    "pd.set_option(\"display.max_rows\", 200)\n",
    "pd.set_option(\"display.max_columns\", None)\n",
    "pd.set_option(\"display.width\", None)\n",
    "pd.set_option(\"display.max_colwidth\", None)"
   ]
  },
  {
   "cell_type": "markdown",
   "id": "7cdaa5af",
   "metadata": {},
   "source": [
    "# FUNCTIONS"
   ]
  },
  {
   "cell_type": "markdown",
   "id": "1e2a4561-d4ba-42d3-9a30-744d9b0ad3f8",
   "metadata": {},
   "source": [
    "## Format folder path with date structure"
   ]
  },
  {
   "cell_type": "code",
   "execution_count": 176,
   "id": "bed6e2ab-dcb8-4fec-87a1-18a30f114747",
   "metadata": {},
   "outputs": [],
   "source": [
    "def format_folder_path(table_path: str, date: str, file_name: str) -> str:\n",
    "    \"\"\"Formats the folder path, adding the year and month and returns the formatted folder path.\n",
    "\n",
    "    Args:\n",
    "      table_path (str): Table path.\n",
    "      date (str): Date with year, month and day values to be extracted and included in the folder path.\n",
    "      file_name (str): File name to be saved.\n",
    "\n",
    "    Returns:\n",
    "      The formatted folder path, with year, month and day included.\n",
    "    \"\"\"\n",
    "    dt = pd.to_datetime(date)\n",
    "    return f\"{table_path}/year={dt.year}/month={dt.month}/day={dt.day}/{file_name}\""
   ]
  },
  {
   "cell_type": "markdown",
   "id": "18f5fc1e-e3cf-43e7-8044-8f3ce6e5579d",
   "metadata": {},
   "source": [
    "## Get excel file from GCS with users_data"
   ]
  },
  {
   "cell_type": "code",
   "execution_count": 177,
   "id": "0f0c186f-aae2-42a8-9817-7ef30c5782f8",
   "metadata": {},
   "outputs": [],
   "source": [
    "def get_users_xlsx(project_id, file_path, file_name):\n",
    "    \"\"\"\"\n",
    "    (str,str,str)-->df\n",
    "    \"\"\"\n",
    "    fs=gcsfs.GCSFileSystem(project=project_id,access='read_write')\n",
    "    with fs.open(file_path+'/'+file_name) as users_file:\n",
    "        users_df = pd.read_excel(users_file)\n",
    "    users_df['Identifier']=users_df['Identifier'].replace('-','',regex=True)\n",
    "    fs.cp(\n",
    "        file_path+'/'+file_name,\n",
    "        format_folder_path(\n",
    "            table_path='gs://humane-landing-zone/manual/talentcards_users',\n",
    "            date=pd.Timestamp.today().strftime(\"%Y-%m-%d\"),\n",
    "            file_name=file_name\n",
    "        ),on_error='replace'\n",
    "    )\n",
    "    return users_df"
   ]
  },
  {
   "cell_type": "markdown",
   "id": "246d1684-9378-4c88-80e8-5c150e0c26d2",
   "metadata": {},
   "source": [
    "## calculate timedelta_since_lst_login"
   ]
  },
  {
   "cell_type": "code",
   "execution_count": 178,
   "id": "60eb60a8-bda9-4dfd-925d-cfdfacc998b6",
   "metadata": {},
   "outputs": [],
   "source": [
    "def transform2timedelta(string_like_timedelta):    \n",
    "    \"\"\"\n",
    "    (str)-->pd.Timedelta\n",
    "    \n",
    "    Exemples:\n",
    "    >>transform2timedelta('2 days ago')\n",
    "    Timedelta('2 days 00:00:00')\n",
    "\n",
    "    >>transform2timedelta('2 weeks ago')\n",
    "    Timedelta('14 days 00:00:00')\n",
    "\n",
    "    >>transform2timedelta('1 week ago')\n",
    "    Timedelta('7 days 00:00:00')\n",
    "\n",
    "    >>transform2timedelta('1 month ago')\n",
    "    Timedelta('30 days 00:00:00')\n",
    "    \n",
    "    \"\"\"\n",
    "    if string_like_timedelta == 'Never':\n",
    "        new_time_delta=pd.NaT\n",
    "    elif 'ago' in string_like_timedelta:\n",
    "        new_time_delta=string_like_timedelta.replace(' ago','')\n",
    "        if 'week' in new_time_delta:\n",
    "            new_time_delta=new_time_delta.replace('weeks','W').replace('week','W')\n",
    "        elif 'month' in new_time_delta:\n",
    "            new_time_delta=(new_time_delta\n",
    "                            .replace('months','D')\n",
    "                            .replace('month','D')\n",
    "                            .replace(new_time_delta.split()[0],str(int(new_time_delta.split()[0])*30))\n",
    "                           )\n",
    "    return pd.Timedelta(new_time_delta).days"
   ]
  },
  {
   "cell_type": "code",
   "execution_count": 179,
   "id": "f99c966f-c519-434d-9b3c-c79b17badffd",
   "metadata": {
    "tags": [
     "active-ipynb"
    ]
   },
   "outputs": [],
   "source": [
    "# assertions (notebook only)\n",
    "\n",
    "#assert type(transform2timedelta('Never'))==None\n",
    "\n",
    "assert transform2timedelta('2 days ago')==2\n",
    "\n",
    "assert transform2timedelta('2 weeks ago')==14\n",
    "\n",
    "assert transform2timedelta('1 week ago')==7\n",
    "\n",
    "assert transform2timedelta('1 month ago')==30"
   ]
  },
  {
   "cell_type": "markdown",
   "id": "2a4ffa78-47ff-4f33-bd56-c933550c7364",
   "metadata": {},
   "source": [
    "## prepare_users_df"
   ]
  },
  {
   "cell_type": "code",
   "execution_count": 180,
   "id": "27dcc920-860a-46e8-9f12-1e5e7874ad5d",
   "metadata": {},
   "outputs": [],
   "source": [
    "def prepare_users_df(users_df,group_id=1818):\n",
    "    \"\"\"\n",
    "    (df)-->df\n",
    "    \"\"\"\n",
    "    users_df_prep=users_df.copy()\n",
    "    users_df_prep['Last used']=users_df_prep['Last used'].apply(lambda x: transform2timedelta(x))\n",
    "    users_df_prep['Joined']=users_df_prep['Joined'].map({'No':False,'Yes':True})\n",
    "    users_df_prep=users_df_prep.rename(columns={\n",
    "        'Last used':'days_since_last_login',\n",
    "        'Joined':'joined_group',\n",
    "        'Status':'group_activation',\n",
    "        'Name':'user_name'\n",
    "        })\n",
    "    users_df_prep['group_id']=group_id\n",
    "    users_df_prep['extraction_timestamp']=pd.Timestamp.today(tz='utc').strftime('%Y-%m-%d %H:%M:%S')\n",
    "    users_df_prep.columns=[column.lower() for column in users_df_prep.columns]\n",
    "    return users_df_prep"
   ]
  },
  {
   "cell_type": "markdown",
   "id": "5dc432f0-3f6e-46e5-8ab1-604d5894100c",
   "metadata": {},
   "source": [
    "## create gbq table with users_df"
   ]
  },
  {
   "cell_type": "code",
   "execution_count": 181,
   "id": "a4242536-20be-4345-b295-4c43a72d61fd",
   "metadata": {},
   "outputs": [],
   "source": [
    "def create_users_table(project_id=project_id, file_path=file_path, file_name=file_name,table_name=users_table):\n",
    "    \"\"\"\n",
    "    (str,str,str,str,str)-->gbq table\n",
    "    \"\"\"\n",
    "    \n",
    "    prepare_users_df(\n",
    "        get_users_xlsx(\n",
    "            project_id=project_id,\n",
    "            file_path=file_path,\n",
    "            file_name=file_name\n",
    "        )).to_gbq(\n",
    "            table_name,\n",
    "            project_id=project_id,\n",
    "            if_exists='append'\n",
    "            )\n",
    "    return \"create_users_table\""
   ]
  },
  {
   "cell_type": "markdown",
   "id": "1cc8f5c9-1365-46f7-83ee-78ef4a403bb2",
   "metadata": {},
   "source": [
    "## start"
   ]
  },
  {
   "cell_type": "code",
   "execution_count": 182,
   "id": "2c17343f-98e9-47c8-92e0-0cc976ddd01a",
   "metadata": {},
   "outputs": [],
   "source": [
    "def start(request=None):\n",
    "    create_users_table()\n",
    "    return \"manual_users_table successfully created in GBQ\""
   ]
  },
  {
   "cell_type": "markdown",
   "id": "41d7d6a9",
   "metadata": {},
   "source": [
    "# SCRIPTING"
   ]
  },
  {
   "cell_type": "code",
   "execution_count": 183,
   "id": "ede9490f-d65e-45a5-ac77-d07163a1c6fa",
   "metadata": {
    "tags": [
     "active-ipynb"
    ]
   },
   "outputs": [
    {
     "name": "stderr",
     "output_type": "stream",
     "text": [
      "1it [00:04,  4.25s/it]\n"
     ]
    },
    {
     "data": {
      "text/plain": [
       "'manual_users_table successfully created in GBQ'"
      ]
     },
     "execution_count": 183,
     "metadata": {},
     "output_type": "execute_result"
    }
   ],
   "source": [
    "start()"
   ]
  },
  {
   "cell_type": "code",
   "execution_count": null,
   "id": "2e7b8675",
   "metadata": {},
   "outputs": [],
   "source": []
  }
 ],
 "metadata": {
  "jupytext": {
   "formats": "ipynb,py:percent"
  },
  "kernelspec": {
   "display_name": "Python [conda env:std_env]",
   "language": "python",
   "name": "conda-env-std_env-py"
  },
  "language_info": {
   "codemirror_mode": {
    "name": "ipython",
    "version": 3
   },
   "file_extension": ".py",
   "mimetype": "text/x-python",
   "name": "python",
   "nbconvert_exporter": "python",
   "pygments_lexer": "ipython3",
   "version": "3.9.6"
  }
 },
 "nbformat": 4,
 "nbformat_minor": 5
}
