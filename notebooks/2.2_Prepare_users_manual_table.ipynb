{
 "cells": [
  {
   "cell_type": "markdown",
   "id": "b05d2beb",
   "metadata": {},
   "source": [
    "# GOAL\n",
    "- Write here the notebook onjectives."
   ]
  },
  {
   "cell_type": "markdown",
   "id": "e6a7314f",
   "metadata": {},
   "source": [
    "# PACKAGES"
   ]
  },
  {
   "cell_type": "code",
   "execution_count": 151,
   "id": "05ed37dc",
   "metadata": {},
   "outputs": [],
   "source": [
    "import pandas as pd\n",
    "from google.oauth2 import service_account\n",
    "import pandas_gbq\n",
    "import logging\n",
    "import gcsfs"
   ]
  },
  {
   "cell_type": "markdown",
   "id": "c401c6a7",
   "metadata": {},
   "source": [
    "# PARAMETERS"
   ]
  },
  {
   "cell_type": "code",
   "execution_count": 152,
   "id": "0b0b4be3",
   "metadata": {},
   "outputs": [],
   "source": [
    "project_id = \"analytics-dev-308300\"\n",
    "cred_file=\"../keys/gcp_key.json\"\n",
    "\n",
    "users_filename='gs://humane-landing-zone/manual/talentcards_user_list.xlsx'\n",
    "\n",
    "users_table='talentcards.users_manual'"
   ]
  },
  {
   "cell_type": "code",
   "execution_count": 153,
   "id": "7ca72eef-d6bf-4ca7-bd64-dde78550d0a6",
   "metadata": {},
   "outputs": [],
   "source": [
    "pd.set_option(\"display.max_rows\", 200)\n",
    "pd.set_option(\"display.max_columns\", None)\n",
    "pd.set_option(\"display.width\", None)\n",
    "pd.set_option(\"display.max_colwidth\", None)"
   ]
  },
  {
   "cell_type": "markdown",
   "id": "7cdaa5af",
   "metadata": {},
   "source": [
    "# FUNCTIONS"
   ]
  },
  {
   "cell_type": "markdown",
   "id": "18f5fc1e-e3cf-43e7-8044-8f3ce6e5579d",
   "metadata": {},
   "source": [
    "## Get excel file from GCS with users_data"
   ]
  },
  {
   "cell_type": "code",
   "execution_count": 154,
   "id": "0f0c186f-aae2-42a8-9817-7ef30c5782f8",
   "metadata": {},
   "outputs": [],
   "source": [
    "def get_users_xlsx(project_id, users_filename, cred_file):\n",
    "    \"\"\"\"\n",
    "    (str,str,str)-->df\n",
    "    \"\"\"\n",
    "    \n",
    "    fs=gcsfs.GCSFileSystem(project=project_id,access='read_write',token=cred_file)\n",
    "    with fs.open(users_filename) as users_file:\n",
    "        users_df = pd.read_excel(users_file)\n",
    "    users_df['Identifier']=users_df['Identifier'].replace('-','',regex=True)\n",
    "    return users_df"
   ]
  },
  {
   "cell_type": "markdown",
   "id": "246d1684-9378-4c88-80e8-5c150e0c26d2",
   "metadata": {},
   "source": [
    "## calculate timedelta_since_lst_login"
   ]
  },
  {
   "cell_type": "code",
   "execution_count": 155,
   "id": "60eb60a8-bda9-4dfd-925d-cfdfacc998b6",
   "metadata": {},
   "outputs": [],
   "source": [
    "def transform2timedelta(string_like_timedelta):    \n",
    "    \"\"\"\n",
    "    (str)-->pd.Timedelta\n",
    "    \n",
    "    Exemples:\n",
    "    >>transform2timedelta('2 days ago')\n",
    "    Timedelta('2 days 00:00:00')\n",
    "\n",
    "    >>transform2timedelta('2 weeks ago')\n",
    "    Timedelta('14 days 00:00:00')\n",
    "\n",
    "    >>transform2timedelta('1 week ago')\n",
    "    Timedelta('7 days 00:00:00')\n",
    "\n",
    "    >>transform2timedelta('1 month ago')\n",
    "    Timedelta('30 days 00:00:00')\n",
    "    \n",
    "    \"\"\"\n",
    "    if string_like_timedelta == 'Never':\n",
    "        new_time_delta=pd.NaT\n",
    "    elif 'ago' in string_like_timedelta:\n",
    "        new_time_delta=string_like_timedelta.replace(' ago','')\n",
    "        if 'week' in new_time_delta:\n",
    "            new_time_delta=new_time_delta.replace('weeks','W').replace('week','W')\n",
    "        elif 'month' in new_time_delta:\n",
    "            new_time_delta=(new_time_delta\n",
    "                            .replace('months','D')\n",
    "                            .replace('month','D')\n",
    "                            .replace(new_time_delta.split()[0],str(int(new_time_delta.split()[0])*30))\n",
    "                           )\n",
    "    return pd.Timedelta(new_time_delta).days\n",
    "\n",
    "\n",
    "# assert type(transform2timedelta('Never'))==pd._libs.tslibs.nattype.NaTType\n",
    "\n",
    "# assert transform2timedelta('2 days ago')==pd.Timedelta('2 days 00:00:00')\n",
    "\n",
    "# assert transform2timedelta('2 weeks ago')==pd.Timedelta('14 days 00:00:00')\n",
    "\n",
    "# assert transform2timedelta('1 week ago')==pd.Timedelta('7 days 00:00:00')\n",
    "\n",
    "# assert transform2timedelta('1 month ago')==pd.Timedelta('30 days 00:00:00')"
   ]
  },
  {
   "cell_type": "markdown",
   "id": "2a4ffa78-47ff-4f33-bd56-c933550c7364",
   "metadata": {},
   "source": [
    "## prepare_users_df"
   ]
  },
  {
   "cell_type": "code",
   "execution_count": 162,
   "id": "27dcc920-860a-46e8-9f12-1e5e7874ad5d",
   "metadata": {},
   "outputs": [],
   "source": [
    "def prepare_users_df(users_df,group_id=1818):\n",
    "    \"\"\"\n",
    "    (df)-->df\n",
    "    \"\"\"\n",
    "    users_df_prep=users_df.copy()\n",
    "    users_df_prep['Last used']=users_df_prep['Last used'].apply(lambda x: transform2timedelta(x))\n",
    "    users_df_prep['Joined']=users_df_prep['Joined'].map({'No':False,'Yes':True})\n",
    "    users_df_prep=users_df_prep.rename(columns={\n",
    "        'Last used':'days_since_last_login',\n",
    "        'Joined':'joined_group',\n",
    "        'Status':'group_activation',\n",
    "        'Name':'user_name'\n",
    "        })\n",
    "    users_df_prep['group_id']=group_id\n",
    "    users_df_prep['extraction_timestamp']=pd.Timestamp.today(tz='utc').strftime('%Y-%m-%d %H:%M:%S')\n",
    "    users_df_prep.columns=[column.lower() for column in users_df_prep.columns]\n",
    "    return users_df_prep"
   ]
  },
  {
   "cell_type": "markdown",
   "id": "5dc432f0-3f6e-46e5-8ab1-604d5894100c",
   "metadata": {},
   "source": [
    "## create gbq table with users_df"
   ]
  },
  {
   "cell_type": "code",
   "execution_count": 164,
   "id": "a4242536-20be-4345-b295-4c43a72d61fd",
   "metadata": {},
   "outputs": [],
   "source": [
    "def create_users_table(project_id=project_id, users_filename=users_filename, cred_file=cred_file, table_name=users_table):\n",
    "    \"\"\"\n",
    "    (str,str,str,str,str)-->gbq table\n",
    "    \"\"\"\n",
    "    credentials = service_account.Credentials.from_service_account_file(cred_file)\n",
    "    \n",
    "    prepare_users_df(get_users_xlsx(project_id=project_id, users_filename=users_filename, cred_file=cred_file)).to_gbq(\n",
    "                            table_name,project_id=project_id,credentials=credentials,if_exists='replace')"
   ]
  },
  {
   "cell_type": "markdown",
   "id": "41d7d6a9",
   "metadata": {},
   "source": [
    "# DATA WRANGLING"
   ]
  },
  {
   "cell_type": "code",
   "execution_count": 165,
   "id": "ede9490f-d65e-45a5-ac77-d07163a1c6fa",
   "metadata": {},
   "outputs": [
    {
     "name": "stderr",
     "output_type": "stream",
     "text": [
      "45 out of 45 rows loaded.\n",
      "45 out of 45 rows loaded.\n",
      "45 out of 45 rows loaded.\n",
      "1it [00:05,  5.83s/it]\n"
     ]
    }
   ],
   "source": [
    "create_users_table()"
   ]
  },
  {
   "cell_type": "markdown",
   "id": "9598cc2f",
   "metadata": {},
   "source": [
    "# SCRIPTING"
   ]
  },
  {
   "cell_type": "code",
   "execution_count": null,
   "id": "2e7b8675",
   "metadata": {},
   "outputs": [],
   "source": []
  }
 ],
 "metadata": {
  "kernelspec": {
   "display_name": "Python [conda env:std_env]",
   "language": "python",
   "name": "conda-env-std_env-py"
  },
  "language_info": {
   "codemirror_mode": {
    "name": "ipython",
    "version": 3
   },
   "file_extension": ".py",
   "mimetype": "text/x-python",
   "name": "python",
   "nbconvert_exporter": "python",
   "pygments_lexer": "ipython3",
   "version": "3.9.6"
  }
 },
 "nbformat": 4,
 "nbformat_minor": 5
}
