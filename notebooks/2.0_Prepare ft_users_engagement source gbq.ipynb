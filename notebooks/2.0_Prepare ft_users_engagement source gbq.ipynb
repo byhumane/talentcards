{
 "cells": [
  {
   "cell_type": "markdown",
   "id": "ae849a88",
   "metadata": {},
   "source": [
    "# GOALS\n",
    "To create a GBQ view containing a daily state on users engagement.\n",
    "- generate dates index\n",
    "- generate users and dates index\n",
    "- fill last_login_date for each date/user key\n",
    "- fill last_consumption_start_date for each date/user key\n",
    "- fill last_consumption_completion_date for each date/user key"
   ]
  },
  {
   "cell_type": "markdown",
   "id": "45a2d4aa",
   "metadata": {},
   "source": [
    "# PACKAGES"
   ]
  },
  {
   "cell_type": "code",
   "execution_count": 5,
   "id": "4110c797",
   "metadata": {},
   "outputs": [],
   "source": [
    "import pandas as pd\n",
    "from google.oauth2 import service_account\n",
    "import pandas_gbq\n",
    "import logging"
   ]
  },
  {
   "cell_type": "markdown",
   "id": "a668881a",
   "metadata": {},
   "source": [
    "# PARAMETERS"
   ]
  },
  {
   "cell_type": "code",
   "execution_count": 6,
   "id": "4330d4af",
   "metadata": {},
   "outputs": [],
   "source": [
    "logger = logging.getLogger(\"pandas_gbq\")\n",
    "logger.setLevel(logging.DEBUG)\n",
    "logger.addHandler(logging.StreamHandler())\n",
    "\n",
    "project_id = \"analytics-dev-308300\"\n",
    "\n",
    "credentials = service_account.Credentials.from_service_account_file(\n",
    "    \"../keys/gcp_key.json\",\n",
    ")\n",
    "\n",
    "\n",
    "pd.set_option(\"display.max_rows\", 200)\n",
    "pd.set_option(\"display.max_columns\", None)\n",
    "pd.set_option(\"display.width\", None)\n",
    "pd.set_option(\"display.max_colwidth\", None)"
   ]
  },
  {
   "cell_type": "markdown",
   "id": "ba4c6312",
   "metadata": {
    "tags": []
   },
   "source": [
    "# FUNCTIONS"
   ]
  },
  {
   "cell_type": "markdown",
   "id": "5a4d7e22",
   "metadata": {},
   "source": [
    "## get data"
   ]
  },
  {
   "cell_type": "code",
   "execution_count": 7,
   "id": "51d69d8c",
   "metadata": {},
   "outputs": [],
   "source": [
    "def get_data():\n",
    "    \"\"\"\n",
    "    ()-->df\n",
    "    \"\"\"\n",
    "    query = \"\"\"\n",
    "        SELECT DISTINCT\n",
    "            user_id\n",
    "        FROM\n",
    "            dtm_engagement.dim_users\n",
    "        WHERE\n",
    "            group_id=1818\n",
    "    \"\"\"\n",
    "    users_list = pd.read_gbq(\n",
    "        query=query, credentials=credentials, project_id=project_id\n",
    "    )[\"user_id\"].tolist()\n",
    "\n",
    "    query = \"\"\"\n",
    "        SELECT DISTINCT\n",
    "            extraction_date, user_id, last_login\n",
    "        FROM\n",
    "            dtm_engagement.dim_users\n",
    "        WHERE group_id=1818\n",
    "    \"\"\"\n",
    "    login_df = pd.read_gbq(query=query, credentials=credentials, project_id=project_id)\n",
    "\n",
    "    query = \"\"\"\n",
    "        SELECT DISTINCT user_id,started_at,completed_at\n",
    "        FROM dtm_engagement.ft_content_consumption\n",
    "        WHERE group_id=1818\n",
    "        \"\"\"\n",
    "    consumption_df = pd.read_gbq(\n",
    "        query=query, credentials=credentials, project_id=project_id\n",
    "    )\n",
    "\n",
    "    consumption_df[\"started_at\"] = pd.to_datetime(\n",
    "        consumption_df[\"started_at\"], utc=True\n",
    "    )\n",
    "    consumption_df[\"completed_at\"] = pd.to_datetime(\n",
    "        consumption_df[\"completed_at\"], utc=True\n",
    "    )\n",
    "\n",
    "    return users_list, login_df, consumption_df"
   ]
  },
  {
   "cell_type": "markdown",
   "id": "e2ab8c30",
   "metadata": {},
   "source": [
    "## generate base (users and dates) data frame"
   ]
  },
  {
   "cell_type": "code",
   "execution_count": 8,
   "id": "e1a26f71",
   "metadata": {},
   "outputs": [],
   "source": [
    "def create_base_df(\n",
    "    ls_users,\n",
    "    start_date=\"2021-08-16\",\n",
    "    end_date=pd.Timestamp.today().strftime(\"%Y-%m-%d\"),\n",
    "):\n",
    "    \"\"\"\n",
    "    (date-like, date_like, series) --> df\n",
    "    Create a dataframe with one row for each combination of user and date. Date range is defined by start_date and end_date (excluded).\n",
    "    \"\"\"\n",
    "    dates_index = (\n",
    "        pd.to_datetime(\n",
    "            pd.date_range(start=start_date, end=end_date, name=\"action_date\")\n",
    "        )\n",
    "        .strftime(\"%Y-%m-%d\")\n",
    "        .to_list()\n",
    "    )\n",
    "\n",
    "    actions_dict = [\n",
    "        {\"action_date\": action_date, \"user_id\": user}\n",
    "        for action_date in dates_index\n",
    "        for user in ls_users\n",
    "    ]\n",
    "    return pd.DataFrame(actions_dict)"
   ]
  },
  {
   "cell_type": "markdown",
   "id": "1690a212",
   "metadata": {},
   "source": [
    "## fill last_login_date for each date/user key"
   ]
  },
  {
   "cell_type": "code",
   "execution_count": 9,
   "id": "ba23a82f",
   "metadata": {},
   "outputs": [],
   "source": [
    "def update_last_login(actions_df, logins_df):\n",
    "    \"\"\"\n",
    "    (df,df)-->df\n",
    "    \"\"\"\n",
    "    updated_actions_df = actions_df.merge(\n",
    "        logins_df,\n",
    "        how=\"left\",\n",
    "        left_on=[\"action_date\", \"user_id\"],\n",
    "        right_on=[\"extraction_date\", \"user_id\"],\n",
    "    ).drop(columns=[\"extraction_date\"])\n",
    "    return updated_actions_df"
   ]
  },
  {
   "cell_type": "markdown",
   "id": "d168df1f",
   "metadata": {},
   "source": [
    "## fill last_consumption_start_date for each date/user key"
   ]
  },
  {
   "cell_type": "code",
   "execution_count": 11,
   "id": "261b9174",
   "metadata": {},
   "outputs": [],
   "source": [
    "def max_start_date(consumption_df, reporting_date, user_id, date_of_interest):\n",
    "    \"\"\"\n",
    "    (df,date like str, int)\n",
    "    \"\"\"\n",
    "    max_start = consumption_df[\n",
    "        (consumption_df[\"user_id\"] == 20029)\n",
    "        & (\n",
    "            consumption_df[date_of_interest]\n",
    "            <= pd.Timestamp(reporting_date + \" 23:59:59\", tz=\"UTC\")\n",
    "        )\n",
    "    ][date_of_interest].max()\n",
    "\n",
    "    return max_start"
   ]
  },
  {
   "cell_type": "code",
   "execution_count": null,
   "id": "22efc837",
   "metadata": {},
   "outputs": [],
   "source": []
  },
  {
   "cell_type": "code",
   "execution_count": 4,
   "id": "eca43a10",
   "metadata": {},
   "outputs": [
    {
     "ename": "NameError",
     "evalue": "name 'df_consumption' is not defined",
     "output_type": "error",
     "traceback": [
      "\u001b[0;31m---------------------------------------------------------------------------\u001b[0m",
      "\u001b[0;31mNameError\u001b[0m                                 Traceback (most recent call last)",
      "\u001b[0;32m/tmp/ipykernel_9704/1934356570.py\u001b[0m in \u001b[0;36m<module>\u001b[0;34m\u001b[0m\n\u001b[1;32m      1\u001b[0m \u001b[0mreporting_date\u001b[0m \u001b[0;34m=\u001b[0m \u001b[0;34m\"2021-08-14\"\u001b[0m\u001b[0;34m\u001b[0m\u001b[0;34m\u001b[0m\u001b[0m\n\u001b[0;32m----> 2\u001b[0;31m \u001b[0mdf_consumption_start\u001b[0m \u001b[0;34m=\u001b[0m \u001b[0mdf_consumption\u001b[0m\u001b[0;34m[\u001b[0m\u001b[0;34m[\u001b[0m\u001b[0;34m\"user_id\"\u001b[0m\u001b[0;34m,\u001b[0m \u001b[0;34m\"started_at\"\u001b[0m\u001b[0;34m]\u001b[0m\u001b[0;34m]\u001b[0m\u001b[0;34m\u001b[0m\u001b[0;34m\u001b[0m\u001b[0m\n\u001b[0m\u001b[1;32m      3\u001b[0m \u001b[0;34m\u001b[0m\u001b[0m\n\u001b[1;32m      4\u001b[0m display(\n\u001b[1;32m      5\u001b[0m     df_consumption_start[\n",
      "\u001b[0;31mNameError\u001b[0m: name 'df_consumption' is not defined"
     ]
    }
   ],
   "source": [
    "reporting_date = \"2021-08-14\"\n",
    "df_consumption_start = df_consumption[[\"user_id\", \"started_at\"]]\n",
    "\n",
    "display(\n",
    "    df_consumption_start[\n",
    "        (df_consumption_start[\"user_id\"] == 20029)\n",
    "        & (\n",
    "            df_consumption_start[\"started_at\"]\n",
    "            <= pd.Timestamp(reporting_date + \" 23:59:59\", tz=\"UTC\")\n",
    "        )\n",
    "    ]\n",
    ")\n",
    "\n",
    "df_consumption_start[\n",
    "    (df_consumption_start[\"user_id\"] == 20029)\n",
    "    & (\n",
    "        df_consumption_start[\"started_at\"]\n",
    "        <= pd.Timestamp(reporting_date + \" 23:59:59\", tz=\"UTC\")\n",
    "    )\n",
    "][\"started_at\"].max()"
   ]
  },
  {
   "cell_type": "code",
   "execution_count": 138,
   "id": "c1cf7ff0",
   "metadata": {},
   "outputs": [
    {
     "data": {
      "text/plain": [
       "user_id                             20029\n",
       "started_at      2021-08-15 10:18:23+00:00\n",
       "completed_at    2021-08-15 12:30:36+00:00\n",
       "dtype: object"
      ]
     },
     "execution_count": 138,
     "metadata": {},
     "output_type": "execute_result"
    }
   ],
   "source": []
  },
  {
   "cell_type": "code",
   "execution_count": null,
   "id": "42a954d4",
   "metadata": {},
   "outputs": [],
   "source": []
  },
  {
   "cell_type": "code",
   "execution_count": null,
   "id": "562d696f",
   "metadata": {},
   "outputs": [],
   "source": []
  },
  {
   "cell_type": "code",
   "execution_count": null,
   "id": "220478c3",
   "metadata": {},
   "outputs": [],
   "source": []
  },
  {
   "cell_type": "markdown",
   "id": "72b1980f",
   "metadata": {},
   "source": [
    "# DATA WRANGLING"
   ]
  },
  {
   "cell_type": "code",
   "execution_count": 12,
   "id": "2f600927",
   "metadata": {},
   "outputs": [
    {
     "name": "stderr",
     "output_type": "stream",
     "text": [
      "Requesting query... \n",
      "Query running...\n",
      "Job ID: 4e6eb7be-2de4-4353-b9b1-cd6765fa09f7\n",
      "Query done.\n",
      "Cache hit.\n",
      "\n",
      "Got 30 rows.\n",
      "\n",
      "Requesting query... \n",
      "Query running...\n",
      "Job ID: b9317774-c5b0-41cd-be88-85940c3abd3c\n",
      "Query done.\n",
      "Cache hit.\n",
      "\n",
      "Got 30 rows.\n",
      "\n",
      "Requesting query... \n",
      "Query running...\n",
      "Job ID: 8800d4e4-a8df-4a15-95ec-ce59ad919369\n",
      "Query done.\n",
      "Cache hit.\n",
      "\n",
      "Got 0 rows.\n",
      "\n"
     ]
    }
   ],
   "source": [
    "ls_users, df_logins, df_consumption = get_data()"
   ]
  },
  {
   "cell_type": "code",
   "execution_count": 97,
   "id": "14e42bd3",
   "metadata": {},
   "outputs": [],
   "source": [
    "df_actions = update_last_login(create_base_df(ls_user), df_logins)"
   ]
  },
  {
   "cell_type": "code",
   "execution_count": 180,
   "id": "476770d4",
   "metadata": {},
   "outputs": [
    {
     "name": "stderr",
     "output_type": "stream",
     "text": [
      "Requesting query... \n",
      "Requesting query... \n",
      "Requesting query... \n",
      "Query running...\n",
      "Query running...\n",
      "Query running...\n",
      "Job ID: 1346d194-8635-4e6f-8ac6-2f2505e43040\n",
      "Job ID: 1346d194-8635-4e6f-8ac6-2f2505e43040\n",
      "Job ID: 1346d194-8635-4e6f-8ac6-2f2505e43040\n",
      "Query done.\n",
      "Cache hit.\n",
      "\n",
      "Query done.\n",
      "Cache hit.\n",
      "\n",
      "Query done.\n",
      "Cache hit.\n",
      "\n",
      "Got 0 rows.\n",
      "\n",
      "Got 0 rows.\n",
      "\n",
      "Got 0 rows.\n",
      "\n"
     ]
    }
   ],
   "source": [
    "    query = \"\"\"\n",
    "        SELECT DISTINCT user_id,started_at,completed_at\n",
    "        FROM dtm_engagement.ft_content_consumption\n",
    "        WHERE group_id=1818\n",
    "        \"\"\"\n",
    "    consumption_df = pd.read_gbq(\n",
    "        query=query, credentials=credentials, project_id=project_id\n",
    "    )"
   ]
  },
  {
   "cell_type": "code",
   "execution_count": null,
   "id": "c48bf1b4",
   "metadata": {},
   "outputs": [],
   "source": []
  }
 ],
 "metadata": {
  "environment": {
   "name": "common-cpu.m75",
   "type": "gcloud",
   "uri": "gcr.io/deeplearning-platform-release/base-cpu:m75"
  },
  "kernelspec": {
   "display_name": "Python [conda env:std_env]",
   "language": "python",
   "name": "conda-env-std_env-py"
  },
  "language_info": {
   "codemirror_mode": {
    "name": "ipython",
    "version": 3
   },
   "file_extension": ".py",
   "mimetype": "text/x-python",
   "name": "python",
   "nbconvert_exporter": "python",
   "pygments_lexer": "ipython3",
   "version": "3.9.6"
  },
  "toc-autonumbering": true
 },
 "nbformat": 4,
 "nbformat_minor": 5
}
