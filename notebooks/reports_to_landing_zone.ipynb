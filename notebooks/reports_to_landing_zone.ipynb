{
 "cells": [
  {
   "cell_type": "code",
   "execution_count": null,
   "outputs": [],
   "source": [
    "import json\n",
    "import os\n",
    "from datetime import datetime\n",
    "from typing import Dict, List\n",
    "\n",
    "import requests\n",
    "from google.cloud import storage"
   ],
   "metadata": {
    "collapsed": false,
    "pycharm": {
     "name": "#%%\n"
    }
   }
  },
  {
   "cell_type": "code",
   "execution_count": 4,
   "outputs": [],
   "source": [
    "os.environ['GOOGLE_APPLICATION_CREDENTIALS'] = '../keys/gcp_key.json'"
   ],
   "metadata": {
    "collapsed": false,
    "pycharm": {
     "name": "#%%\n"
    }
   }
  },
  {
   "cell_type": "code",
   "execution_count": 10,
   "metadata": {
    "collapsed": true
   },
   "outputs": [],
   "source": [
    "def format_folder_path(table_path: str, date: str, file_name: str) -> str:\n",
    "    \"\"\"Formats the folder path, adding the year and month and returns the formatted folder path.\n",
    "\n",
    "    Args:\n",
    "      table_path (str): Table path.\n",
    "      date (str): Date with year, month and day values to be extracted and included in the folder path.\n",
    "      file_name (str): File name to be saved.\n",
    "\n",
    "    Returns:\n",
    "      The formatted folder path, with year, month and day included.\n",
    "    \"\"\"\n",
    "    dt = datetime.strptime(date, \"%Y-%m-%d\")\n",
    "    return f\"{table_path}/year={dt.year}/month={dt.month}/day={dt.day}/{file_name}.json\"\n",
    "\n",
    "\n",
    "def read_json_from_gcs(\n",
    "        bucket_name: str, filename: str, storage_client: storage.Client\n",
    ") -> Dict:\n",
    "    \"\"\"Read a json file from Google Cloud Storage.\n",
    "\n",
    "    Args:\n",
    "      bucket_name (str): Bucket name with json files.\n",
    "      filename (str): Json file name.\n",
    "      storage_client (str): Storage Client..\n",
    "\n",
    "    Returns:\n",
    "      Dictionary with json content.\n",
    "    \"\"\"\n",
    "    bucket = storage_client.get_bucket(bucket_name)\n",
    "    blob = bucket.get_blob(filename)\n",
    "    return json.loads(blob.download_as_bytes().decode(\"utf-8\"))\n",
    "\n",
    "\n",
    "def get_reports_data(group, user) -> List:\n",
    "    \"\"\"Get users data from TalentCards API.\n",
    "\n",
    "    Returns:\n",
    "      Dictionary with users data.\n",
    "    \"\"\"\n",
    "    base_url = \"https://www.talentcards.io/api/v1\"\n",
    "    access_token = os.getenv(\"TALENTCARD_ACCESS_TOKEN\")\n",
    "    headers = {\n",
    "        \"Authorization\": f\"Bearer {access_token}\",\n",
    "        \"Content-type\": \"application/json\",\n",
    "        \"Accept\": \"application/json\",\n",
    "    }\n",
    "    reports = [\n",
    "        requests.get(\n",
    "            f\"{base_url}/company/groups/{group}/users/{user}/reports\", headers=headers\n",
    "        ).json()\n",
    "    ]\n",
    "    if \"errors\" not in reports[0]:\n",
    "        num_pages = reports[0][\"meta\"][\"last_page\"]\n",
    "        if num_pages > 1:\n",
    "            for page in range(2, num_pages + 1):\n",
    "                reports.append(\n",
    "                    requests.get(\n",
    "                        f\"{base_url}/company/groups/{group}/users/{user}/reports\",\n",
    "                        headers=headers,\n",
    "                        params={\"page[number]\": page},\n",
    "                    ).json()\n",
    "                )\n",
    "    return reports\n",
    "\n",
    "\n",
    "def upload_json_to_gcs(\n",
    "        storage_client: storage.Client,\n",
    "        bucket_name: str,\n",
    "        destination_blob_name: str,\n",
    "        json_data: Dict,\n",
    "):\n",
    "    \"\"\"Upload json data on Google Cloud Storage as json file.\n",
    "\n",
    "    Args:\n",
    "      storage_client (str): Storage Client.\n",
    "      bucket_name (str): Bucket name to be uploaded.\n",
    "      destination_blob_name (str): Destination filename.\n",
    "      json_data: Data in json format.\n",
    "    \"\"\"\n",
    "    bucket = storage_client.get_bucket(bucket_name)\n",
    "    blob = bucket.blob(destination_blob_name)\n",
    "    blob.upload_from_string(json.dumps(json_data))\n",
    "\n",
    "\n",
    "def get_groups_ids(groups_data):\n",
    "    groups_ids = []\n",
    "    for group_data in groups_data:\n",
    "        groups_ids.extend([group_id[\"id\"] for group_id in group_data[\"data\"]])\n",
    "    return groups_ids\n",
    "\n",
    "\n",
    "def get_users_ids(users_data):\n",
    "    users_ids = []\n",
    "    for user_data in users_data:\n",
    "        users_ids.extend([user_id[\"id\"] for user_id in user_data[\"data\"]])\n",
    "    return list(set(users_ids))\n",
    "\n",
    "\n",
    "def start(request=None):\n",
    "    date_str = datetime.now().strftime(\"%Y-%m-%d\")\n",
    "    landing_zone_bucket_name = 'humane-landing-zone'\n",
    "    storage_client = storage.Client()\n",
    "    groups_path = format_folder_path(\"talentcard/Groups\", date_str, \"groups\")\n",
    "    groups_data = read_json_from_gcs(landing_zone_bucket_name, groups_path, storage_client)\n",
    "    groups_ids = get_groups_ids(groups_data)\n",
    "    users_data = []\n",
    "    for group_id in groups_ids:\n",
    "        users_path = format_folder_path(\"talentcard/Users\", date_str, f\"users-{group_id}\")\n",
    "        users_data.extend(read_json_from_gcs(landing_zone_bucket_name, users_path, storage_client))\n",
    "    users_ids = get_users_ids(users_data)\n",
    "    for group in groups_ids:\n",
    "        for user in users_ids:\n",
    "            reports_data = get_reports_data(group, user)\n",
    "            if \"errors\" not in reports_data[0]:\n",
    "                destination_blob_name = format_folder_path(\n",
    "                    \"talentcard/Reports\", date_str, f\"report-{group}-{user}\"\n",
    "                )\n",
    "                upload_json_to_gcs(\n",
    "                    storage_client,\n",
    "                    landing_zone_bucket_name,\n",
    "                    destination_blob_name,\n",
    "                    reports_data,\n",
    "                )\n",
    "    return \"Function talentcard-reports-to-landing-zone finished successfully!\""
   ]
  },
  {
   "cell_type": "code",
   "execution_count": 11,
   "outputs": [
    {
     "data": {
      "text/plain": "'Function talentcard-reports-to-landing-zone finished successfully!'"
     },
     "execution_count": 11,
     "metadata": {},
     "output_type": "execute_result"
    }
   ],
   "source": [
    "start()"
   ],
   "metadata": {
    "collapsed": false,
    "pycharm": {
     "name": "#%%\n"
    }
   }
  },
  {
   "cell_type": "code",
   "execution_count": null,
   "outputs": [],
   "source": [],
   "metadata": {
    "collapsed": false,
    "pycharm": {
     "name": "#%%\n"
    }
   }
  }
 ],
 "metadata": {
  "kernelspec": {
   "display_name": "Python 3",
   "language": "python",
   "name": "python3"
  },
  "language_info": {
   "codemirror_mode": {
    "name": "ipython",
    "version": 2
   },
   "file_extension": ".py",
   "mimetype": "text/x-python",
   "name": "python",
   "nbconvert_exporter": "python",
   "pygments_lexer": "ipython2",
   "version": "2.7.6"
  }
 },
 "nbformat": 4,
 "nbformat_minor": 0
}