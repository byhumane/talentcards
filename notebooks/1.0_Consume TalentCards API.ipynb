{
 "cells": [
  {
   "cell_type": "markdown",
   "source": [
    "# GOAL\n",
    "- Interact with TalentCards apis\n",
    "- Get users data\n",
    "- Get activity data"
   ],
   "metadata": {}
  },
  {
   "cell_type": "markdown",
   "source": [
    "# PACKAGES"
   ],
   "metadata": {}
  },
  {
   "cell_type": "code",
   "execution_count": 1,
   "source": [
    "import pandas as pd\n",
    "import requests\n",
    "# from datetime import datetime\n",
    "\n",
    "# from google.oauth2 import service_account\n",
    "# from oauth2client.service_account import ServiceAccountCredentials"
   ],
   "outputs": [],
   "metadata": {}
  },
  {
   "cell_type": "markdown",
   "source": [
    "# PARAMETERS"
   ],
   "metadata": {
    "tags": []
   }
  },
  {
   "cell_type": "code",
   "execution_count": 2,
   "source": [
    "access_token = open(\"../keys/talentcards.txt\", mode=\"r\").readline()\n",
    "\n",
    "# noinspection PyArgumentList\n",
    "today = pd.Timestamp.today().strftime(\"%Y-%m-%d\")\n",
    "# noinspection PyArgumentList\n",
    "today_files = pd.Timestamp.today().strftime(\"%Y%m%d\")\n",
    "\n",
    "group=1818\n",
    "user = 20129"
   ],
   "outputs": [],
   "metadata": {}
  },
  {
   "cell_type": "markdown",
   "source": [
    "# FUNCTIONS"
   ],
   "metadata": {}
  },
  {
   "cell_type": "markdown",
   "source": [
    "## fix_columns_to_upload_to_bq"
   ],
   "metadata": {
    "tags": []
   }
  },
  {
   "cell_type": "code",
   "execution_count": 3,
   "source": [
    "def fix_columns_to_upload_to_bq(df):\n",
    "    fixed_columns = [column.replace(\"-\", \"_\") for column in df.columns.tolist()]\n",
    "    df.columns = fixed_columns\n",
    "    return df"
   ],
   "outputs": [],
   "metadata": {}
  },
  {
   "cell_type": "markdown",
   "source": [
    "## get_users_data"
   ],
   "metadata": {
    "tags": []
   }
  },
  {
   "cell_type": "code",
   "execution_count": 4,
   "source": [
    "def get_users_data(group_id=1818):\n",
    "    \"\"\"Get user details data from TalentCards API.\n",
    "\n",
    "    Returns:\n",
    "      Dictionary with userS details data.\n",
    "    \"\"\"\n",
    "    base_url = \"https://www.talentcards.io/api/v1\"\n",
    "    headers = {\n",
    "        \"Authorization\": f\"Bearer {access_token}\",\n",
    "        \"Content-type\": \"application/json\",\n",
    "        \"Accept\": \"application/json\",\n",
    "    }\n",
    "    users=[requests.get(f\"{base_url}/company/groups/{group_id}/users\", headers=headers).json()]\n",
    "    num_pages = users[0][\"meta\"][\"last_page\"]\n",
    "    if num_pages > 1:\n",
    "        for page in range(2, num_pages + 1):\n",
    "            users.append(\n",
    "                requests.get(\n",
    "                    f\"{base_url}/company/groups/{group_id}/users\",\n",
    "                    headers=headers,\n",
    "                    params={\"page[number]\": page},\n",
    "                ).json()\n",
    "            )\n",
    "    return users"
   ],
   "outputs": [],
   "metadata": {}
  },
  {
   "cell_type": "markdown",
   "source": [
    "## process_user_data"
   ],
   "metadata": {}
  },
  {
   "cell_type": "code",
   "execution_count": 5,
   "source": [
    "def process_user_data(raw_data, date):\n",
    "    \"\"\"Process raw data to get only desired data.\n",
    "\n",
    "    Args:\n",
    "      date:\n",
    "      raw_data (List): List of jason api responses.\n",
    "\n",
    "    Returns:\n",
    "      Pandas dataframe pandas with structured data.\n",
    "    \"\"\"\n",
    "    users_df = pd.DataFrame()\n",
    "    for response in raw_data:\n",
    "        users_list = []\n",
    "        for user_record in response[\"data\"]:\n",
    "            users_dict = {\"user_id\": user_record[\"id\"]}\n",
    "            users_dict.update(user_record[\"attributes\"])\n",
    "            users_dict[\"extraction_timestamp\"] = date\n",
    "            users_list.append(users_dict)\n",
    "        response_df = pd.DataFrame(users_list)\n",
    "        users_df = users_df.append(response_df, ignore_index=True)\n",
    "    users_df = users_df.sort_values(by=\"user_id\", ignore_index=True)\n",
    "    return fix_columns_to_upload_to_bq(users_df)"
   ],
   "outputs": [],
   "metadata": {
    "tags": []
   }
  },
  {
   "cell_type": "markdown",
   "source": [
    "## get_reports_data"
   ],
   "metadata": {}
  },
  {
   "cell_type": "code",
   "execution_count": 6,
   "source": [
    "def get_reports_data(group_id=1818, user_id=20129):\n",
    "    \"\"\"Get user details data from TalentCards API.\n",
    "\n",
    "    Returns:\n",
    "      Dictionary with userS details data.\n",
    "    \"\"\"\n",
    "    base_url = \"https://www.talentcards.io/api/v1\"\n",
    "    headers = {\n",
    "        \"Authorization\": f\"Bearer {access_token}\",\n",
    "        \"Content-type\": \"application/json\",\n",
    "        \"Accept\": \"application/json\",\n",
    "    }\n",
    "    response = [requests.get(\n",
    "        f\"{base_url}/company/groups/{group_id}/users/{user_id}/reports\",\n",
    "        headers=headers,\n",
    "    ).json()]\n",
    "    try:\n",
    "        num_pages = response[0][\"meta\"][\"last_page\"]\n",
    "        if num_pages > 1:\n",
    "            for page in range(2, num_pages + 1):\n",
    "                response.append(\n",
    "                    requests.get(\n",
    "                        f\"{base_url}/company/groups/{group_id}/users/{user_id}/reports\",\n",
    "                        headers=headers,\n",
    "                    ).json()\n",
    "                )\n",
    "        user_report = {\"group\": group_id, \"user\": user_id, \"reports\": response}\n",
    "    except:\n",
    "        pass\n",
    "    return user_report"
   ],
   "outputs": [],
   "metadata": {}
  },
  {
   "cell_type": "markdown",
   "source": [
    "## process_reports_data"
   ],
   "metadata": {}
  },
  {
   "cell_type": "code",
   "execution_count": 7,
   "source": [
    "def process_reports_data(user_report_dict):\n",
    "    \"\"\"\n",
    "    Process json user_report to get only desired data.\n",
    "    \"\"\"\n",
    "    report = []\n",
    "    for page in user_report_dict[\"reports\"]:\n",
    "        for entry in page[\"data\"]:\n",
    "            if entry[\"type\"] == \"user-set-reports\":\n",
    "                report_dict = {\n",
    "                    \"group_id\": user_report_dict[\"group\"],\n",
    "                    \"user_id\": user_report_dict[\"user\"],\n",
    "                    \"sequence_id\": \"\",\n",
    "                    \"set_id\": entry[\"id\"],\n",
    "                    \"set-tests\": entry[\"meta\"][\"report\"][\"set-tests\"],\n",
    "                    \"finished-tests\": entry[\"meta\"][\"report\"][\"finished-tests\"],\n",
    "                    \"progress\": entry[\"meta\"][\"report\"][\"progress\"],\n",
    "                    \"cards\": entry[\"meta\"][\"report\"][\"cards\"],\n",
    "                    \"tests\": entry[\"meta\"][\"report\"][\"tests\"],\n",
    "                    \"started-at\": entry[\"meta\"][\"report\"][\"started-at\"],\n",
    "                    \"completed-at\": entry[\"meta\"][\"report\"][\"completed-at\"],\n",
    "                }\n",
    "                report.append(report_dict)\n",
    "            elif entry[\"type\"] == \"user-sequence-reports\":\n",
    "                for card_set in entry[\"meta\"][\"reports\"]:\n",
    "                    report_dict = {\n",
    "                        \"group_id\": user_report_dict[\"group\"],\n",
    "                        \"user_id\": user_report_dict[\"user\"],\n",
    "                        \"sequence_id\": entry[\"id\"],\n",
    "                        \"set_id\": card_set[\"id\"],\n",
    "                        \"set-tests\": card_set[\"meta\"][\"report\"][\"set-tests\"],\n",
    "                        \"finished-tests\": card_set[\"meta\"][\"report\"][\"finished-tests\"],\n",
    "                        \"progress\": card_set[\"meta\"][\"report\"][\"progress\"],\n",
    "                        \"cards\": card_set[\"meta\"][\"report\"][\"cards\"],\n",
    "                        \"tests\": card_set[\"meta\"][\"report\"][\"tests\"],\n",
    "                        \"started-at\": card_set[\"meta\"][\"report\"][\"started-at\"],\n",
    "                        \"completed-at\": card_set[\"meta\"][\"report\"][\"completed-at\"],\n",
    "                    }\n",
    "                    report.append(report_dict)\n",
    "        reports_df = pd.DataFrame(report)\n",
    "        reports_df[\"started-at\"] = pd.to_datetime(reports_df[\"started-at\"].fillna(pd.NaT),utc=True).dt.tz_convert(\"America/Sao_paulo\")\n",
    "        reports_df[\"completed-at\"] = pd.to_datetime(reports_df[\"completed-at\"].fillna(pd.NaT),utc=True).dt.tz_convert(\"America/Sao_paulo\")\n",
    "\n",
    "    return fix_columns_to_upload_to_bq(reports_df)"
   ],
   "outputs": [],
   "metadata": {}
  },
  {
   "cell_type": "markdown",
   "source": [
    "# DATA WRANGLING"
   ],
   "metadata": {
    "tags": []
   }
  },
  {
   "cell_type": "markdown",
   "source": [
    "##  users data"
   ],
   "metadata": {}
  },
  {
   "cell_type": "code",
   "execution_count": 8,
   "source": [
    "df_users = process_user_data(get_users_data(), today)"
   ],
   "outputs": [],
   "metadata": {}
  },
  {
   "cell_type": "code",
   "execution_count": 10,
   "source": [
    "df_users.sample(5)"
   ],
   "outputs": [
    {
     "data": {
      "text/plain": "    user_id  access_token                       email       first_name  \\\n24    20162  AQDWUTXUFBZM  avile.lourenco@hotmail.com  Teresa Cristina   \n22    20160  AQUTKQITRYMB                        None           Sergio   \n39    20293  AQJPCUAXLLDQ      ricardookuno@gmail.com          Ricardo   \n25    20163  AQOXPYUMZSVZ                        None          Marcelo   \n36    20216  AQQZIFYJJOSM      paulooshiro7@gmail.com            Paulo   \n\n                last_name          mobile                 created_at  \\\n24         Avile Lourenco  +5511981270139  2021-08-12T11:30:47+00:00   \n22      Marthins da Silva  +5511966648715  2021-08-12T11:26:57+00:00   \n39                   CRKS  +5511947371379  2021-08-25T13:15:49+00:00   \n25       Adelino de Sousa  +5511959960855  2021-08-12T11:31:21+00:00   \n36  Sergio Massato Oshiro  +5511947505151  2021-08-13T13:01:57+00:00   \n\n                   updated_at                 last_login  enabled  \\\n24  2021-09-14T16:10:25+00:00  2021-09-14T16:16:26+00:00     True   \n22  2021-08-26T12:36:34+00:00                       None    False   \n39  2021-09-15T14:46:05+00:00  2021-09-15T14:51:13+00:00     True   \n25  2021-08-26T12:35:37+00:00                       None    False   \n36  2021-09-16T18:49:01+00:00  2021-09-16T18:49:01+00:00     True   \n\n   extraction_timestamp  \n24           2021-09-19  \n22           2021-09-19  \n39           2021-09-19  \n25           2021-09-19  \n36           2021-09-19  ",
      "text/html": "<div>\n<style scoped>\n    .dataframe tbody tr th:only-of-type {\n        vertical-align: middle;\n    }\n\n    .dataframe tbody tr th {\n        vertical-align: top;\n    }\n\n    .dataframe thead th {\n        text-align: right;\n    }\n</style>\n<table border=\"1\" class=\"dataframe\">\n  <thead>\n    <tr style=\"text-align: right;\">\n      <th></th>\n      <th>user_id</th>\n      <th>access_token</th>\n      <th>email</th>\n      <th>first_name</th>\n      <th>last_name</th>\n      <th>mobile</th>\n      <th>created_at</th>\n      <th>updated_at</th>\n      <th>last_login</th>\n      <th>enabled</th>\n      <th>extraction_timestamp</th>\n    </tr>\n  </thead>\n  <tbody>\n    <tr>\n      <th>24</th>\n      <td>20162</td>\n      <td>AQDWUTXUFBZM</td>\n      <td>avile.lourenco@hotmail.com</td>\n      <td>Teresa Cristina</td>\n      <td>Avile Lourenco</td>\n      <td>+5511981270139</td>\n      <td>2021-08-12T11:30:47+00:00</td>\n      <td>2021-09-14T16:10:25+00:00</td>\n      <td>2021-09-14T16:16:26+00:00</td>\n      <td>True</td>\n      <td>2021-09-19</td>\n    </tr>\n    <tr>\n      <th>22</th>\n      <td>20160</td>\n      <td>AQUTKQITRYMB</td>\n      <td>None</td>\n      <td>Sergio</td>\n      <td>Marthins da Silva</td>\n      <td>+5511966648715</td>\n      <td>2021-08-12T11:26:57+00:00</td>\n      <td>2021-08-26T12:36:34+00:00</td>\n      <td>None</td>\n      <td>False</td>\n      <td>2021-09-19</td>\n    </tr>\n    <tr>\n      <th>39</th>\n      <td>20293</td>\n      <td>AQJPCUAXLLDQ</td>\n      <td>ricardookuno@gmail.com</td>\n      <td>Ricardo</td>\n      <td>CRKS</td>\n      <td>+5511947371379</td>\n      <td>2021-08-25T13:15:49+00:00</td>\n      <td>2021-09-15T14:46:05+00:00</td>\n      <td>2021-09-15T14:51:13+00:00</td>\n      <td>True</td>\n      <td>2021-09-19</td>\n    </tr>\n    <tr>\n      <th>25</th>\n      <td>20163</td>\n      <td>AQOXPYUMZSVZ</td>\n      <td>None</td>\n      <td>Marcelo</td>\n      <td>Adelino de Sousa</td>\n      <td>+5511959960855</td>\n      <td>2021-08-12T11:31:21+00:00</td>\n      <td>2021-08-26T12:35:37+00:00</td>\n      <td>None</td>\n      <td>False</td>\n      <td>2021-09-19</td>\n    </tr>\n    <tr>\n      <th>36</th>\n      <td>20216</td>\n      <td>AQQZIFYJJOSM</td>\n      <td>paulooshiro7@gmail.com</td>\n      <td>Paulo</td>\n      <td>Sergio Massato Oshiro</td>\n      <td>+5511947505151</td>\n      <td>2021-08-13T13:01:57+00:00</td>\n      <td>2021-09-16T18:49:01+00:00</td>\n      <td>2021-09-16T18:49:01+00:00</td>\n      <td>True</td>\n      <td>2021-09-19</td>\n    </tr>\n  </tbody>\n</table>\n</div>"
     },
     "execution_count": 10,
     "metadata": {},
     "output_type": "execute_result"
    }
   ],
   "metadata": {}
  },
  {
   "cell_type": "code",
   "execution_count": 11,
   "source": [
    "df_users.dtypes"
   ],
   "outputs": [
    {
     "data": {
      "text/plain": "user_id                  int64\naccess_token            object\nemail                   object\nfirst_name              object\nlast_name               object\nmobile                  object\ncreated_at              object\nupdated_at              object\nlast_login              object\nenabled                   bool\nextraction_timestamp    object\ndtype: object"
     },
     "execution_count": 11,
     "metadata": {},
     "output_type": "execute_result"
    }
   ],
   "metadata": {}
  },
  {
   "cell_type": "code",
   "execution_count": 14,
   "source": [
    "df_users.to_excel(\n",
    "    f\"../data/out/{today_files}_TalentCards users extraction.xlsx\", index=False\n",
    ")"
   ],
   "outputs": [],
   "metadata": {}
  },
  {
   "cell_type": "code",
   "execution_count": 12,
   "source": [
    "df_users.shape"
   ],
   "outputs": [
    {
     "data": {
      "text/plain": "(45, 11)"
     },
     "execution_count": 12,
     "metadata": {},
     "output_type": "execute_result"
    }
   ],
   "metadata": {}
  },
  {
   "cell_type": "markdown",
   "source": [
    "## user report"
   ],
   "metadata": {}
  },
  {
   "cell_type": "code",
   "execution_count": 14,
   "source": [
    "user_report = get_reports_data(group,user)"
   ],
   "outputs": [],
   "metadata": {}
  },
  {
   "cell_type": "code",
   "execution_count": 15,
   "source": [
    "df_report = process_reports_data(user_report_dict=user_report)\n",
    "df_report"
   ],
   "outputs": [
    {
     "data": {
      "text/plain": "    group_id  user_id sequence_id set_id  set_tests  finished_tests  progress  \\\n0       1818    20129              11474          0               0       100   \n1       1818    20129         237  11401          2               2       100   \n2       1818    20129         237  11457          1               1       100   \n3       1818    20129              11401          2               2       100   \n4       1818    20129              11457          1               1       100   \n5       1818    20129              11508          1               0        87   \n6       1818    20129              11433          3               3       100   \n7       1818    20129              12203          2               2       100   \n8       1818    20129              12202          1               1       100   \n9       1818    20129              11724          1               1       100   \n10      1818    20129              12205          1               0         0   \n11      1818    20129              11875          1               1       100   \n12      1818    20129              11957          1               1       100   \n13      1818    20129              12069          1               0        82   \n14      1818    20129              11835          0               0       100   \n15      1818    20129              11717          0               0       100   \n\n    cards  tests                started_at              completed_at  \n0      13      0 2021-08-20 11:33:41-03:00 2021-08-20 11:33:47-03:00  \n1      18      2 2021-08-20 12:17:01-03:00 2021-08-20 12:17:59-03:00  \n2       3      1 2021-08-20 12:18:04-03:00 2021-08-20 12:18:34-03:00  \n3      18      2 2021-08-20 12:17:01-03:00 2021-08-20 12:17:59-03:00  \n4       3      1 2021-08-20 12:18:04-03:00 2021-08-20 12:18:34-03:00  \n5      22      1 2021-08-23 13:51:39-03:00                       NaT  \n6      16      3 2021-08-20 14:39:42-03:00 2021-08-20 14:40:48-03:00  \n7      18      2 2021-09-16 14:59:44-03:00 2021-09-16 15:00:39-03:00  \n8       8      1 2021-09-13 18:04:06-03:00 2021-09-13 18:05:05-03:00  \n9      15      1 2021-08-23 12:08:42-03:00 2021-08-23 12:10:09-03:00  \n10      2      1                       NaT                       NaT  \n11     19      1 2021-08-30 16:31:30-03:00 2021-08-30 16:32:11-03:00  \n12     11      1 2021-09-17 13:14:55-03:00 2021-09-17 13:16:23-03:00  \n13     10      1 2021-09-15 14:03:24-03:00                       NaT  \n14      6      0 2021-08-30 16:31:23-03:00 2021-08-30 16:31:27-03:00  \n15      6      0 2021-08-23 12:31:27-03:00 2021-08-23 12:31:28-03:00  ",
      "text/html": "<div>\n<style scoped>\n    .dataframe tbody tr th:only-of-type {\n        vertical-align: middle;\n    }\n\n    .dataframe tbody tr th {\n        vertical-align: top;\n    }\n\n    .dataframe thead th {\n        text-align: right;\n    }\n</style>\n<table border=\"1\" class=\"dataframe\">\n  <thead>\n    <tr style=\"text-align: right;\">\n      <th></th>\n      <th>group_id</th>\n      <th>user_id</th>\n      <th>sequence_id</th>\n      <th>set_id</th>\n      <th>set_tests</th>\n      <th>finished_tests</th>\n      <th>progress</th>\n      <th>cards</th>\n      <th>tests</th>\n      <th>started_at</th>\n      <th>completed_at</th>\n    </tr>\n  </thead>\n  <tbody>\n    <tr>\n      <th>0</th>\n      <td>1818</td>\n      <td>20129</td>\n      <td></td>\n      <td>11474</td>\n      <td>0</td>\n      <td>0</td>\n      <td>100</td>\n      <td>13</td>\n      <td>0</td>\n      <td>2021-08-20 11:33:41-03:00</td>\n      <td>2021-08-20 11:33:47-03:00</td>\n    </tr>\n    <tr>\n      <th>1</th>\n      <td>1818</td>\n      <td>20129</td>\n      <td>237</td>\n      <td>11401</td>\n      <td>2</td>\n      <td>2</td>\n      <td>100</td>\n      <td>18</td>\n      <td>2</td>\n      <td>2021-08-20 12:17:01-03:00</td>\n      <td>2021-08-20 12:17:59-03:00</td>\n    </tr>\n    <tr>\n      <th>2</th>\n      <td>1818</td>\n      <td>20129</td>\n      <td>237</td>\n      <td>11457</td>\n      <td>1</td>\n      <td>1</td>\n      <td>100</td>\n      <td>3</td>\n      <td>1</td>\n      <td>2021-08-20 12:18:04-03:00</td>\n      <td>2021-08-20 12:18:34-03:00</td>\n    </tr>\n    <tr>\n      <th>3</th>\n      <td>1818</td>\n      <td>20129</td>\n      <td></td>\n      <td>11401</td>\n      <td>2</td>\n      <td>2</td>\n      <td>100</td>\n      <td>18</td>\n      <td>2</td>\n      <td>2021-08-20 12:17:01-03:00</td>\n      <td>2021-08-20 12:17:59-03:00</td>\n    </tr>\n    <tr>\n      <th>4</th>\n      <td>1818</td>\n      <td>20129</td>\n      <td></td>\n      <td>11457</td>\n      <td>1</td>\n      <td>1</td>\n      <td>100</td>\n      <td>3</td>\n      <td>1</td>\n      <td>2021-08-20 12:18:04-03:00</td>\n      <td>2021-08-20 12:18:34-03:00</td>\n    </tr>\n    <tr>\n      <th>5</th>\n      <td>1818</td>\n      <td>20129</td>\n      <td></td>\n      <td>11508</td>\n      <td>1</td>\n      <td>0</td>\n      <td>87</td>\n      <td>22</td>\n      <td>1</td>\n      <td>2021-08-23 13:51:39-03:00</td>\n      <td>NaT</td>\n    </tr>\n    <tr>\n      <th>6</th>\n      <td>1818</td>\n      <td>20129</td>\n      <td></td>\n      <td>11433</td>\n      <td>3</td>\n      <td>3</td>\n      <td>100</td>\n      <td>16</td>\n      <td>3</td>\n      <td>2021-08-20 14:39:42-03:00</td>\n      <td>2021-08-20 14:40:48-03:00</td>\n    </tr>\n    <tr>\n      <th>7</th>\n      <td>1818</td>\n      <td>20129</td>\n      <td></td>\n      <td>12203</td>\n      <td>2</td>\n      <td>2</td>\n      <td>100</td>\n      <td>18</td>\n      <td>2</td>\n      <td>2021-09-16 14:59:44-03:00</td>\n      <td>2021-09-16 15:00:39-03:00</td>\n    </tr>\n    <tr>\n      <th>8</th>\n      <td>1818</td>\n      <td>20129</td>\n      <td></td>\n      <td>12202</td>\n      <td>1</td>\n      <td>1</td>\n      <td>100</td>\n      <td>8</td>\n      <td>1</td>\n      <td>2021-09-13 18:04:06-03:00</td>\n      <td>2021-09-13 18:05:05-03:00</td>\n    </tr>\n    <tr>\n      <th>9</th>\n      <td>1818</td>\n      <td>20129</td>\n      <td></td>\n      <td>11724</td>\n      <td>1</td>\n      <td>1</td>\n      <td>100</td>\n      <td>15</td>\n      <td>1</td>\n      <td>2021-08-23 12:08:42-03:00</td>\n      <td>2021-08-23 12:10:09-03:00</td>\n    </tr>\n    <tr>\n      <th>10</th>\n      <td>1818</td>\n      <td>20129</td>\n      <td></td>\n      <td>12205</td>\n      <td>1</td>\n      <td>0</td>\n      <td>0</td>\n      <td>2</td>\n      <td>1</td>\n      <td>NaT</td>\n      <td>NaT</td>\n    </tr>\n    <tr>\n      <th>11</th>\n      <td>1818</td>\n      <td>20129</td>\n      <td></td>\n      <td>11875</td>\n      <td>1</td>\n      <td>1</td>\n      <td>100</td>\n      <td>19</td>\n      <td>1</td>\n      <td>2021-08-30 16:31:30-03:00</td>\n      <td>2021-08-30 16:32:11-03:00</td>\n    </tr>\n    <tr>\n      <th>12</th>\n      <td>1818</td>\n      <td>20129</td>\n      <td></td>\n      <td>11957</td>\n      <td>1</td>\n      <td>1</td>\n      <td>100</td>\n      <td>11</td>\n      <td>1</td>\n      <td>2021-09-17 13:14:55-03:00</td>\n      <td>2021-09-17 13:16:23-03:00</td>\n    </tr>\n    <tr>\n      <th>13</th>\n      <td>1818</td>\n      <td>20129</td>\n      <td></td>\n      <td>12069</td>\n      <td>1</td>\n      <td>0</td>\n      <td>82</td>\n      <td>10</td>\n      <td>1</td>\n      <td>2021-09-15 14:03:24-03:00</td>\n      <td>NaT</td>\n    </tr>\n    <tr>\n      <th>14</th>\n      <td>1818</td>\n      <td>20129</td>\n      <td></td>\n      <td>11835</td>\n      <td>0</td>\n      <td>0</td>\n      <td>100</td>\n      <td>6</td>\n      <td>0</td>\n      <td>2021-08-30 16:31:23-03:00</td>\n      <td>2021-08-30 16:31:27-03:00</td>\n    </tr>\n    <tr>\n      <th>15</th>\n      <td>1818</td>\n      <td>20129</td>\n      <td></td>\n      <td>11717</td>\n      <td>0</td>\n      <td>0</td>\n      <td>100</td>\n      <td>6</td>\n      <td>0</td>\n      <td>2021-08-23 12:31:27-03:00</td>\n      <td>2021-08-23 12:31:28-03:00</td>\n    </tr>\n  </tbody>\n</table>\n</div>"
     },
     "execution_count": 15,
     "metadata": {},
     "output_type": "execute_result"
    }
   ],
   "metadata": {}
  },
  {
   "cell_type": "markdown",
   "source": [
    "## all users reports"
   ],
   "metadata": {}
  },
  {
   "cell_type": "code",
   "execution_count": 17,
   "source": [
    "users_id = list(df_users[\"user_id\"].unique())\n",
    "\n",
    "df_reports = pd.DataFrame()\n",
    "for user in users_id:\n",
    "    df_reports = df_reports.append(\n",
    "        process_reports_data(get_reports_data(group, user)),\n",
    "        ignore_index=True,\n",
    "    )\n"
   ],
   "outputs": [],
   "metadata": {}
  },
  {
   "cell_type": "code",
   "execution_count": 19,
   "source": [
    "df_reports=df_reports.sort_values(by=[\"completed_at\", \"user_id\"],ascending=False, ignore_index=True)\n",
    "df_reports['started_at']=df_reports['started_at'].astype('str')\n",
    "df_reports['completed_at']=df_reports['completed_at'].astype('str')\n",
    "df_reports.to_excel(\n",
    "    f\"../data/out/{today_files}_TalentCards users reports.xlsx\", index=False\n",
    ")"
   ],
   "outputs": [],
   "metadata": {}
  },
  {
   "cell_type": "markdown",
   "source": [
    "# SCRIPTING"
   ],
   "metadata": {
    "tags": []
   }
  }
 ],
 "metadata": {
  "environment": {
   "name": "common-cpu.m75",
   "type": "gcloud",
   "uri": "gcr.io/deeplearning-platform-release/base-cpu:m75"
  },
  "jupytext": {
   "formats": "ipynb,py:percent"
  },
  "kernelspec": {
   "name": "python397jvsc74a57bd0cb1ba7f150d507ef1d1f1d30ab3b3b7b717d1d8faf2da1e077dd27ab2e32b187",
   "language": "python",
   "display_name": "Python 3.9.7 64-bit ('std_env': conda)"
  },
  "language_info": {
   "codemirror_mode": {
    "name": "ipython",
    "version": 3
   },
   "file_extension": ".py",
   "mimetype": "text/x-python",
   "name": "python",
   "nbconvert_exporter": "python",
   "pygments_lexer": "ipython3",
   "version": "3.9.7"
  },
  "interpreter": {
   "hash": "cb1ba7f150d507ef1d1f1d30ab3b3b7b717d1d8faf2da1e077dd27ab2e32b187"
  }
 },
 "nbformat": 4,
 "nbformat_minor": 5
}