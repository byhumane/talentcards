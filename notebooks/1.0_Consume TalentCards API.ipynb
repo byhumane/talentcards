{
 "cells": [
  {
   "cell_type": "markdown",
   "id": "ce1d88fc",
   "metadata": {},
   "source": [
    "# GOAL\n",
    "- Interact with TalentCards apis\n",
    "- Get users data\n",
    "- Get activity data"
   ]
  },
  {
   "cell_type": "markdown",
   "id": "ecca6fe4",
   "metadata": {},
   "source": [
    "# PACKAGES"
   ]
  },
  {
   "cell_type": "code",
   "execution_count": 6,
   "id": "65d80a7d",
   "metadata": {},
   "outputs": [],
   "source": [
    "import pandas as pd\n",
    "import requests\n",
    "from datetime import datetime\n",
    "\n",
    "# from google.oauth2 import service_account\n",
    "# from oauth2client.service_account import ServiceAccountCredentials"
   ]
  },
  {
   "cell_type": "markdown",
   "id": "40db82e0",
   "metadata": {
    "tags": []
   },
   "source": [
    "# PARAMETERS"
   ]
  },
  {
   "cell_type": "code",
   "execution_count": 7,
   "id": "ab517b0a",
   "metadata": {},
   "outputs": [],
   "source": [
    "access_token = open(\"../keys/talentcards.txt\", mode=\"r\").readline()\n",
    "group = 1818\n",
    "today = pd.Timestamp.today().strftime(\"%Y-%m-%d\")\n",
    "today_files = pd.Timestamp.today().strftime(\"%Y%m%d\")\n",
    "\n",
    "group=1818\n",
    "user = 20129"
   ]
  },
  {
   "cell_type": "markdown",
   "id": "7e429614",
   "metadata": {},
   "source": [
    "# FUNCTIONS"
   ]
  },
  {
   "cell_type": "markdown",
   "id": "f8ea79c9",
   "metadata": {
    "tags": []
   },
   "source": [
    "## fix_columns_to_upload_to_bq"
   ]
  },
  {
   "cell_type": "code",
   "execution_count": 8,
   "id": "9d5ae418",
   "metadata": {},
   "outputs": [],
   "source": [
    "def fix_columns_to_upload_to_bq(df):\n",
    "    fixed_columns = [column.replace(\"-\", \"_\") for column in df.columns.tolist()]\n",
    "    df.columns = fixed_columns\n",
    "    return df"
   ]
  },
  {
   "cell_type": "markdown",
   "id": "a2c6b864",
   "metadata": {
    "tags": []
   },
   "source": [
    "## get_users_data"
   ]
  },
  {
   "cell_type": "code",
   "execution_count": 9,
   "id": "8ba3895f",
   "metadata": {},
   "outputs": [],
   "source": [
    "def get_users_data(group_id=1818):\n",
    "    \"\"\"Get user details data from Talentlms API.\n",
    "\n",
    "    Returns:\n",
    "      Dictionary with userS details data.\n",
    "    \"\"\"\n",
    "    users = []\n",
    "    base_url = \"https://www.talentcards.io/api/v1\"\n",
    "    headers = {\n",
    "        \"Authorization\": f\"Bearer {access_token}\",\n",
    "        \"Content-type\": \"application/json\",\n",
    "        \"Accept\": \"application/json\",\n",
    "    }\n",
    "    users=[requests.get(f\"{base_url}/company/groups/{group_id}/users\", headers=headers).json()]\n",
    "    num_pages = users[0][\"meta\"][\"last_page\"]\n",
    "    if num_pages > 1:\n",
    "        for page in range(2, num_pages + 1):\n",
    "            users.append(\n",
    "                requests.get(\n",
    "                    f\"{base_url}/company/groups/{group_id}/users\",\n",
    "                    headers=headers,\n",
    "                    params={\"page[number]\": page},\n",
    "                ).json()\n",
    "            )\n",
    "    return users"
   ]
  },
  {
   "cell_type": "markdown",
   "id": "42c757c0",
   "metadata": {},
   "source": [
    "## process_user_data"
   ]
  },
  {
   "cell_type": "code",
   "execution_count": 10,
   "id": "e867c72c",
   "metadata": {
    "tags": []
   },
   "outputs": [],
   "source": [
    "def process_user_data(raw_data, date):\n",
    "    \"\"\"Process raw data to get only desired data.\n",
    "\n",
    "    Args:\n",
    "      date:\n",
    "      raw_data (List): List of jason api responses.\n",
    "\n",
    "    Returns:\n",
    "      Pandas dataframe pandas with structured data.\n",
    "    \"\"\"\n",
    "    users_df = pd.DataFrame()\n",
    "    for response in raw_data:\n",
    "        users_list = []\n",
    "        for user in response[\"data\"]:\n",
    "            users_dict = {\"user_id\": user[\"id\"]}\n",
    "            users_dict.update(user[\"attributes\"])\n",
    "            update_at = user[\"attributes\"][\"updated-at\"][:-6]\n",
    "            update_at_date = datetime.strptime(update_at, \"%Y-%m-%dT%H:%M:%S\")\n",
    "            users_dict[\"updated_at\"] = update_at_date\n",
    "            users_dict[\"days_since_last_login\"] = (datetime.now() - update_at_date).days\n",
    "            users_dict[\"date_str\"] = date\n",
    "            del users_dict[\"updated-at\"]\n",
    "            users_list.append(users_dict)\n",
    "        response_df = pd.DataFrame(users_list)\n",
    "        users_df = users_df.append(response_df, ignore_index=True)\n",
    "    users_df = users_df.sort_values(by=\"user_id\", ignore_index=True)\n",
    "    return fix_columns_to_upload_to_bq(users_df)"
   ]
  },
  {
   "cell_type": "markdown",
   "id": "fb4bfaf6",
   "metadata": {},
   "source": [
    "## get_reports_data"
   ]
  },
  {
   "cell_type": "code",
   "execution_count": 11,
   "id": "4fa0d619",
   "metadata": {},
   "outputs": [],
   "source": [
    "def get_reports_data(group=1818, user=20129):\n",
    "    \"\"\"Get user details data from Talentlms API.\n",
    "\n",
    "    Returns:\n",
    "      Dictionary with userS details data.\n",
    "    \"\"\"\n",
    "    base_url = \"https://www.talentcards.io/api/v1\"\n",
    "    headers = {\n",
    "        \"Authorization\": f\"Bearer {access_token}\",\n",
    "        \"Content-type\": \"application/json\",\n",
    "        \"Accept\": \"application/json\",\n",
    "    }\n",
    "    response = []\n",
    "    response.append(\n",
    "        requests.get(\n",
    "            f\"{base_url}/company/groups/{group}/users/{user}/reports\",\n",
    "            headers=headers,\n",
    "        ).json()\n",
    "    )\n",
    "    try:    \n",
    "        num_pages = response[0][\"meta\"][\"last_page\"]\n",
    "        if num_pages > 1:\n",
    "            for page in range(2, num_pages + 1):\n",
    "                response.append(\n",
    "                    requests.get(\n",
    "                        f\"{base_url}/company/groups/{group}/users/{user}/reports\",\n",
    "                        headers=headers,\n",
    "                    ).json()\n",
    "                )\n",
    "        user_report = {\"group\": group, \"user\": user, \"reports\": response}\n",
    "    except:\n",
    "        pass\n",
    "    return user_report"
   ]
  },
  {
   "cell_type": "markdown",
   "id": "369b544f",
   "metadata": {},
   "source": [
    "## process_reports_data"
   ]
  },
  {
   "cell_type": "code",
   "execution_count": 12,
   "id": "915d9df5",
   "metadata": {},
   "outputs": [],
   "source": [
    "def process_reports_data(user_report_dict):\n",
    "    \"\"\"Process json user_report to get only desired data.\n",
    "\n",
    "    Args:\n",
    "      date:\n",
    "      reports_data (Dict): Semi-structured json data.\n",
    "\n",
    "    Returns:\n",
    "      Pandas dataframe pandas with structured data.\n",
    "    \"\"\"\n",
    "\n",
    "    report = []\n",
    "    for page in user_report_dict[\"reports\"]:\n",
    "        for entry in page[\"data\"]:\n",
    "            if entry[\"type\"] == \"user-set-reports\":\n",
    "                report_dict = {\n",
    "                    \"group_id\": user_report_dict[\"group\"],\n",
    "                    \"user_id\": user_report_dict[\"user\"],\n",
    "                    \"sequence_id\": \"\",\n",
    "                    \"set_id\": entry[\"id\"],\n",
    "                    \"set-tests\": entry[\"meta\"][\"report\"][\"set-tests\"],\n",
    "                    \"finished-tests\": entry[\"meta\"][\"report\"][\"finished-tests\"],\n",
    "                    \"progress\": entry[\"meta\"][\"report\"][\"progress\"],\n",
    "                    \"cards\": entry[\"meta\"][\"report\"][\"cards\"],\n",
    "                    \"tests\": entry[\"meta\"][\"report\"][\"tests\"],\n",
    "                    \"started-at\": entry[\"meta\"][\"report\"][\"started-at\"],\n",
    "                    \"completed-at\": entry[\"meta\"][\"report\"][\"completed-at\"],\n",
    "                }\n",
    "                report.append(report_dict)\n",
    "            elif entry[\"type\"] == \"user-sequence-reports\":\n",
    "                for card_set in entry[\"meta\"][\"reports\"]:\n",
    "                    report_dict = {\n",
    "                        \"group_id\": user_report_dict[\"group\"],\n",
    "                        \"user_id\": user_report_dict[\"user\"],\n",
    "                        \"sequence_id\": entry[\"id\"],\n",
    "                        \"set_id\": card_set[\"id\"],\n",
    "                        \"set-tests\": card_set[\"meta\"][\"report\"][\"set-tests\"],\n",
    "                        \"finished-tests\": card_set[\"meta\"][\"report\"][\"finished-tests\"],\n",
    "                        \"progress\": card_set[\"meta\"][\"report\"][\"progress\"],\n",
    "                        \"cards\": card_set[\"meta\"][\"report\"][\"cards\"],\n",
    "                        \"tests\": card_set[\"meta\"][\"report\"][\"tests\"],\n",
    "                        \"started-at\": card_set[\"meta\"][\"report\"][\"started-at\"],\n",
    "                        \"completed-at\": card_set[\"meta\"][\"report\"][\"completed-at\"],\n",
    "                    }\n",
    "                    report.append(report_dict)\n",
    "        reports_df = pd.DataFrame(report)\n",
    "        reports_df[\"started-at\"] = pd.to_datetime(reports_df[\"started-at\"].fillna(pd.NaT),utc=True).dt.tz_convert(\"America/Sao_paulo\")\n",
    "        reports_df[\"completed-at\"] = pd.to_datetime(reports_df[\"completed-at\"].fillna(pd.NaT),utc=True).dt.tz_convert(\"America/Sao_paulo\")\n",
    "\n",
    "    return fix_columns_to_upload_to_bq(reports_df)"
   ]
  },
  {
   "cell_type": "markdown",
   "id": "061e0f63",
   "metadata": {
    "tags": []
   },
   "source": [
    "# DATA WRANGLING"
   ]
  },
  {
   "cell_type": "markdown",
   "id": "f98c8e15",
   "metadata": {},
   "source": [
    "##  users data"
   ]
  },
  {
   "cell_type": "code",
   "execution_count": 13,
   "id": "69dd8c21",
   "metadata": {},
   "outputs": [],
   "source": [
    "df_users = process_user_data(get_users_data(), today)"
   ]
  },
  {
   "cell_type": "code",
   "execution_count": 14,
   "id": "e6c9b44a",
   "metadata": {},
   "outputs": [],
   "source": [
    "df_users.to_excel(\n",
    "    f\"../data/out/{today_files}_TalenCards users extraction.xlsx\", index=False\n",
    ")"
   ]
  },
  {
   "cell_type": "code",
   "execution_count": 15,
   "id": "4685bca5",
   "metadata": {},
   "outputs": [
    {
     "data": {
      "text/plain": [
       "(39, 11)"
      ]
     },
     "execution_count": 15,
     "metadata": {},
     "output_type": "execute_result"
    }
   ],
   "source": [
    "df_users.shape"
   ]
  },
  {
   "cell_type": "markdown",
   "id": "0bf38b28",
   "metadata": {},
   "source": [
    "## user report"
   ]
  },
  {
   "cell_type": "code",
   "execution_count": 16,
   "id": "e548b103",
   "metadata": {},
   "outputs": [],
   "source": [
    "user_report = get_reports_data(group=group, user=user)"
   ]
  },
  {
   "cell_type": "code",
   "execution_count": 17,
   "id": "8c7c3c58",
   "metadata": {},
   "outputs": [
    {
     "data": {
      "text/html": [
       "<div>\n",
       "<style scoped>\n",
       "    .dataframe tbody tr th:only-of-type {\n",
       "        vertical-align: middle;\n",
       "    }\n",
       "\n",
       "    .dataframe tbody tr th {\n",
       "        vertical-align: top;\n",
       "    }\n",
       "\n",
       "    .dataframe thead th {\n",
       "        text-align: right;\n",
       "    }\n",
       "</style>\n",
       "<table border=\"1\" class=\"dataframe\">\n",
       "  <thead>\n",
       "    <tr style=\"text-align: right;\">\n",
       "      <th></th>\n",
       "      <th>group_id</th>\n",
       "      <th>user_id</th>\n",
       "      <th>sequence_id</th>\n",
       "      <th>set_id</th>\n",
       "      <th>set_tests</th>\n",
       "      <th>finished_tests</th>\n",
       "      <th>progress</th>\n",
       "      <th>cards</th>\n",
       "      <th>tests</th>\n",
       "      <th>started_at</th>\n",
       "      <th>completed_at</th>\n",
       "    </tr>\n",
       "  </thead>\n",
       "  <tbody>\n",
       "    <tr>\n",
       "      <th>0</th>\n",
       "      <td>1818</td>\n",
       "      <td>20129</td>\n",
       "      <td></td>\n",
       "      <td>11474</td>\n",
       "      <td>0</td>\n",
       "      <td>0</td>\n",
       "      <td>100</td>\n",
       "      <td>13</td>\n",
       "      <td>0</td>\n",
       "      <td>2021-08-20 11:33:41-03:00</td>\n",
       "      <td>2021-08-20 11:33:47-03:00</td>\n",
       "    </tr>\n",
       "    <tr>\n",
       "      <th>1</th>\n",
       "      <td>1818</td>\n",
       "      <td>20129</td>\n",
       "      <td>237</td>\n",
       "      <td>11401</td>\n",
       "      <td>2</td>\n",
       "      <td>2</td>\n",
       "      <td>100</td>\n",
       "      <td>18</td>\n",
       "      <td>2</td>\n",
       "      <td>2021-08-20 12:17:01-03:00</td>\n",
       "      <td>2021-08-20 12:17:59-03:00</td>\n",
       "    </tr>\n",
       "    <tr>\n",
       "      <th>2</th>\n",
       "      <td>1818</td>\n",
       "      <td>20129</td>\n",
       "      <td>237</td>\n",
       "      <td>11457</td>\n",
       "      <td>1</td>\n",
       "      <td>1</td>\n",
       "      <td>100</td>\n",
       "      <td>3</td>\n",
       "      <td>1</td>\n",
       "      <td>2021-08-20 12:18:04-03:00</td>\n",
       "      <td>2021-08-20 12:18:34-03:00</td>\n",
       "    </tr>\n",
       "    <tr>\n",
       "      <th>3</th>\n",
       "      <td>1818</td>\n",
       "      <td>20129</td>\n",
       "      <td></td>\n",
       "      <td>11401</td>\n",
       "      <td>2</td>\n",
       "      <td>2</td>\n",
       "      <td>100</td>\n",
       "      <td>18</td>\n",
       "      <td>2</td>\n",
       "      <td>2021-08-20 12:17:01-03:00</td>\n",
       "      <td>2021-08-20 12:17:59-03:00</td>\n",
       "    </tr>\n",
       "    <tr>\n",
       "      <th>4</th>\n",
       "      <td>1818</td>\n",
       "      <td>20129</td>\n",
       "      <td></td>\n",
       "      <td>11457</td>\n",
       "      <td>1</td>\n",
       "      <td>1</td>\n",
       "      <td>100</td>\n",
       "      <td>3</td>\n",
       "      <td>1</td>\n",
       "      <td>2021-08-20 12:18:04-03:00</td>\n",
       "      <td>2021-08-20 12:18:34-03:00</td>\n",
       "    </tr>\n",
       "    <tr>\n",
       "      <th>5</th>\n",
       "      <td>1818</td>\n",
       "      <td>20129</td>\n",
       "      <td></td>\n",
       "      <td>11433</td>\n",
       "      <td>3</td>\n",
       "      <td>3</td>\n",
       "      <td>100</td>\n",
       "      <td>16</td>\n",
       "      <td>3</td>\n",
       "      <td>2021-08-20 14:39:42-03:00</td>\n",
       "      <td>2021-08-20 14:40:48-03:00</td>\n",
       "    </tr>\n",
       "  </tbody>\n",
       "</table>\n",
       "</div>"
      ],
      "text/plain": [
       "   group_id  user_id sequence_id set_id  set_tests  finished_tests  progress  \\\n",
       "0      1818    20129              11474          0               0       100   \n",
       "1      1818    20129         237  11401          2               2       100   \n",
       "2      1818    20129         237  11457          1               1       100   \n",
       "3      1818    20129              11401          2               2       100   \n",
       "4      1818    20129              11457          1               1       100   \n",
       "5      1818    20129              11433          3               3       100   \n",
       "\n",
       "   cards  tests                started_at              completed_at  \n",
       "0     13      0 2021-08-20 11:33:41-03:00 2021-08-20 11:33:47-03:00  \n",
       "1     18      2 2021-08-20 12:17:01-03:00 2021-08-20 12:17:59-03:00  \n",
       "2      3      1 2021-08-20 12:18:04-03:00 2021-08-20 12:18:34-03:00  \n",
       "3     18      2 2021-08-20 12:17:01-03:00 2021-08-20 12:17:59-03:00  \n",
       "4      3      1 2021-08-20 12:18:04-03:00 2021-08-20 12:18:34-03:00  \n",
       "5     16      3 2021-08-20 14:39:42-03:00 2021-08-20 14:40:48-03:00  "
      ]
     },
     "execution_count": 17,
     "metadata": {},
     "output_type": "execute_result"
    }
   ],
   "source": [
    "df_report = process_reports_data(user_report_dict=user_report)\n",
    "df_report"
   ]
  },
  {
   "cell_type": "markdown",
   "id": "d70f5215",
   "metadata": {},
   "source": [
    "## all users reports"
   ]
  },
  {
   "cell_type": "code",
   "execution_count": 18,
   "id": "8fdb2732",
   "metadata": {},
   "outputs": [],
   "source": [
    "users_id = list(df_users[\"user_id\"].unique())\n",
    "\n",
    "df_reports = pd.DataFrame()\n",
    "for user in users_id:\n",
    "    df_reports = df_reports.append(\n",
    "        process_reports_data(get_reports_data(group=group, user=user)),\n",
    "        ignore_index=True,\n",
    "    )\n"
   ]
  },
  {
   "cell_type": "code",
   "execution_count": 19,
   "id": "27bcdc51",
   "metadata": {},
   "outputs": [],
   "source": [
    "df_reports=df_reports.sort_values(by=[\"completed_at\", \"user_id\"],ascending=False, ignore_index=True)\n",
    "df_reports['started_at']=df_reports['started_at'].astype('str')\n",
    "df_reports['completed_at']=df_reports['completed_at'].astype('str')\n",
    "df_reports.to_excel(\n",
    "    f\"../data/out/{today_files}_TalentCards users reports.xlsx\", index=False\n",
    ")"
   ]
  },
  {
   "cell_type": "markdown",
   "id": "8a2ce976",
   "metadata": {
    "tags": []
   },
   "source": [
    "# SCRIPTING"
   ]
  }
 ],
 "metadata": {
  "environment": {
   "name": "common-cpu.m75",
   "type": "gcloud",
   "uri": "gcr.io/deeplearning-platform-release/base-cpu:m75"
  },
  "jupytext": {
   "formats": "ipynb,py:percent"
  },
  "kernelspec": {
   "display_name": "Python [conda env:std_env]",
   "language": "python",
   "name": "conda-env-std_env-py"
  },
  "language_info": {
   "codemirror_mode": {
    "name": "ipython",
    "version": 3
   },
   "file_extension": ".py",
   "mimetype": "text/x-python",
   "name": "python",
   "nbconvert_exporter": "python",
   "pygments_lexer": "ipython3",
   "version": "3.9.6"
  }
 },
 "nbformat": 4,
 "nbformat_minor": 5
}
