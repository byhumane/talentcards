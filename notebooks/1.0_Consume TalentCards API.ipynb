{
 "cells": [
  {
   "cell_type": "markdown",
   "id": "96248c9c",
   "metadata": {},
   "source": [
    "# GOAL\n",
    "- Interact with TalentCards apis\n",
    "- Get users data\n",
    "- Get activity data"
   ]
  },
  {
   "cell_type": "markdown",
   "id": "a0221140",
   "metadata": {},
   "source": [
    "# PACKAGES"
   ]
  },
  {
   "cell_type": "code",
   "execution_count": 1,
   "id": "cd7bc004",
   "metadata": {},
   "outputs": [],
   "source": [
    "import pandas as pd\n",
    "import requests\n",
    "from datetime import datetime\n",
    "\n",
    "# from google.oauth2 import service_account\n",
    "# from oauth2client.service_account import ServiceAccountCredentials"
   ]
  },
  {
   "cell_type": "markdown",
   "id": "1db763f6",
   "metadata": {
    "tags": []
   },
   "source": [
    "# PARAMETERS"
   ]
  },
  {
   "cell_type": "code",
   "execution_count": 2,
   "id": "2c39ff72",
   "metadata": {},
   "outputs": [],
   "source": [
    "access_token = open(\"../keys/talentcards.txt\", mode=\"r\").readline()\n",
    "group = 1818\n",
    "today = pd.Timestamp.today().strftime(\"%Y-%m-%d\")\n",
    "today_files = pd.Timestamp.today().strftime(\"%Y%m%d\")\n",
    "\n",
    "group=1818\n",
    "user = 20129"
   ]
  },
  {
   "cell_type": "markdown",
   "id": "b9071d4e",
   "metadata": {},
   "source": [
    "# FUNCTIONS"
   ]
  },
  {
   "cell_type": "markdown",
   "id": "572d642a",
   "metadata": {
    "tags": []
   },
   "source": [
    "## fix_columns_to_upload_to_bq"
   ]
  },
  {
   "cell_type": "code",
   "execution_count": 3,
   "id": "f4bba2e7",
   "metadata": {},
   "outputs": [],
   "source": [
    "def fix_columns_to_upload_to_bq(df: pd.DataFrame):\n",
    "    fixed_columns = [column.replace(\"-\", \"_\") for column in df.columns.tolist()]\n",
    "    df.columns = fixed_columns\n",
    "    return df"
   ]
  },
  {
   "cell_type": "markdown",
   "id": "54bba0ab",
   "metadata": {
    "tags": []
   },
   "source": [
    "## get_users_data"
   ]
  },
  {
   "cell_type": "code",
   "execution_count": 47,
   "id": "bcea3d6e",
   "metadata": {},
   "outputs": [],
   "source": [
    "def get_users_data(group_id=1818):\n",
    "    \"\"\"Get user details data from Talentlms API.\n",
    "\n",
    "    Returns:\n",
    "      Dictionary with userS details data.\n",
    "    \"\"\"\n",
    "    users = []\n",
    "    base_url = \"https://www.talentcards.io/api/v1\"\n",
    "    headers = {\n",
    "        \"Authorization\": f\"Bearer {access_token}\",\n",
    "        \"Content-type\": \"application/json\",\n",
    "        \"Accept\": \"application/json\",\n",
    "    }\n",
    "    users=[requests.get(f\"{base_url}/company/groups/{group_id}/users\", headers=headers).json()]\n",
    "    num_pages = users[0][\"meta\"][\"last_page\"]\n",
    "    if num_pages > 1:\n",
    "        for page in range(2, num_pages + 1):\n",
    "            users.append(\n",
    "                requests.get(\n",
    "                    f\"{base_url}/company/groups/{group_id}/users\",\n",
    "                    headers=headers,\n",
    "                    params={\"page[number]\": page},\n",
    "                ).json()\n",
    "            )\n",
    "    return users"
   ]
  },
  {
   "cell_type": "markdown",
   "id": "46b04abe",
   "metadata": {},
   "source": [
    "## process_user_data"
   ]
  },
  {
   "cell_type": "code",
   "execution_count": 37,
   "id": "8b54d2fc",
   "metadata": {
    "tags": []
   },
   "outputs": [],
   "source": [
    "def process_user_data(raw_data, date):\n",
    "    \"\"\"Process raw data to get only desired data.\n",
    "\n",
    "    Args:\n",
    "      date:\n",
    "      raw_data (List): List of jason api responses.\n",
    "\n",
    "    Returns:\n",
    "      Pandas dataframe pandas with structured data.\n",
    "    \"\"\"\n",
    "    users_df = pd.DataFrame()\n",
    "    for response in raw_data:\n",
    "        users_list = []\n",
    "        for user in response[\"data\"]:\n",
    "            users_dict = {\"user_id\": user[\"id\"]}\n",
    "            users_dict.update(user[\"attributes\"])\n",
    "            update_at = user[\"attributes\"][\"updated-at\"][:-6]\n",
    "            update_at_date = datetime.strptime(update_at, \"%Y-%m-%dT%H:%M:%S\")\n",
    "            users_dict[\"updated_at\"] = update_at_date\n",
    "            users_dict[\"days_since_last_login\"] = (datetime.now() - update_at_date).days\n",
    "            users_dict[\"date_str\"] = date\n",
    "            del users_dict[\"updated-at\"]\n",
    "            users_list.append(users_dict)\n",
    "        response_df = pd.DataFrame(users_list)\n",
    "        users_df = users_df.append(response_df, ignore_index=True)\n",
    "    users_df = users_df.sort_values(by=\"user_id\", ignore_index=True)\n",
    "    return users_df"
   ]
  },
  {
   "cell_type": "markdown",
   "id": "c3700fc8",
   "metadata": {},
   "source": [
    "## get_reports_data"
   ]
  },
  {
   "cell_type": "code",
   "execution_count": 48,
   "id": "1b4a1785",
   "metadata": {},
   "outputs": [],
   "source": [
    "def get_reports_data(group=1818, user=20129):\n",
    "    \"\"\"Get user details data from Talentlms API.\n",
    "\n",
    "    Returns:\n",
    "      Dictionary with userS details data.\n",
    "    \"\"\"\n",
    "    base_url = \"https://www.talentcards.io/api/v1\"\n",
    "    headers = {\n",
    "        \"Authorization\": f\"Bearer {access_token}\",\n",
    "        \"Content-type\": \"application/json\",\n",
    "        \"Accept\": \"application/json\",\n",
    "    }\n",
    "    response = []\n",
    "    response.append(\n",
    "        requests.get(\n",
    "            f\"{base_url}/company/groups/{group}/users/{user}/reports\",\n",
    "            headers=headers,\n",
    "        ).json()\n",
    "    )\n",
    "    try:    \n",
    "        num_pages = response[0][\"meta\"][\"last_page\"]\n",
    "        if num_pages > 1:\n",
    "            for page in range(2, num_pages + 1):\n",
    "                response.append(\n",
    "                    requests.get(\n",
    "                        f\"{base_url}/company/groups/{group}/users/{user}/reports\",\n",
    "                        headers=headers,\n",
    "                    ).json()\n",
    "                )\n",
    "        user_report = {\"group\": group, \"user\": user, \"reports\": response}\n",
    "    except:\n",
    "        pass\n",
    "    return user_report"
   ]
  },
  {
   "cell_type": "markdown",
   "id": "df026bb6",
   "metadata": {},
   "source": [
    "## process_reports_data"
   ]
  },
  {
   "cell_type": "code",
   "execution_count": 64,
   "id": "50faf175",
   "metadata": {},
   "outputs": [],
   "source": [
    "def process_reports_data(user_report_dict):\n",
    "    \"\"\"Process json user_report to get only desired data.\n",
    "\n",
    "    Args:\n",
    "      date:\n",
    "      reports_data (Dict): Semi-structured json data.\n",
    "\n",
    "    Returns:\n",
    "      Pandas dataframe pandas with structured data.\n",
    "    \"\"\"\n",
    "\n",
    "    report = []\n",
    "    for page in user_report_dict[\"reports\"]:\n",
    "        for entry in page[\"data\"]:\n",
    "            if entry[\"type\"] == \"user-set-reports\":\n",
    "                report_dict = {\n",
    "                    \"group_id\": user_report_dict[\"group\"],\n",
    "                    \"user_id\": user_report_dict[\"user\"],\n",
    "                    \"sequence_id\": \"\",\n",
    "                    \"set_id\": entry[\"id\"],\n",
    "                    \"set-tests\": entry[\"meta\"][\"report\"][\"set-tests\"],\n",
    "                    \"finished-tests\": entry[\"meta\"][\"report\"][\"finished-tests\"],\n",
    "                    \"progress\": entry[\"meta\"][\"report\"][\"progress\"],\n",
    "                    \"cards\": entry[\"meta\"][\"report\"][\"cards\"],\n",
    "                    \"tests\": entry[\"meta\"][\"report\"][\"tests\"],\n",
    "                    \"started-at\": entry[\"meta\"][\"report\"][\"started-at\"],\n",
    "                    \"completed-at\": entry[\"meta\"][\"report\"][\"completed-at\"],\n",
    "                }\n",
    "                report.append(report_dict)\n",
    "            elif entry[\"type\"] == \"user-sequence-reports\":\n",
    "                for card_set in entry[\"meta\"][\"reports\"]:\n",
    "                    report_dict = {\n",
    "                        \"group_id\": user_report_dict[\"group\"],\n",
    "                        \"user_id\": user_report_dict[\"user\"],\n",
    "                        \"sequence_id\": entry[\"id\"],\n",
    "                        \"set_id\": card_set[\"id\"],\n",
    "                        \"set-tests\": card_set[\"meta\"][\"report\"][\"set-tests\"],\n",
    "                        \"finished-tests\": card_set[\"meta\"][\"report\"][\"finished-tests\"],\n",
    "                        \"progress\": card_set[\"meta\"][\"report\"][\"progress\"],\n",
    "                        \"cards\": card_set[\"meta\"][\"report\"][\"cards\"],\n",
    "                        \"tests\": card_set[\"meta\"][\"report\"][\"tests\"],\n",
    "                        \"started-at\": card_set[\"meta\"][\"report\"][\"started-at\"],\n",
    "                        \"completed-at\": card_set[\"meta\"][\"report\"][\"completed-at\"],\n",
    "                    }\n",
    "                    report.append(report_dict)\n",
    "        reports_df = pd.DataFrame(report)\n",
    "        reports_df[\"started-at\"] = pd.to_datetime(reports_df[\"started-at\"].fillna(pd.NaT),utc=True).dt.tz_convert(\"America/Sao_paulo\")\n",
    "        reports_df[\"completed-at\"] = pd.to_datetime(reports_df[\"completed-at\"].fillna(pd.NaT),utc=True).dt.tz_convert(\"America/Sao_paulo\")\n",
    "\n",
    "    return fix_columns_to_upload_to_bq(reports_df)"
   ]
  },
  {
   "cell_type": "markdown",
   "id": "6ca5e5a9",
   "metadata": {
    "tags": []
   },
   "source": [
    "# DATA WRANGLING"
   ]
  },
  {
   "cell_type": "markdown",
   "id": "a032e8d6",
   "metadata": {},
   "source": [
    "##  users data"
   ]
  },
  {
   "cell_type": "code",
   "execution_count": 29,
   "id": "3a0174f0",
   "metadata": {},
   "outputs": [],
   "source": [
    "df_users = process_user_data(get_users_data(), today)"
   ]
  },
  {
   "cell_type": "code",
   "execution_count": 30,
   "id": "13310fb8",
   "metadata": {},
   "outputs": [],
   "source": [
    "df_users.to_excel(\n",
    "    f\"../data/out/{today_files}_TalenCards users extraction.xlsx\", index=False\n",
    ")"
   ]
  },
  {
   "cell_type": "code",
   "execution_count": 31,
   "id": "acf7b1f6",
   "metadata": {},
   "outputs": [
    {
     "data": {
      "text/plain": [
       "(39, 11)"
      ]
     },
     "execution_count": 31,
     "metadata": {},
     "output_type": "execute_result"
    }
   ],
   "source": [
    "df_users.shape"
   ]
  },
  {
   "cell_type": "markdown",
   "id": "a4533d22",
   "metadata": {},
   "source": [
    "## user report"
   ]
  },
  {
   "cell_type": "code",
   "execution_count": 44,
   "id": "b6af8b04",
   "metadata": {},
   "outputs": [],
   "source": [
    "user_report = get_reports_data(group=group, user=user)"
   ]
  },
  {
   "cell_type": "code",
   "execution_count": 45,
   "id": "91098e9b",
   "metadata": {},
   "outputs": [
    {
     "ename": "TypeError",
     "evalue": "'NoneType' object is not subscriptable",
     "output_type": "error",
     "traceback": [
      "\u001b[0;31m---------------------------------------------------------------------------\u001b[0m",
      "\u001b[0;31mTypeError\u001b[0m                                 Traceback (most recent call last)",
      "\u001b[0;32m/tmp/ipykernel_9894/3935582579.py\u001b[0m in \u001b[0;36m<module>\u001b[0;34m\u001b[0m\n\u001b[0;32m----> 1\u001b[0;31m \u001b[0mdf_report\u001b[0m \u001b[0;34m=\u001b[0m \u001b[0mprocess_reports_data\u001b[0m\u001b[0;34m(\u001b[0m\u001b[0muser_report_dict\u001b[0m\u001b[0;34m=\u001b[0m\u001b[0muser_report\u001b[0m\u001b[0;34m)\u001b[0m\u001b[0;34m\u001b[0m\u001b[0;34m\u001b[0m\u001b[0m\n\u001b[0m\u001b[1;32m      2\u001b[0m \u001b[0mdf_report\u001b[0m\u001b[0;34m\u001b[0m\u001b[0;34m\u001b[0m\u001b[0m\n",
      "\u001b[0;32m/tmp/ipykernel_9894/2971423509.py\u001b[0m in \u001b[0;36mprocess_reports_data\u001b[0;34m(user_report_dict)\u001b[0m\n\u001b[1;32m     11\u001b[0m \u001b[0;34m\u001b[0m\u001b[0m\n\u001b[1;32m     12\u001b[0m     \u001b[0mreport\u001b[0m \u001b[0;34m=\u001b[0m \u001b[0;34m[\u001b[0m\u001b[0;34m]\u001b[0m\u001b[0;34m\u001b[0m\u001b[0;34m\u001b[0m\u001b[0m\n\u001b[0;32m---> 13\u001b[0;31m     \u001b[0;32mfor\u001b[0m \u001b[0mpage\u001b[0m \u001b[0;32min\u001b[0m \u001b[0muser_report_dict\u001b[0m\u001b[0;34m[\u001b[0m\u001b[0;34m\"reports\"\u001b[0m\u001b[0;34m]\u001b[0m\u001b[0;34m:\u001b[0m\u001b[0;34m\u001b[0m\u001b[0;34m\u001b[0m\u001b[0m\n\u001b[0m\u001b[1;32m     14\u001b[0m         \u001b[0;32mfor\u001b[0m \u001b[0mentry\u001b[0m \u001b[0;32min\u001b[0m \u001b[0mpage\u001b[0m\u001b[0;34m[\u001b[0m\u001b[0;34m\"data\"\u001b[0m\u001b[0;34m]\u001b[0m\u001b[0;34m:\u001b[0m\u001b[0;34m\u001b[0m\u001b[0;34m\u001b[0m\u001b[0m\n\u001b[1;32m     15\u001b[0m             \u001b[0;32mif\u001b[0m \u001b[0mentry\u001b[0m\u001b[0;34m[\u001b[0m\u001b[0;34m\"type\"\u001b[0m\u001b[0;34m]\u001b[0m \u001b[0;34m==\u001b[0m \u001b[0;34m\"user-set-reports\"\u001b[0m\u001b[0;34m:\u001b[0m\u001b[0;34m\u001b[0m\u001b[0;34m\u001b[0m\u001b[0m\n",
      "\u001b[0;31mTypeError\u001b[0m: 'NoneType' object is not subscriptable"
     ]
    }
   ],
   "source": [
    "df_report = process_reports_data(user_report_dict=user_report)\n",
    "df_report"
   ]
  },
  {
   "cell_type": "markdown",
   "id": "e29e52a8",
   "metadata": {},
   "source": [
    "## all users reports"
   ]
  },
  {
   "cell_type": "code",
   "execution_count": 72,
   "id": "20e71042",
   "metadata": {},
   "outputs": [],
   "source": [
    "users_id = list(df_users[\"user_id\"].unique())\n",
    "\n",
    "df_reports = pd.DataFrame()\n",
    "for user in users_id:\n",
    "    df_reports = df_reports.append(\n",
    "        process_reports_data(get_reports_data(group=group, user=user)),\n",
    "        ignore_index=True,\n",
    "    )\n"
   ]
  },
  {
   "cell_type": "code",
   "execution_count": 73,
   "id": "960f1a47",
   "metadata": {},
   "outputs": [],
   "source": [
    "df_reports=df_reports.sort_values(by=[\"completed_at\", \"user_id\"],ascending=False, ignore_index=True)\n",
    "df_reports['started_at']=df_reports['started_at'].astype('str')\n",
    "df_reports['completed_at']=df_reports['completed_at'].astype('str')\n",
    "df_reports.to_excel(\n",
    "    f\"../data/out/{today_files}_TalentCards users reports.xlsx\", index=False\n",
    ")"
   ]
  },
  {
   "cell_type": "markdown",
   "id": "2e59fae7",
   "metadata": {
    "tags": []
   },
   "source": [
    "# SCRIPTING"
   ]
  }
 ],
 "metadata": {
  "environment": {
   "name": "common-cpu.m75",
   "type": "gcloud",
   "uri": "gcr.io/deeplearning-platform-release/base-cpu:m75"
  },
  "jupytext": {
   "formats": "ipynb,py:percent"
  },
  "kernelspec": {
   "display_name": "Python [conda env:std_env]",
   "language": "python",
   "name": "conda-env-std_env-py"
  },
  "language_info": {
   "codemirror_mode": {
    "name": "ipython",
    "version": 3
   },
   "file_extension": ".py",
   "mimetype": "text/x-python",
   "name": "python",
   "nbconvert_exporter": "python",
   "pygments_lexer": "ipython3",
   "version": "3.9.6"
  }
 },
 "nbformat": 4,
 "nbformat_minor": 5
}
