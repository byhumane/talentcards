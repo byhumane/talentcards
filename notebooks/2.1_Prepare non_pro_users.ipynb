{
 "cells": [
  {
   "cell_type": "markdown",
   "source": [
    "# GOAL\n",
    "Identify non professional TalentCards users in GBQ."
   ],
   "metadata": {}
  },
  {
   "cell_type": "markdown",
   "source": [
    "# PACKAGES"
   ],
   "metadata": {}
  },
  {
   "cell_type": "code",
   "execution_count": 2,
   "source": [
    "import pandas as pd\n",
    "from google.oauth2 import service_account\n",
    "import pandas_gbq\n",
    "import yaml"
   ],
   "outputs": [],
   "metadata": {}
  },
  {
   "cell_type": "markdown",
   "source": [
    "# PARAMETERS"
   ],
   "metadata": {}
  },
  {
   "cell_type": "code",
   "execution_count": 3,
   "source": [
    "project_id = \"analytics-dev-308300\"\n",
    "\n",
    "credentials = service_account.Credentials.from_service_account_file(\n",
    "    \"../keys/gcp_key.json\",\n",
    ")"
   ],
   "outputs": [],
   "metadata": {}
  },
  {
   "cell_type": "markdown",
   "source": [
    "# FUNCTIONS"
   ],
   "metadata": {}
  },
  {
   "cell_type": "code",
   "execution_count": 3,
   "source": [],
   "outputs": [],
   "metadata": {}
  },
  {
   "cell_type": "markdown",
   "source": [
    "# DATA WRANGLING"
   ],
   "metadata": {}
  },
  {
   "cell_type": "markdown",
   "source": [
    "CSV file was manually generated:\n",
    "- extract list of non-pro users from TalentCards (filter)\n",
    "- manipulate the excel file to include the assotiation and clean any data besides identifier and association\n",
    "- export as csv"
   ],
   "metadata": {}
  },
  {
   "cell_type": "code",
   "execution_count": 4,
   "source": [
    "df_non_pro=pd.read_csv('../params/non_professional_users.csv',sep=';')\n",
    "df_non_pro['Identifier']=df_non_pro['Identifier'].replace({'-':''},regex=True)\n",
    "df_non_pro"
   ],
   "outputs": [
    {
     "data": {
      "text/plain": "      Identifier Association\n0   AQGJEGFMZPFF      Humane\n1   AQZWKMAQHJFL      Danone\n2   AQCAGKPUKWUI      Humane\n3   AQAISHKLLSMM      Humane\n4   AQNCCPYYWMAN      Danone\n5   AQSNUTGKIPXA      Danone\n6   AQOJUJAYOCKL      Danone\n7   AQBJIIYALBBE      Humane\n8   AQHQBUDACZMX      Humane\n9   AQQOKIWJESYZ      Danone\n10  AQITGRRWWCVF      Danone\n11  AQAFCTCXCVLE      Humane\n12  AQZSDRJJNPOF      Humane\n13  AQWPWSQTCCJZ      Humane\n14  AQFRTURQSSHF      Humane\n15  AQXXYWGUMYJZ      Humane\n16  AQIHXWVWAEMC      Humane",
      "text/html": "<div>\n<style scoped>\n    .dataframe tbody tr th:only-of-type {\n        vertical-align: middle;\n    }\n\n    .dataframe tbody tr th {\n        vertical-align: top;\n    }\n\n    .dataframe thead th {\n        text-align: right;\n    }\n</style>\n<table border=\"1\" class=\"dataframe\">\n  <thead>\n    <tr style=\"text-align: right;\">\n      <th></th>\n      <th>Identifier</th>\n      <th>Association</th>\n    </tr>\n  </thead>\n  <tbody>\n    <tr>\n      <th>0</th>\n      <td>AQGJEGFMZPFF</td>\n      <td>Humane</td>\n    </tr>\n    <tr>\n      <th>1</th>\n      <td>AQZWKMAQHJFL</td>\n      <td>Danone</td>\n    </tr>\n    <tr>\n      <th>2</th>\n      <td>AQCAGKPUKWUI</td>\n      <td>Humane</td>\n    </tr>\n    <tr>\n      <th>3</th>\n      <td>AQAISHKLLSMM</td>\n      <td>Humane</td>\n    </tr>\n    <tr>\n      <th>4</th>\n      <td>AQNCCPYYWMAN</td>\n      <td>Danone</td>\n    </tr>\n    <tr>\n      <th>5</th>\n      <td>AQSNUTGKIPXA</td>\n      <td>Danone</td>\n    </tr>\n    <tr>\n      <th>6</th>\n      <td>AQOJUJAYOCKL</td>\n      <td>Danone</td>\n    </tr>\n    <tr>\n      <th>7</th>\n      <td>AQBJIIYALBBE</td>\n      <td>Humane</td>\n    </tr>\n    <tr>\n      <th>8</th>\n      <td>AQHQBUDACZMX</td>\n      <td>Humane</td>\n    </tr>\n    <tr>\n      <th>9</th>\n      <td>AQQOKIWJESYZ</td>\n      <td>Danone</td>\n    </tr>\n    <tr>\n      <th>10</th>\n      <td>AQITGRRWWCVF</td>\n      <td>Danone</td>\n    </tr>\n    <tr>\n      <th>11</th>\n      <td>AQAFCTCXCVLE</td>\n      <td>Humane</td>\n    </tr>\n    <tr>\n      <th>12</th>\n      <td>AQZSDRJJNPOF</td>\n      <td>Humane</td>\n    </tr>\n    <tr>\n      <th>13</th>\n      <td>AQWPWSQTCCJZ</td>\n      <td>Humane</td>\n    </tr>\n    <tr>\n      <th>14</th>\n      <td>AQFRTURQSSHF</td>\n      <td>Humane</td>\n    </tr>\n    <tr>\n      <th>15</th>\n      <td>AQXXYWGUMYJZ</td>\n      <td>Humane</td>\n    </tr>\n    <tr>\n      <th>16</th>\n      <td>AQIHXWVWAEMC</td>\n      <td>Humane</td>\n    </tr>\n  </tbody>\n</table>\n</div>"
     },
     "execution_count": 4,
     "metadata": {},
     "output_type": "execute_result"
    }
   ],
   "metadata": {}
  },
  {
   "cell_type": "code",
   "execution_count": 5,
   "source": [
    "query = \"\"\"\n",
    "SELECT DISTINCT\n",
    "    user_id, access_token\n",
    "FROM\n",
    "    dtm_engagement.dim_users\n",
    "\"\"\"\n",
    "\n",
    "df_bq_users=pd.read_gbq(query=query, credentials=credentials, project_id=project_id)"
   ],
   "outputs": [],
   "metadata": {}
  },
  {
   "cell_type": "code",
   "execution_count": 6,
   "source": [
    "df_bq_users_flagged=(\n",
    "    df_bq_users.merge(df_non_pro,left_on='access_token',right_on='Identifier')\n",
    "    .drop(columns=['Identifier','access_token'])\n",
    "    .rename(columns={'Association':'association'}))\n",
    "df_bq_users_flagged"
   ],
   "outputs": [
    {
     "data": {
      "text/plain": "    user_id association\n0     20029      Humane\n1     20029      Humane\n2     20029      Humane\n3     20030      Humane\n4     20030      Humane\n5     20032      Humane\n6     20100      Humane\n7     20118      Humane\n8     20129      Humane\n9     20136      Danone\n10    20144      Danone\n11    20145      Danone\n12    20146      Danone\n13    20147      Danone\n14    20172      Danone\n15    20565      Humane\n16    20736      Humane",
      "text/html": "<div>\n<style scoped>\n    .dataframe tbody tr th:only-of-type {\n        vertical-align: middle;\n    }\n\n    .dataframe tbody tr th {\n        vertical-align: top;\n    }\n\n    .dataframe thead th {\n        text-align: right;\n    }\n</style>\n<table border=\"1\" class=\"dataframe\">\n  <thead>\n    <tr style=\"text-align: right;\">\n      <th></th>\n      <th>user_id</th>\n      <th>association</th>\n    </tr>\n  </thead>\n  <tbody>\n    <tr>\n      <th>0</th>\n      <td>20029</td>\n      <td>Humane</td>\n    </tr>\n    <tr>\n      <th>1</th>\n      <td>20029</td>\n      <td>Humane</td>\n    </tr>\n    <tr>\n      <th>2</th>\n      <td>20029</td>\n      <td>Humane</td>\n    </tr>\n    <tr>\n      <th>3</th>\n      <td>20030</td>\n      <td>Humane</td>\n    </tr>\n    <tr>\n      <th>4</th>\n      <td>20030</td>\n      <td>Humane</td>\n    </tr>\n    <tr>\n      <th>5</th>\n      <td>20032</td>\n      <td>Humane</td>\n    </tr>\n    <tr>\n      <th>6</th>\n      <td>20100</td>\n      <td>Humane</td>\n    </tr>\n    <tr>\n      <th>7</th>\n      <td>20118</td>\n      <td>Humane</td>\n    </tr>\n    <tr>\n      <th>8</th>\n      <td>20129</td>\n      <td>Humane</td>\n    </tr>\n    <tr>\n      <th>9</th>\n      <td>20136</td>\n      <td>Danone</td>\n    </tr>\n    <tr>\n      <th>10</th>\n      <td>20144</td>\n      <td>Danone</td>\n    </tr>\n    <tr>\n      <th>11</th>\n      <td>20145</td>\n      <td>Danone</td>\n    </tr>\n    <tr>\n      <th>12</th>\n      <td>20146</td>\n      <td>Danone</td>\n    </tr>\n    <tr>\n      <th>13</th>\n      <td>20147</td>\n      <td>Danone</td>\n    </tr>\n    <tr>\n      <th>14</th>\n      <td>20172</td>\n      <td>Danone</td>\n    </tr>\n    <tr>\n      <th>15</th>\n      <td>20565</td>\n      <td>Humane</td>\n    </tr>\n    <tr>\n      <th>16</th>\n      <td>20736</td>\n      <td>Humane</td>\n    </tr>\n  </tbody>\n</table>\n</div>"
     },
     "execution_count": 6,
     "metadata": {},
     "output_type": "execute_result"
    }
   ],
   "metadata": {}
  },
  {
   "cell_type": "code",
   "execution_count": 7,
   "source": [
    "df_bq_users_flagged.to_gbq('talentcards.non_pro_users',if_exists='replace')"
   ],
   "outputs": [
    {
     "name": "stderr",
     "output_type": "stream",
     "text": [
      "1it [00:03,  3.19s/it]\n"
     ]
    }
   ],
   "metadata": {
    "pycharm": {
     "name": "#%%\n"
    }
   }
  }
 ],
 "metadata": {
  "kernelspec": {
   "name": "python3",
   "display_name": "Python 3.9.7 64-bit ('std_env': conda)"
  },
  "language_info": {
   "codemirror_mode": {
    "name": "ipython",
    "version": 3
   },
   "file_extension": ".py",
   "mimetype": "text/x-python",
   "name": "python",
   "nbconvert_exporter": "python",
   "pygments_lexer": "ipython3",
   "version": "3.9.7"
  },
  "interpreter": {
   "hash": "cb1ba7f150d507ef1d1f1d30ab3b3b7b717d1d8faf2da1e077dd27ab2e32b187"
  }
 },
 "nbformat": 4,
 "nbformat_minor": 5
}