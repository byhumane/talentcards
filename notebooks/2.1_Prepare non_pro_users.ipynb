{
 "cells": [
  {
   "cell_type": "markdown",
   "id": "b05d2beb",
   "metadata": {},
   "source": [
    "# GOAL\n",
    "Identify non professional TalentCards users in GBQ."
   ]
  },
  {
   "cell_type": "markdown",
   "id": "e6a7314f",
   "metadata": {},
   "source": [
    "# PACKAGES"
   ]
  },
  {
   "cell_type": "code",
   "execution_count": 42,
   "id": "05ed37dc",
   "metadata": {},
   "outputs": [],
   "source": [
    "import pandas as pd\n",
    "from google.oauth2 import service_account\n",
    "import pandas_gbq\n",
    "import yaml"
   ]
  },
  {
   "cell_type": "markdown",
   "id": "c401c6a7",
   "metadata": {},
   "source": [
    "# PARAMETERS"
   ]
  },
  {
   "cell_type": "code",
   "execution_count": 2,
   "id": "0b0b4be3",
   "metadata": {},
   "outputs": [],
   "source": [
    "project_id = \"analytics-dev-308300\"\n",
    "\n",
    "credentials = service_account.Credentials.from_service_account_file(\n",
    "    \"../keys/gcp_key.json\",\n",
    ")"
   ]
  },
  {
   "cell_type": "markdown",
   "id": "7cdaa5af",
   "metadata": {},
   "source": [
    "# FUNCTIONS"
   ]
  },
  {
   "cell_type": "code",
   "execution_count": null,
   "id": "ce77a9c4",
   "metadata": {},
   "outputs": [],
   "source": []
  },
  {
   "cell_type": "markdown",
   "id": "41d7d6a9",
   "metadata": {},
   "source": [
    "# DATA WRANGLING"
   ]
  },
  {
   "cell_type": "markdown",
   "id": "e02e2bc0-0c1a-48fd-922d-38f6a492d550",
   "metadata": {},
   "source": [
    "CSV file was manually generated:\n",
    "- extract list of non-pro users from TalentCards (filter)\n",
    "- manipulate the excel file to include the assotiation and clean any data besides identifier and association\n",
    "- export as csv"
   ]
  },
  {
   "cell_type": "code",
   "execution_count": 69,
   "id": "ba3be9b6-76cc-4b26-98cb-b701594c206a",
   "metadata": {},
   "outputs": [
    {
     "data": {
      "text/html": [
       "<div>\n",
       "<style scoped>\n",
       "    .dataframe tbody tr th:only-of-type {\n",
       "        vertical-align: middle;\n",
       "    }\n",
       "\n",
       "    .dataframe tbody tr th {\n",
       "        vertical-align: top;\n",
       "    }\n",
       "\n",
       "    .dataframe thead th {\n",
       "        text-align: right;\n",
       "    }\n",
       "</style>\n",
       "<table border=\"1\" class=\"dataframe\">\n",
       "  <thead>\n",
       "    <tr style=\"text-align: right;\">\n",
       "      <th></th>\n",
       "      <th>Identifier</th>\n",
       "      <th>Association</th>\n",
       "    </tr>\n",
       "  </thead>\n",
       "  <tbody>\n",
       "    <tr>\n",
       "      <th>0</th>\n",
       "      <td>AQGJEGFMZPFF</td>\n",
       "      <td>Humane</td>\n",
       "    </tr>\n",
       "    <tr>\n",
       "      <th>1</th>\n",
       "      <td>AQZWKMAQHJFL</td>\n",
       "      <td>Danone</td>\n",
       "    </tr>\n",
       "    <tr>\n",
       "      <th>2</th>\n",
       "      <td>AQCAGKPUKWUI</td>\n",
       "      <td>Humane</td>\n",
       "    </tr>\n",
       "    <tr>\n",
       "      <th>3</th>\n",
       "      <td>AQAISHKLLSMM</td>\n",
       "      <td>Humane</td>\n",
       "    </tr>\n",
       "    <tr>\n",
       "      <th>4</th>\n",
       "      <td>AQNCCPYYWMAN</td>\n",
       "      <td>Danone</td>\n",
       "    </tr>\n",
       "    <tr>\n",
       "      <th>5</th>\n",
       "      <td>AQSNUTGKIPXA</td>\n",
       "      <td>Danone</td>\n",
       "    </tr>\n",
       "    <tr>\n",
       "      <th>6</th>\n",
       "      <td>AQOJUJAYOCKL</td>\n",
       "      <td>Danone</td>\n",
       "    </tr>\n",
       "    <tr>\n",
       "      <th>7</th>\n",
       "      <td>AQBJIIYALBBE</td>\n",
       "      <td>Humane</td>\n",
       "    </tr>\n",
       "    <tr>\n",
       "      <th>8</th>\n",
       "      <td>AQHQBUDACZMX</td>\n",
       "      <td>Humane</td>\n",
       "    </tr>\n",
       "    <tr>\n",
       "      <th>9</th>\n",
       "      <td>AQQOKIWJESYZ</td>\n",
       "      <td>Danone</td>\n",
       "    </tr>\n",
       "    <tr>\n",
       "      <th>10</th>\n",
       "      <td>AQITGRRWWCVF</td>\n",
       "      <td>Danone</td>\n",
       "    </tr>\n",
       "    <tr>\n",
       "      <th>11</th>\n",
       "      <td>AQAFCTCXCVLE</td>\n",
       "      <td>Humane</td>\n",
       "    </tr>\n",
       "    <tr>\n",
       "      <th>12</th>\n",
       "      <td>AQZSDRJJNPOF</td>\n",
       "      <td>Humane</td>\n",
       "    </tr>\n",
       "    <tr>\n",
       "      <th>13</th>\n",
       "      <td>AQWPWSQTCCJZ</td>\n",
       "      <td>Humane</td>\n",
       "    </tr>\n",
       "    <tr>\n",
       "      <th>14</th>\n",
       "      <td>AQFRTURQSSHF</td>\n",
       "      <td>Humane</td>\n",
       "    </tr>\n",
       "  </tbody>\n",
       "</table>\n",
       "</div>"
      ],
      "text/plain": [
       "      Identifier Association\n",
       "0   AQGJEGFMZPFF      Humane\n",
       "1   AQZWKMAQHJFL      Danone\n",
       "2   AQCAGKPUKWUI      Humane\n",
       "3   AQAISHKLLSMM      Humane\n",
       "4   AQNCCPYYWMAN      Danone\n",
       "5   AQSNUTGKIPXA      Danone\n",
       "6   AQOJUJAYOCKL      Danone\n",
       "7   AQBJIIYALBBE      Humane\n",
       "8   AQHQBUDACZMX      Humane\n",
       "9   AQQOKIWJESYZ      Danone\n",
       "10  AQITGRRWWCVF      Danone\n",
       "11  AQAFCTCXCVLE      Humane\n",
       "12  AQZSDRJJNPOF      Humane\n",
       "13  AQWPWSQTCCJZ      Humane\n",
       "14  AQFRTURQSSHF      Humane"
      ]
     },
     "execution_count": 69,
     "metadata": {},
     "output_type": "execute_result"
    }
   ],
   "source": [
    "df_non_pro=pd.read_csv('../params/non_professional_users.csv',sep=';')\n",
    "df_non_pro['Identifier']=df_non_pro['Identifier'].replace({'-':''},regex=True)\n",
    "df_non_pro"
   ]
  },
  {
   "cell_type": "code",
   "execution_count": 70,
   "id": "3d6f5b45-1b44-4380-adfd-49e5cf012828",
   "metadata": {},
   "outputs": [],
   "source": [
    "query = \"\"\"\n",
    "SELECT * FROM dtm_engagement.dim_users\n",
    "\"\"\"\n",
    "\n",
    "df_bq_users=pd.read_gbq(query=query, credentials=credentials, project_id=project_id)"
   ]
  },
  {
   "cell_type": "code",
   "execution_count": 71,
   "id": "f1893833-239e-474f-ae4d-0a62ef7ebe84",
   "metadata": {},
   "outputs": [],
   "source": [
    "df_bq_users_flagged=df_bq_users.merge(df_non_pro,left_on='access_token',right_on='Identifier').drop(columns='Identifier').drop(columns=['access_token',\t'email',\t'first_name',\t'last_name',\t'mobile',\t'created_at',\t'last_login',\t'updated_at',\t'date_str',\t'date_str_sp',\t'extraction_date',\t'last_login_date','group_id'])"
   ]
  },
  {
   "cell_type": "code",
   "execution_count": 72,
   "id": "877dfc5f-3f54-4ede-9d6e-1184ee7d431a",
   "metadata": {},
   "outputs": [
    {
     "data": {
      "text/html": [
       "<div>\n",
       "<style scoped>\n",
       "    .dataframe tbody tr th:only-of-type {\n",
       "        vertical-align: middle;\n",
       "    }\n",
       "\n",
       "    .dataframe tbody tr th {\n",
       "        vertical-align: top;\n",
       "    }\n",
       "\n",
       "    .dataframe thead th {\n",
       "        text-align: right;\n",
       "    }\n",
       "</style>\n",
       "<table border=\"1\" class=\"dataframe\">\n",
       "  <thead>\n",
       "    <tr style=\"text-align: right;\">\n",
       "      <th></th>\n",
       "      <th>user_id</th>\n",
       "      <th>Association</th>\n",
       "    </tr>\n",
       "  </thead>\n",
       "  <tbody>\n",
       "    <tr>\n",
       "      <th>0</th>\n",
       "      <td>20029</td>\n",
       "      <td>Humane</td>\n",
       "    </tr>\n",
       "    <tr>\n",
       "      <th>1</th>\n",
       "      <td>20029</td>\n",
       "      <td>Humane</td>\n",
       "    </tr>\n",
       "    <tr>\n",
       "      <th>2</th>\n",
       "      <td>20030</td>\n",
       "      <td>Humane</td>\n",
       "    </tr>\n",
       "    <tr>\n",
       "      <th>3</th>\n",
       "      <td>20032</td>\n",
       "      <td>Humane</td>\n",
       "    </tr>\n",
       "    <tr>\n",
       "      <th>4</th>\n",
       "      <td>20100</td>\n",
       "      <td>Humane</td>\n",
       "    </tr>\n",
       "    <tr>\n",
       "      <th>5</th>\n",
       "      <td>20118</td>\n",
       "      <td>Humane</td>\n",
       "    </tr>\n",
       "    <tr>\n",
       "      <th>6</th>\n",
       "      <td>20129</td>\n",
       "      <td>Humane</td>\n",
       "    </tr>\n",
       "    <tr>\n",
       "      <th>7</th>\n",
       "      <td>20136</td>\n",
       "      <td>Danone</td>\n",
       "    </tr>\n",
       "    <tr>\n",
       "      <th>8</th>\n",
       "      <td>20144</td>\n",
       "      <td>Danone</td>\n",
       "    </tr>\n",
       "    <tr>\n",
       "      <th>9</th>\n",
       "      <td>20145</td>\n",
       "      <td>Danone</td>\n",
       "    </tr>\n",
       "    <tr>\n",
       "      <th>10</th>\n",
       "      <td>20146</td>\n",
       "      <td>Danone</td>\n",
       "    </tr>\n",
       "    <tr>\n",
       "      <th>11</th>\n",
       "      <td>20147</td>\n",
       "      <td>Danone</td>\n",
       "    </tr>\n",
       "    <tr>\n",
       "      <th>12</th>\n",
       "      <td>20172</td>\n",
       "      <td>Danone</td>\n",
       "    </tr>\n",
       "  </tbody>\n",
       "</table>\n",
       "</div>"
      ],
      "text/plain": [
       "    user_id Association\n",
       "0     20029      Humane\n",
       "1     20029      Humane\n",
       "2     20030      Humane\n",
       "3     20032      Humane\n",
       "4     20100      Humane\n",
       "5     20118      Humane\n",
       "6     20129      Humane\n",
       "7     20136      Danone\n",
       "8     20144      Danone\n",
       "9     20145      Danone\n",
       "10    20146      Danone\n",
       "11    20147      Danone\n",
       "12    20172      Danone"
      ]
     },
     "execution_count": 72,
     "metadata": {},
     "output_type": "execute_result"
    }
   ],
   "source": [
    "df_bq_users_flagged"
   ]
  },
  {
   "cell_type": "code",
   "execution_count": 73,
   "id": "18999425-83de-438e-83b5-4cf85c87e019",
   "metadata": {},
   "outputs": [
    {
     "name": "stderr",
     "output_type": "stream",
     "text": [
      "1it [00:04,  4.81s/it]\n"
     ]
    }
   ],
   "source": [
    "df_bq_users_flagged.to_gbq('talentcards.non_pro_users',if_exists='replace')"
   ]
  },
  {
   "cell_type": "code",
   "execution_count": null,
   "id": "55ed87e0-c7fd-4bd0-a782-06feb42ff4e0",
   "metadata": {},
   "outputs": [],
   "source": []
  }
 ],
 "metadata": {
  "kernelspec": {
   "display_name": "Python [conda env:std_env]",
   "language": "python",
   "name": "conda-env-std_env-py"
  },
  "language_info": {
   "codemirror_mode": {
    "name": "ipython",
    "version": 3
   },
   "file_extension": ".py",
   "mimetype": "text/x-python",
   "name": "python",
   "nbconvert_exporter": "python",
   "pygments_lexer": "ipython3",
   "version": "3.9.6"
  }
 },
 "nbformat": 4,
 "nbformat_minor": 5
}
