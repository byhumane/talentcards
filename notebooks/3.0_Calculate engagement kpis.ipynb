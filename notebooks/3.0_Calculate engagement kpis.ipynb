{
 "cells": [
  {
   "cell_type": "markdown",
   "id": "5b41537b",
   "metadata": {},
   "source": [
    "# GOAL\n",
    "- Calculate engagement KPIs"
   ]
  },
  {
   "cell_type": "markdown",
   "id": "e6203ae8",
   "metadata": {},
   "source": [
    "# PACKAGES"
   ]
  },
  {
   "cell_type": "code",
   "execution_count": 2,
   "id": "eec7e53b",
   "metadata": {},
   "outputs": [],
   "source": [
    "import pandas as pd\n",
    "from google.oauth2 import service_account\n",
    "import pandas_gbq"
   ]
  },
  {
   "cell_type": "markdown",
   "id": "65579cd2",
   "metadata": {},
   "source": [
    "# PARAMETERS"
   ]
  },
  {
   "cell_type": "code",
   "execution_count": 3,
   "id": "bd5f2102",
   "metadata": {},
   "outputs": [],
   "source": [
    "project_id = \"analytics-dev-308300\"\n",
    "\n",
    "credentials = service_account.Credentials.from_service_account_file(\n",
    "    \"../keys/gcp_key.json\",\n",
    ")"
   ]
  },
  {
   "cell_type": "markdown",
   "id": "0dcacba2",
   "metadata": {},
   "source": [
    "# FUNCTIONS"
   ]
  },
  {
   "cell_type": "code",
   "execution_count": null,
   "id": "ada70c42",
   "metadata": {},
   "outputs": [],
   "source": []
  },
  {
   "cell_type": "markdown",
   "id": "5b64b497",
   "metadata": {},
   "source": [
    "# DATA WRANGLING"
   ]
  },
  {
   "cell_type": "code",
   "execution_count": 11,
   "id": "31cf39c2",
   "metadata": {},
   "outputs": [],
   "source": [
    "query = \"\"\"\n",
    "SELECT * FROM dtm_engagement.ft_content_consumption\n",
    "WHERE group_id=1818\n",
    "\"\"\"\n",
    "df=pd.read_gbq(query=query, credentials=credentials, project_id=project_id)"
   ]
  },
  {
   "cell_type": "code",
   "execution_count": 18,
   "id": "addd9eaa-5401-4037-a31c-f62f1c84f497",
   "metadata": {},
   "outputs": [],
   "source": [
    "df['duration']=pd.to_datetime(df['completed_at'],utc=True)-pd.to_datetime(df['started_at'],utc=True)"
   ]
  },
  {
   "cell_type": "code",
   "execution_count": 23,
   "id": "4b7c8fdd-065a-4af3-a18c-16e6f38b5982",
   "metadata": {},
   "outputs": [
    {
     "data": {
      "text/plain": [
       "0                 NaT\n",
       "1                 NaT\n",
       "2                 NaT\n",
       "3                 NaT\n",
       "4                 NaT\n",
       "            ...      \n",
       "445   0 days 00:01:38\n",
       "446   0 days 00:02:33\n",
       "447   0 days 00:02:57\n",
       "448               NaT\n",
       "449               NaT\n",
       "Name: duration, Length: 450, dtype: timedelta64[ns]"
      ]
     },
     "execution_count": 23,
     "metadata": {},
     "output_type": "execute_result"
    }
   ],
   "source": [
    "df['duration']"
   ]
  },
  {
   "cell_type": "code",
   "execution_count": 22,
   "id": "f1feaa71",
   "metadata": {},
   "outputs": [
    {
     "data": {
      "text/html": [
       "<div>\n",
       "<style scoped>\n",
       "    .dataframe tbody tr th:only-of-type {\n",
       "        vertical-align: middle;\n",
       "    }\n",
       "\n",
       "    .dataframe tbody tr th {\n",
       "        vertical-align: top;\n",
       "    }\n",
       "\n",
       "    .dataframe thead th {\n",
       "        text-align: right;\n",
       "    }\n",
       "</style>\n",
       "<table border=\"1\" class=\"dataframe\">\n",
       "  <thead>\n",
       "    <tr style=\"text-align: right;\">\n",
       "      <th></th>\n",
       "      <th>group_id</th>\n",
       "      <th>user_id</th>\n",
       "      <th>set_tests</th>\n",
       "      <th>finished_tests</th>\n",
       "      <th>progress</th>\n",
       "      <th>cards</th>\n",
       "      <th>tests</th>\n",
       "    </tr>\n",
       "    <tr>\n",
       "      <th>set_id</th>\n",
       "      <th></th>\n",
       "      <th></th>\n",
       "      <th></th>\n",
       "      <th></th>\n",
       "      <th></th>\n",
       "      <th></th>\n",
       "      <th></th>\n",
       "    </tr>\n",
       "  </thead>\n",
       "  <tbody>\n",
       "    <tr>\n",
       "      <th>11401</th>\n",
       "      <td>1818.0</td>\n",
       "      <td>20167.533333</td>\n",
       "      <td>2.0</td>\n",
       "      <td>0.866667</td>\n",
       "      <td>43.666667</td>\n",
       "      <td>18.0</td>\n",
       "      <td>2.0</td>\n",
       "    </tr>\n",
       "    <tr>\n",
       "      <th>11433</th>\n",
       "      <td>1818.0</td>\n",
       "      <td>20167.533333</td>\n",
       "      <td>3.0</td>\n",
       "      <td>1.288889</td>\n",
       "      <td>43.755556</td>\n",
       "      <td>16.0</td>\n",
       "      <td>3.0</td>\n",
       "    </tr>\n",
       "    <tr>\n",
       "      <th>11457</th>\n",
       "      <td>1818.0</td>\n",
       "      <td>20167.533333</td>\n",
       "      <td>1.0</td>\n",
       "      <td>0.377778</td>\n",
       "      <td>38.888889</td>\n",
       "      <td>3.0</td>\n",
       "      <td>1.0</td>\n",
       "    </tr>\n",
       "    <tr>\n",
       "      <th>11474</th>\n",
       "      <td>1818.0</td>\n",
       "      <td>20167.533333</td>\n",
       "      <td>0.0</td>\n",
       "      <td>0.000000</td>\n",
       "      <td>43.755556</td>\n",
       "      <td>13.0</td>\n",
       "      <td>0.0</td>\n",
       "    </tr>\n",
       "    <tr>\n",
       "      <th>11508</th>\n",
       "      <td>1818.0</td>\n",
       "      <td>20167.533333</td>\n",
       "      <td>1.0</td>\n",
       "      <td>0.222222</td>\n",
       "      <td>38.340909</td>\n",
       "      <td>22.0</td>\n",
       "      <td>1.0</td>\n",
       "    </tr>\n",
       "    <tr>\n",
       "      <th>11682</th>\n",
       "      <td>1818.0</td>\n",
       "      <td>20167.533333</td>\n",
       "      <td>0.0</td>\n",
       "      <td>0.000000</td>\n",
       "      <td>24.444444</td>\n",
       "      <td>7.0</td>\n",
       "      <td>0.0</td>\n",
       "    </tr>\n",
       "    <tr>\n",
       "      <th>11717</th>\n",
       "      <td>1818.0</td>\n",
       "      <td>20167.533333</td>\n",
       "      <td>0.0</td>\n",
       "      <td>0.000000</td>\n",
       "      <td>37.777778</td>\n",
       "      <td>6.0</td>\n",
       "      <td>0.0</td>\n",
       "    </tr>\n",
       "    <tr>\n",
       "      <th>11724</th>\n",
       "      <td>1818.0</td>\n",
       "      <td>20167.533333</td>\n",
       "      <td>1.0</td>\n",
       "      <td>0.355556</td>\n",
       "      <td>35.555556</td>\n",
       "      <td>15.0</td>\n",
       "      <td>1.0</td>\n",
       "    </tr>\n",
       "  </tbody>\n",
       "</table>\n",
       "</div>"
      ],
      "text/plain": [
       "        group_id       user_id  set_tests  finished_tests   progress  cards  \\\n",
       "set_id                                                                        \n",
       "11401     1818.0  20167.533333        2.0        0.866667  43.666667   18.0   \n",
       "11433     1818.0  20167.533333        3.0        1.288889  43.755556   16.0   \n",
       "11457     1818.0  20167.533333        1.0        0.377778  38.888889    3.0   \n",
       "11474     1818.0  20167.533333        0.0        0.000000  43.755556   13.0   \n",
       "11508     1818.0  20167.533333        1.0        0.222222  38.340909   22.0   \n",
       "11682     1818.0  20167.533333        0.0        0.000000  24.444444    7.0   \n",
       "11717     1818.0  20167.533333        0.0        0.000000  37.777778    6.0   \n",
       "11724     1818.0  20167.533333        1.0        0.355556  35.555556   15.0   \n",
       "\n",
       "        tests  \n",
       "set_id         \n",
       "11401     2.0  \n",
       "11433     3.0  \n",
       "11457     1.0  \n",
       "11474     0.0  \n",
       "11508     1.0  \n",
       "11682     0.0  \n",
       "11717     0.0  \n",
       "11724     1.0  "
      ]
     },
     "execution_count": 22,
     "metadata": {},
     "output_type": "execute_result"
    }
   ],
   "source": [
    "df.groupby(by=['set_id']).mean()"
   ]
  },
  {
   "cell_type": "code",
   "execution_count": null,
   "id": "e2ba6d89",
   "metadata": {},
   "outputs": [],
   "source": []
  }
 ],
 "metadata": {
  "environment": {
   "name": "common-cpu.m75",
   "type": "gcloud",
   "uri": "gcr.io/deeplearning-platform-release/base-cpu:m75"
  },
  "kernelspec": {
   "display_name": "Python [conda env:std_env]",
   "language": "python",
   "name": "conda-env-std_env-py"
  },
  "language_info": {
   "codemirror_mode": {
    "name": "ipython",
    "version": 3
   },
   "file_extension": ".py",
   "mimetype": "text/x-python",
   "name": "python",
   "nbconvert_exporter": "python",
   "pygments_lexer": "ipython3",
   "version": "3.9.6"
  }
 },
 "nbformat": 4,
 "nbformat_minor": 5
}
