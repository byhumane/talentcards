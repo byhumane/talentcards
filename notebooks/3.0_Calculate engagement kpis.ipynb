{
 "cells": [
  {
   "cell_type": "markdown",
   "id": "5b41537b",
   "metadata": {},
   "source": [
    "# GOAL\n",
    "- Calculate engagement KPIs"
   ]
  },
  {
   "cell_type": "markdown",
   "id": "e6203ae8",
   "metadata": {},
   "source": [
    "# PACKAGES"
   ]
  },
  {
   "cell_type": "code",
   "execution_count": 4,
   "id": "eec7e53b",
   "metadata": {},
   "outputs": [],
   "source": [
    "import pandas as pd\n",
    "from google.oauth2 import service_account\n",
    "import pandas_gbq"
   ]
  },
  {
   "cell_type": "markdown",
   "id": "65579cd2",
   "metadata": {},
   "source": [
    "# PARAMETERS"
   ]
  },
  {
   "cell_type": "code",
   "execution_count": 5,
   "id": "bd5f2102",
   "metadata": {},
   "outputs": [],
   "source": [
    "project_id = \"analytics-dev-308300\"\n",
    "\n",
    "credentials = service_account.Credentials.from_service_account_file(\n",
    "    \"../keys/gcp_key.json\",\n",
    ")"
   ]
  },
  {
   "cell_type": "markdown",
   "id": "0dcacba2",
   "metadata": {},
   "source": [
    "# FUNCTIONS"
   ]
  },
  {
   "cell_type": "code",
   "execution_count": null,
   "id": "ada70c42",
   "metadata": {},
   "outputs": [],
   "source": []
  },
  {
   "cell_type": "markdown",
   "id": "5b64b497",
   "metadata": {},
   "source": [
    "# DATA WRANGLING"
   ]
  },
  {
   "cell_type": "code",
   "execution_count": null,
   "id": "31cf39c2",
   "metadata": {},
   "outputs": [],
   "source": [
    "sql = \"\"\"\n",
    "\n",
    "\"\"\"\n",
    "pd.read_gbq(query=query, credentials=credentials, project_id=project_id)"
   ]
  },
  {
   "cell_type": "code",
   "execution_count": null,
   "id": "f1feaa71",
   "metadata": {},
   "outputs": [],
   "source": []
  },
  {
   "cell_type": "code",
   "execution_count": null,
   "id": "e2ba6d89",
   "metadata": {},
   "outputs": [],
   "source": []
  }
 ],
 "metadata": {
  "environment": {
   "name": "common-cpu.m75",
   "type": "gcloud",
   "uri": "gcr.io/deeplearning-platform-release/base-cpu:m75"
  },
  "kernelspec": {
   "display_name": "Python [conda env:std_env]",
   "language": "python",
   "name": "conda-env-std_env-py"
  },
  "language_info": {
   "codemirror_mode": {
    "name": "ipython",
    "version": 3
   },
   "file_extension": ".py",
   "mimetype": "text/x-python",
   "name": "python",
   "nbconvert_exporter": "python",
   "pygments_lexer": "ipython3",
   "version": "3.9.6"
  }
 },
 "nbformat": 4,
 "nbformat_minor": 5
}
