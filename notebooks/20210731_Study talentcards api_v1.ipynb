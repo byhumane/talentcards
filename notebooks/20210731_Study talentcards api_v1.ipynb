{
 "cells": [
  {
   "cell_type": "code",
   "execution_count": 11,
   "id": "5d27b29e",
   "metadata": {},
   "outputs": [
    {
     "name": "stdout",
     "output_type": "stream",
     "text": [
      "Collecting google-cloud-secret-manager==2.0.0\n",
      "  Downloading google_cloud_secret_manager-2.0.0-py2.py3-none-any.whl (88 kB)\n",
      "\u001b[K     |████████████████████████████████| 88 kB 4.0 MB/s eta 0:00:011\n",
      "\u001b[?25hRequirement already satisfied: grpc-google-iam-v1<0.13dev,>=0.12.3 in /opt/conda/lib/python3.7/site-packages (from google-cloud-secret-manager==2.0.0) (0.12.3)\n",
      "Requirement already satisfied: libcst>=0.2.5 in /opt/conda/lib/python3.7/site-packages (from google-cloud-secret-manager==2.0.0) (0.3.19)\n",
      "Requirement already satisfied: google-api-core[grpc]<2.0.0dev,>=1.22.2 in /opt/conda/lib/python3.7/site-packages (from google-cloud-secret-manager==2.0.0) (1.30.0)\n",
      "Requirement already satisfied: proto-plus>=1.4.0 in /opt/conda/lib/python3.7/site-packages (from google-cloud-secret-manager==2.0.0) (1.19.0)\n",
      "Requirement already satisfied: protobuf>=3.12.0 in /opt/conda/lib/python3.7/site-packages (from google-api-core[grpc]<2.0.0dev,>=1.22.2->google-cloud-secret-manager==2.0.0) (3.16.0)\n",
      "Requirement already satisfied: pytz in /opt/conda/lib/python3.7/site-packages (from google-api-core[grpc]<2.0.0dev,>=1.22.2->google-cloud-secret-manager==2.0.0) (2021.1)\n",
      "Requirement already satisfied: googleapis-common-protos<2.0dev,>=1.6.0 in /opt/conda/lib/python3.7/site-packages (from google-api-core[grpc]<2.0.0dev,>=1.22.2->google-cloud-secret-manager==2.0.0) (1.53.0)\n",
      "Requirement already satisfied: six>=1.13.0 in /opt/conda/lib/python3.7/site-packages (from google-api-core[grpc]<2.0.0dev,>=1.22.2->google-cloud-secret-manager==2.0.0) (1.16.0)\n",
      "Requirement already satisfied: google-auth<2.0dev,>=1.25.0 in /opt/conda/lib/python3.7/site-packages (from google-api-core[grpc]<2.0.0dev,>=1.22.2->google-cloud-secret-manager==2.0.0) (1.32.1)\n",
      "Requirement already satisfied: packaging>=14.3 in /opt/conda/lib/python3.7/site-packages (from google-api-core[grpc]<2.0.0dev,>=1.22.2->google-cloud-secret-manager==2.0.0) (21.0)\n",
      "Requirement already satisfied: requests<3.0.0dev,>=2.18.0 in /opt/conda/lib/python3.7/site-packages (from google-api-core[grpc]<2.0.0dev,>=1.22.2->google-cloud-secret-manager==2.0.0) (2.25.1)\n",
      "Requirement already satisfied: setuptools>=40.3.0 in /opt/conda/lib/python3.7/site-packages (from google-api-core[grpc]<2.0.0dev,>=1.22.2->google-cloud-secret-manager==2.0.0) (49.6.0.post20210108)\n",
      "Requirement already satisfied: grpcio<2.0dev,>=1.29.0 in /opt/conda/lib/python3.7/site-packages (from google-api-core[grpc]<2.0.0dev,>=1.22.2->google-cloud-secret-manager==2.0.0) (1.38.1)\n",
      "Requirement already satisfied: cachetools<5.0,>=2.0.0 in /opt/conda/lib/python3.7/site-packages (from google-auth<2.0dev,>=1.25.0->google-api-core[grpc]<2.0.0dev,>=1.22.2->google-cloud-secret-manager==2.0.0) (4.2.2)\n",
      "Requirement already satisfied: pyasn1-modules>=0.2.1 in /opt/conda/lib/python3.7/site-packages (from google-auth<2.0dev,>=1.25.0->google-api-core[grpc]<2.0.0dev,>=1.22.2->google-cloud-secret-manager==2.0.0) (0.2.7)\n",
      "Requirement already satisfied: rsa<5,>=3.1.4 in /opt/conda/lib/python3.7/site-packages (from google-auth<2.0dev,>=1.25.0->google-api-core[grpc]<2.0.0dev,>=1.22.2->google-cloud-secret-manager==2.0.0) (4.7.2)\n",
      "Requirement already satisfied: typing-inspect>=0.4.0 in /opt/conda/lib/python3.7/site-packages (from libcst>=0.2.5->google-cloud-secret-manager==2.0.0) (0.7.1)\n",
      "Requirement already satisfied: pyyaml>=5.2 in /opt/conda/lib/python3.7/site-packages (from libcst>=0.2.5->google-cloud-secret-manager==2.0.0) (5.4.1)\n",
      "Requirement already satisfied: typing-extensions>=3.7.4.2 in /opt/conda/lib/python3.7/site-packages (from libcst>=0.2.5->google-cloud-secret-manager==2.0.0) (3.10.0.0)\n",
      "Requirement already satisfied: pyparsing>=2.0.2 in /opt/conda/lib/python3.7/site-packages (from packaging>=14.3->google-api-core[grpc]<2.0.0dev,>=1.22.2->google-cloud-secret-manager==2.0.0) (2.4.7)\n",
      "Requirement already satisfied: pyasn1<0.5.0,>=0.4.6 in /opt/conda/lib/python3.7/site-packages (from pyasn1-modules>=0.2.1->google-auth<2.0dev,>=1.25.0->google-api-core[grpc]<2.0.0dev,>=1.22.2->google-cloud-secret-manager==2.0.0) (0.4.8)\n",
      "Requirement already satisfied: certifi>=2017.4.17 in /opt/conda/lib/python3.7/site-packages (from requests<3.0.0dev,>=2.18.0->google-api-core[grpc]<2.0.0dev,>=1.22.2->google-cloud-secret-manager==2.0.0) (2021.5.30)\n",
      "Requirement already satisfied: idna<3,>=2.5 in /opt/conda/lib/python3.7/site-packages (from requests<3.0.0dev,>=2.18.0->google-api-core[grpc]<2.0.0dev,>=1.22.2->google-cloud-secret-manager==2.0.0) (2.10)\n",
      "Requirement already satisfied: urllib3<1.27,>=1.21.1 in /opt/conda/lib/python3.7/site-packages (from requests<3.0.0dev,>=2.18.0->google-api-core[grpc]<2.0.0dev,>=1.22.2->google-cloud-secret-manager==2.0.0) (1.26.6)\n",
      "Requirement already satisfied: chardet<5,>=3.0.2 in /opt/conda/lib/python3.7/site-packages (from requests<3.0.0dev,>=2.18.0->google-api-core[grpc]<2.0.0dev,>=1.22.2->google-cloud-secret-manager==2.0.0) (4.0.0)\n",
      "Requirement already satisfied: mypy-extensions>=0.3.0 in /opt/conda/lib/python3.7/site-packages (from typing-inspect>=0.4.0->libcst>=0.2.5->google-cloud-secret-manager==2.0.0) (0.4.3)\n",
      "Installing collected packages: google-cloud-secret-manager\n",
      "Successfully installed google-cloud-secret-manager-2.0.0\n"
     ]
    }
   ],
   "source": [
    "!pip install google-cloud-secret-manager==2.0.0"
   ]
  },
  {
   "cell_type": "code",
   "execution_count": 17,
   "id": "eec037b4",
   "metadata": {},
   "outputs": [],
   "source": [
    "def access_secret_version(name):\n",
    "    \"\"\"\n",
    "    Access the payload for the given secret version if one exists. The version\n",
    "    can be a version number as a string (e.g. \"5\") or an alias (e.g. \"latest\").\n",
    "    \"\"\"\n",
    "\n",
    "    # Import the Secret Manager client library.\n",
    "    from google.cloud import secretmanager\n",
    "\n",
    "    # Create the Secret Manager client.\n",
    "    client = secretmanager.SecretManagerServiceClient()\n",
    "    \n",
    "    # Access the secret version.\n",
    "    response = client.access_secret_version(request={\"name\": name})\n",
    "\n",
    "    # Print the secret payload.\n",
    "    #\n",
    "    # WARNING: Do not print the secret in a production environment - this\n",
    "    # snippet is showing how to access the secret material.\n",
    "    return response.payload.data.decode(\"UTF-8\")"
   ]
  },
  {
   "cell_type": "code",
   "execution_count": 19,
   "id": "a0b2a7db",
   "metadata": {},
   "outputs": [],
   "source": [
    "api_key=access_secret_version(name='projects/468034158681/secrets/talentcards_api/versions/1')"
   ]
  },
  {
   "cell_type": "code",
   "execution_count": 1,
   "id": "af330d67",
   "metadata": {},
   "outputs": [],
   "source": [
    "import json\n",
    "\n",
    "import requests\n",
    "from requests.auth import HTTPBasicAuth\n",
    "\n",
    "try:\n",
    "    from urllib import quote_plus\n",
    "except ImportError:\n",
    "    from urllib.parse import quote_plus"
   ]
  },
  {
   "cell_type": "code",
   "execution_count": 4,
   "id": "b847eea6",
   "metadata": {},
   "outputs": [],
   "source": [
    "class TalentCardsApi(object):\n",
    "    def __init__(self, api_url='https://www.talentcards.io/api/v1/', api_key):\n",
    "        self.api_url = api_url\n",
    "        self.auth = HTTPBasicAuth(api_key, '')\n",
    "        \n",
    "        def get(self, params={}):\n",
    "            params_list = []\n",
    "\n",
    "            for param, val in params.items():\n",
    "                params_list.append(quote_plus(str(param)) + ':' + quote_plus(str(val), safe='@'))\n",
    "\n",
    "            params_list.sort()\n",
    "            get_params = ','.join(params_list)\n",
    "\n",
    "            resp = requests.get('{}/{}/{}'.format(self.api_url, get_params),\n",
    "                            auth=self.auth)\n",
    "            result = json.loads(resp.text)\n",
    "\n",
    "            return result\n",
    "        \n",
    "        def users(self, search_term=None):\n",
    "            if search_term is None:\n",
    "                return self.get('users')\n",
    "            elif type(search_term) == int or search_term.isdigit(): \n",
    "                return self.get('users', {'id': search_term})\n",
    "            elif '@' in search_term:\n",
    "                return self.get('users', {'email': search_term})\n",
    "            else:\n",
    "                return self.get('users', {'username': search_term})\n"
   ]
  },
  {
   "cell_type": "code",
   "execution_count": null,
   "id": "21041a9d",
   "metadata": {},
   "outputs": [],
   "source": [
    "\n",
    "talentcards=TalentCardsApi()"
   ]
  }
 ],
 "metadata": {
  "environment": {
   "name": "common-cpu.m75",
   "type": "gcloud",
   "uri": "gcr.io/deeplearning-platform-release/base-cpu:m75"
  },
  "kernelspec": {
   "display_name": "Python 3",
   "language": "python",
   "name": "python3"
  },
  "language_info": {
   "codemirror_mode": {
    "name": "ipython",
    "version": 3
   },
   "file_extension": ".py",
   "mimetype": "text/x-python",
   "name": "python",
   "nbconvert_exporter": "python",
   "pygments_lexer": "ipython3",
   "version": "3.7.10"
  }
 },
 "nbformat": 4,
 "nbformat_minor": 5
}
