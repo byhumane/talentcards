{
 "cells": [
  {
   "cell_type": "markdown",
   "id": "49a4cba8-863a-4fb2-9a38-34a302eef1c2",
   "metadata": {},
   "source": [
    "# GOALS\n",
    "To create a GBQ view containing a daily state on users engagement.\n",
    "- generate dates index\n",
    "- generate users and dates index\n",
    "- fill last_login_date for each date/user key\n",
    "- fill last_consumption_start_date for each date/user key\n",
    "- fill last_consumption_completion_date for each date/user key"
   ]
  },
  {
   "cell_type": "markdown",
   "id": "71df34b7-49e6-4288-84da-a4936a4fc566",
   "metadata": {},
   "source": [
    "# PACKAGES"
   ]
  },
  {
   "cell_type": "code",
   "execution_count": 1,
   "id": "5299445b-30b5-4b4a-a784-90fc91ba3108",
   "metadata": {},
   "outputs": [],
   "source": [
    "import pandas as pd\n",
    "from google.oauth2 import service_account\n",
    "import pandas_gbq\n",
    "import logging"
   ]
  },
  {
   "cell_type": "markdown",
   "id": "064394de-4066-47c5-bc7f-f101b5a891fd",
   "metadata": {},
   "source": [
    "# PARAMETERS"
   ]
  },
  {
   "cell_type": "code",
   "execution_count": 2,
   "id": "1feac862-2766-4536-9a58-3bb8af62b8fb",
   "metadata": {},
   "outputs": [],
   "source": [
    "logger = logging.getLogger(\"pandas_gbq\")\n",
    "logger.setLevel(logging.DEBUG)\n",
    "logger.addHandler(logging.StreamHandler())\n",
    "\n",
    "project_id = \"analytics-dev-308300\"\n",
    "\n",
    "credentials = service_account.Credentials.from_service_account_file(\n",
    "    \"../keys/gcp_key.json\",\n",
    ")"
   ]
  },
  {
   "cell_type": "markdown",
   "id": "875eecc1-05de-411d-bf32-8e5d7fecf185",
   "metadata": {},
   "source": [
    "# FUNCTIONS"
   ]
  },
  {
   "cell_type": "markdown",
   "id": "e31a4b2f-fe9f-4f22-b3b1-2586dad8cbfd",
   "metadata": {},
   "source": [
    "## generate base (users and dates) data frame"
   ]
  },
  {
   "cell_type": "code",
   "execution_count": 85,
   "id": "379281fc-0c1a-41f6-acc5-a1a61bce8109",
   "metadata": {},
   "outputs": [],
   "source": [
    "def get_data():\n",
    "    \"\"\"\n",
    "    ()-->df\n",
    "    \"\"\"\n",
    "    query = \"\"\"\n",
    "        SELECT DISTINCT\n",
    "            user_id\n",
    "        FROM\n",
    "            dtm_engagement.dim_users\n",
    "        WHERE\n",
    "            group_id=1818\n",
    "    \"\"\"\n",
    "    users_list = pd.read_gbq(\n",
    "        query=query, credentials=credentials, project_id=project_id\n",
    "    )[\"user_id\"].tolist()\n",
    "\n",
    "    query = \"\"\"\n",
    "        SELECT DISTINCT\n",
    "            extraction_date, user_id, last_login\n",
    "        FROM\n",
    "            dtm_engagement.dim_users\n",
    "        WHERE group_id=1818\n",
    "    \"\"\"\n",
    "    login_df = pd.read_gbq(query=query, credentials=credentials, project_id=project_id)\n",
    "\n",
    "    return users_list, login_df"
   ]
  },
  {
   "cell_type": "code",
   "execution_count": 86,
   "id": "fe51cc1a-3422-4bfe-9e4d-254fd057fb7a",
   "metadata": {},
   "outputs": [],
   "source": [
    "def create_base_df(\n",
    "    ls_users,\n",
    "    start_date=\"2021-08-16\",\n",
    "    end_date=pd.Timestamp.today().strftime(\"%Y-%m-%d\"),\n",
    "):\n",
    "    \"\"\"\n",
    "    (date-like, date_like, series) --> df\n",
    "    Create a dataframe with one row for each combination of user and date. Date range is defined by start_date and end_date (excluded).\n",
    "    \"\"\"\n",
    "    dates_index = (\n",
    "        pd.to_datetime(\n",
    "            pd.date_range(start=start_date, end=end_date, name=\"action_date\")\n",
    "        )\n",
    "        .strftime(\"%Y-%m-%d\")\n",
    "        .to_list()\n",
    "    )\n",
    "\n",
    "    actions_dict = [\n",
    "        {\"action_date\": action_date, \"user_id\": user}\n",
    "        for action_date in dates_index\n",
    "        for user in ls_users\n",
    "    ]\n",
    "    return pd.DataFrame(actions_dict)"
   ]
  },
  {
   "cell_type": "markdown",
   "id": "53d2ec05-d368-4c20-a725-1f8e8f1e10c0",
   "metadata": {},
   "source": [
    "## fill last_login_date for each date/user key"
   ]
  },
  {
   "cell_type": "code",
   "execution_count": null,
   "id": "3888eba8-3bb4-4843-ab59-94aea49fab4a",
   "metadata": {},
   "outputs": [],
   "source": [
    "def get_last_login(actions_df, login_df):\n",
    "    \"\"\"\n",
    "    (df,df)-->df\n",
    "    \"\"\"\n",
    "    actions"
   ]
  },
  {
   "cell_type": "markdown",
   "id": "8ef612f4-7328-4c84-990a-96c7df2b5212",
   "metadata": {},
   "source": [
    "# DATA WRANGLING"
   ]
  },
  {
   "cell_type": "code",
   "execution_count": 81,
   "id": "9ead21ef-df03-48c4-8c9e-d11fd6b41a38",
   "metadata": {},
   "outputs": [
    {
     "name": "stderr",
     "output_type": "stream",
     "text": [
      "Requesting query... \n",
      "Query running...\n",
      "Job ID: 75adad65-e0b5-49f4-a90a-f3afae01f140\n",
      "Query done.\n",
      "Processed: 71.6 KB Billed: 10.0 MB\n",
      "Standard price: $0.00 USD\n",
      "\n",
      "Got 30 rows.\n",
      "\n"
     ]
    }
   ],
   "source": [
    "df_actions = base_df(get_users())"
   ]
  },
  {
   "cell_type": "code",
   "execution_count": 72,
   "id": "ec75e01e-b74c-40f0-978e-06076967c0f8",
   "metadata": {},
   "outputs": [
    {
     "name": "stderr",
     "output_type": "stream",
     "text": [
      "Requesting query... \n",
      "Query running...\n",
      "Job ID: 80e67ad9-2f25-4a96-9730-6cf4889b175c\n",
      "Query done.\n",
      "Processed: 71.6 KB Billed: 10.0 MB\n",
      "Standard price: $0.00 USD\n",
      "\n",
      "Got 30 rows.\n",
      "\n"
     ]
    }
   ],
   "source": [
    "query = \"\"\"\n",
    "SELECT\n",
    "    extraction_date, user_id, last_login\n",
    "FROM\n",
    "    dtm_engagement.dim_users\n",
    "WHERE group_id=1818\n",
    "\"\"\"\n",
    "df_login = pd.read_gbq(query=query, credentials=credentials, project_id=project_id)"
   ]
  },
  {
   "cell_type": "code",
   "execution_count": 73,
   "id": "e414bfdd-a466-4841-a3e4-b4121eb8f8c3",
   "metadata": {},
   "outputs": [],
   "source": [
    "def get_last_login(login_df, extraction_date, user_id):\n",
    "    \"\"\"\n",
    "    (date like str, int, int, df)-->datetime like str\n",
    "    \"\"\"\n",
    "    display(\n",
    "        login_df[\n",
    "            (login_df[\"extraction_date\"] == extraction_date)\n",
    "            & (login_df[\"user_id\"] == user_id)\n",
    "        ]\n",
    "    )"
   ]
  },
  {
   "cell_type": "code",
   "execution_count": 74,
   "id": "2791ef6a-fea2-4809-97cf-7a63977dc7a2",
   "metadata": {},
   "outputs": [
    {
     "data": {
      "text/html": [
       "<div>\n",
       "<style scoped>\n",
       "    .dataframe tbody tr th:only-of-type {\n",
       "        vertical-align: middle;\n",
       "    }\n",
       "\n",
       "    .dataframe tbody tr th {\n",
       "        vertical-align: top;\n",
       "    }\n",
       "\n",
       "    .dataframe thead th {\n",
       "        text-align: right;\n",
       "    }\n",
       "</style>\n",
       "<table border=\"1\" class=\"dataframe\">\n",
       "  <thead>\n",
       "    <tr style=\"text-align: right;\">\n",
       "      <th></th>\n",
       "      <th>extraction_date</th>\n",
       "      <th>user_id</th>\n",
       "      <th>last_login</th>\n",
       "    </tr>\n",
       "  </thead>\n",
       "  <tbody>\n",
       "    <tr>\n",
       "      <th>5</th>\n",
       "      <td>2021-08-22</td>\n",
       "      <td>20118</td>\n",
       "      <td>2021-08-20T20:01:05+00:00</td>\n",
       "    </tr>\n",
       "  </tbody>\n",
       "</table>\n",
       "</div>"
      ],
      "text/plain": [
       "  extraction_date  user_id                 last_login\n",
       "5      2021-08-22    20118  2021-08-20T20:01:05+00:00"
      ]
     },
     "metadata": {},
     "output_type": "display_data"
    }
   ],
   "source": [
    "get_last_login(df_login, \"2021-08-22\", 20118)"
   ]
  },
  {
   "cell_type": "code",
   "execution_count": 83,
   "id": "cc2c59ae-26c9-414e-88cc-b220556d458a",
   "metadata": {},
   "outputs": [
    {
     "data": {
      "text/html": [
       "<div>\n",
       "<style scoped>\n",
       "    .dataframe tbody tr th:only-of-type {\n",
       "        vertical-align: middle;\n",
       "    }\n",
       "\n",
       "    .dataframe tbody tr th {\n",
       "        vertical-align: top;\n",
       "    }\n",
       "\n",
       "    .dataframe thead th {\n",
       "        text-align: right;\n",
       "    }\n",
       "</style>\n",
       "<table border=\"1\" class=\"dataframe\">\n",
       "  <thead>\n",
       "    <tr style=\"text-align: right;\">\n",
       "      <th></th>\n",
       "      <th>action_date</th>\n",
       "      <th>user_id</th>\n",
       "      <th>last_login</th>\n",
       "    </tr>\n",
       "  </thead>\n",
       "  <tbody>\n",
       "    <tr>\n",
       "      <th>0</th>\n",
       "      <td>2021-08-16</td>\n",
       "      <td>20029</td>\n",
       "      <td>NaN</td>\n",
       "    </tr>\n",
       "    <tr>\n",
       "      <th>1</th>\n",
       "      <td>2021-08-16</td>\n",
       "      <td>20030</td>\n",
       "      <td>NaN</td>\n",
       "    </tr>\n",
       "    <tr>\n",
       "      <th>2</th>\n",
       "      <td>2021-08-16</td>\n",
       "      <td>20082</td>\n",
       "      <td>NaN</td>\n",
       "    </tr>\n",
       "    <tr>\n",
       "      <th>3</th>\n",
       "      <td>2021-08-16</td>\n",
       "      <td>20100</td>\n",
       "      <td>NaN</td>\n",
       "    </tr>\n",
       "    <tr>\n",
       "      <th>4</th>\n",
       "      <td>2021-08-16</td>\n",
       "      <td>20108</td>\n",
       "      <td>NaN</td>\n",
       "    </tr>\n",
       "    <tr>\n",
       "      <th>...</th>\n",
       "      <td>...</td>\n",
       "      <td>...</td>\n",
       "      <td>...</td>\n",
       "    </tr>\n",
       "    <tr>\n",
       "      <th>205</th>\n",
       "      <td>2021-08-22</td>\n",
       "      <td>20168</td>\n",
       "      <td>2021-08-16T16:14:30+00:00</td>\n",
       "    </tr>\n",
       "    <tr>\n",
       "      <th>206</th>\n",
       "      <td>2021-08-22</td>\n",
       "      <td>20164</td>\n",
       "      <td>2021-08-17T17:58:53+00:00</td>\n",
       "    </tr>\n",
       "    <tr>\n",
       "      <th>207</th>\n",
       "      <td>2021-08-22</td>\n",
       "      <td>20167</td>\n",
       "      <td>2021-08-17T19:10:57+00:00</td>\n",
       "    </tr>\n",
       "    <tr>\n",
       "      <th>208</th>\n",
       "      <td>2021-08-22</td>\n",
       "      <td>20161</td>\n",
       "      <td>2021-08-18T12:28:59+00:00</td>\n",
       "    </tr>\n",
       "    <tr>\n",
       "      <th>209</th>\n",
       "      <td>2021-08-22</td>\n",
       "      <td>20118</td>\n",
       "      <td>2021-08-20T20:01:05+00:00</td>\n",
       "    </tr>\n",
       "  </tbody>\n",
       "</table>\n",
       "<p>210 rows × 3 columns</p>\n",
       "</div>"
      ],
      "text/plain": [
       "    action_date  user_id                 last_login\n",
       "0    2021-08-16    20029                        NaN\n",
       "1    2021-08-16    20030                        NaN\n",
       "2    2021-08-16    20082                        NaN\n",
       "3    2021-08-16    20100                        NaN\n",
       "4    2021-08-16    20108                        NaN\n",
       "..          ...      ...                        ...\n",
       "205  2021-08-22    20168  2021-08-16T16:14:30+00:00\n",
       "206  2021-08-22    20164  2021-08-17T17:58:53+00:00\n",
       "207  2021-08-22    20167  2021-08-17T19:10:57+00:00\n",
       "208  2021-08-22    20161  2021-08-18T12:28:59+00:00\n",
       "209  2021-08-22    20118  2021-08-20T20:01:05+00:00\n",
       "\n",
       "[210 rows x 3 columns]"
      ]
     },
     "execution_count": 83,
     "metadata": {},
     "output_type": "execute_result"
    }
   ],
   "source": [
    "df_merge = df_actions.merge(\n",
    "    df_login,\n",
    "    how=\"left\",\n",
    "    left_on=[\"action_date\", \"user_id\"],\n",
    "    right_on=[\"extraction_date\", \"user_id\"],\n",
    ").drop(columns=[\"extraction_date\"])\n",
    "df_merge"
   ]
  },
  {
   "cell_type": "code",
   "execution_count": null,
   "id": "d81dee1b-78d1-4ebf-8dd5-7d96c085d3ea",
   "metadata": {},
   "outputs": [],
   "source": []
  }
 ],
 "metadata": {
  "kernelspec": {
   "display_name": "Python [conda env:std_env]",
   "language": "python",
   "name": "conda-env-std_env-py"
  },
  "language_info": {
   "codemirror_mode": {
    "name": "ipython",
    "version": 3
   },
   "file_extension": ".py",
   "mimetype": "text/x-python",
   "name": "python",
   "nbconvert_exporter": "python",
   "pygments_lexer": "ipython3",
   "version": "3.9.6"
  },
  "toc-autonumbering": true
 },
 "nbformat": 4,
 "nbformat_minor": 5
}
