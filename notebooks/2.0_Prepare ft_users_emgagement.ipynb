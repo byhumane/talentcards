{
 "cells": [
  {
   "cell_type": "markdown",
   "id": "49a4cba8-863a-4fb2-9a38-34a302eef1c2",
   "metadata": {},
   "source": [
    "# GOALS\n",
    "To create a GBQ view containing a daily state on users engagement.\n",
    "- generate dates index\n",
    "- generate users and dates index\n",
    "- fill last_login_date for each date/user key\n",
    "- fill last_consumption_start_date for each date/user key\n",
    "- fill last_consumption_completion_date for each date/user key"
   ]
  },
  {
   "cell_type": "markdown",
   "id": "71df34b7-49e6-4288-84da-a4936a4fc566",
   "metadata": {},
   "source": [
    "# PACKAGES"
   ]
  },
  {
   "cell_type": "code",
   "execution_count": 1,
   "id": "5299445b-30b5-4b4a-a784-90fc91ba3108",
   "metadata": {},
   "outputs": [],
   "source": [
    "import pandas as pd\n",
    "from google.oauth2 import service_account\n",
    "import pandas_gbq\n",
    "import logging"
   ]
  },
  {
   "cell_type": "markdown",
   "id": "064394de-4066-47c5-bc7f-f101b5a891fd",
   "metadata": {},
   "source": [
    "# PARAMETERS"
   ]
  },
  {
   "cell_type": "code",
   "execution_count": 105,
   "id": "1feac862-2766-4536-9a58-3bb8af62b8fb",
   "metadata": {},
   "outputs": [],
   "source": [
    "logger = logging.getLogger(\"pandas_gbq\")\n",
    "logger.setLevel(logging.DEBUG)\n",
    "logger.addHandler(logging.StreamHandler())\n",
    "\n",
    "project_id = \"analytics-dev-308300\"\n",
    "\n",
    "credentials = service_account.Credentials.from_service_account_file(\n",
    "    \"../keys/gcp_key.json\",\n",
    ")\n",
    "\n",
    "\n",
    "pd.set_option(\"display.max_rows\", 200)\n",
    "pd.set_option(\"display.max_columns\", None)\n",
    "pd.set_option(\"display.width\", None)\n",
    "pd.set_option(\"display.max_colwidth\", None)"
   ]
  },
  {
   "cell_type": "markdown",
   "id": "875eecc1-05de-411d-bf32-8e5d7fecf185",
   "metadata": {
    "tags": []
   },
   "source": [
    "# FUNCTIONS"
   ]
  },
  {
   "cell_type": "markdown",
   "id": "106d27b9-09f2-49c3-a5c1-d5c999c09053",
   "metadata": {},
   "source": [
    "## get data"
   ]
  },
  {
   "cell_type": "code",
   "execution_count": 168,
   "id": "379281fc-0c1a-41f6-acc5-a1a61bce8109",
   "metadata": {},
   "outputs": [],
   "source": [
    "def get_data():\n",
    "    \"\"\"\n",
    "    ()-->df\n",
    "    \"\"\"\n",
    "    query = \"\"\"\n",
    "        SELECT DISTINCT\n",
    "            user_id\n",
    "        FROM\n",
    "            dtm_engagement.dim_users\n",
    "        WHERE\n",
    "            group_id=1818\n",
    "    \"\"\"\n",
    "    users_list = pd.read_gbq(\n",
    "        query=query, credentials=credentials, project_id=project_id\n",
    "    )[\"user_id\"].tolist()\n",
    "\n",
    "    query = \"\"\"\n",
    "        SELECT DISTINCT\n",
    "            extraction_date, user_id, last_login\n",
    "        FROM\n",
    "            dtm_engagement.dim_users\n",
    "        WHERE group_id=1818\n",
    "    \"\"\"\n",
    "    login_df = pd.read_gbq(query=query, credentials=credentials, project_id=project_id)\n",
    "\n",
    "    query = \"\"\"\n",
    "        SELECT DISTINCT user_id,started_at,completed_at\n",
    "        FROM dtm_engagement.ft_content_consumption\n",
    "        WHERE group_id=1818\n",
    "        \"\"\"\n",
    "    consumption_df = pd.read_gbq(\n",
    "        query=query, credentials=credentials, project_id=project_id\n",
    "    )\n",
    "\n",
    "    consumption_df[\"started_at\"] = pd.to_datetime(\n",
    "        consumption_df[\"started_at\"], utc=True\n",
    "    )\n",
    "    consumption_df[\"completed_at\"] = pd.to_datetime(\n",
    "        consumption_df[\"completed_at\"], utc=True\n",
    "    )\n",
    "\n",
    "    return users_list, login_df, consumption_df"
   ]
  },
  {
   "cell_type": "markdown",
   "id": "e31a4b2f-fe9f-4f22-b3b1-2586dad8cbfd",
   "metadata": {},
   "source": [
    "## generate base (users and dates) data frame"
   ]
  },
  {
   "cell_type": "code",
   "execution_count": 86,
   "id": "fe51cc1a-3422-4bfe-9e4d-254fd057fb7a",
   "metadata": {},
   "outputs": [],
   "source": [
    "def create_base_df(\n",
    "    ls_users,\n",
    "    start_date=\"2021-08-16\",\n",
    "    end_date=pd.Timestamp.today().strftime(\"%Y-%m-%d\"),\n",
    "):\n",
    "    \"\"\"\n",
    "    (date-like, date_like, series) --> df\n",
    "    Create a dataframe with one row for each combination of user and date. Date range is defined by start_date and end_date (excluded).\n",
    "    \"\"\"\n",
    "    dates_index = (\n",
    "        pd.to_datetime(\n",
    "            pd.date_range(start=start_date, end=end_date, name=\"action_date\")\n",
    "        )\n",
    "        .strftime(\"%Y-%m-%d\")\n",
    "        .to_list()\n",
    "    )\n",
    "\n",
    "    actions_dict = [\n",
    "        {\"action_date\": action_date, \"user_id\": user}\n",
    "        for action_date in dates_index\n",
    "        for user in ls_users\n",
    "    ]\n",
    "    return pd.DataFrame(actions_dict)"
   ]
  },
  {
   "cell_type": "markdown",
   "id": "53d2ec05-d368-4c20-a725-1f8e8f1e10c0",
   "metadata": {},
   "source": [
    "## fill last_login_date for each date/user key"
   ]
  },
  {
   "cell_type": "code",
   "execution_count": 94,
   "id": "3888eba8-3bb4-4843-ab59-94aea49fab4a",
   "metadata": {},
   "outputs": [],
   "source": [
    "def update_last_login(actions_df, logins_df):\n",
    "    \"\"\"\n",
    "    (df,df)-->df\n",
    "    \"\"\"\n",
    "    updated_actions_df = actions_df.merge(\n",
    "        logins_df,\n",
    "        how=\"left\",\n",
    "        left_on=[\"action_date\", \"user_id\"],\n",
    "        right_on=[\"extraction_date\", \"user_id\"],\n",
    "    ).drop(columns=[\"extraction_date\"])\n",
    "    return updated_actions_df"
   ]
  },
  {
   "cell_type": "markdown",
   "id": "7b049975-a928-4767-a45e-5ee081f4e40c",
   "metadata": {},
   "source": [
    "## fill last_consumption_start_date for each date/user key"
   ]
  },
  {
   "cell_type": "code",
   "execution_count": 174,
   "id": "50f83502-1f83-4e83-8ab0-622e65c552aa",
   "metadata": {},
   "outputs": [
    {
     "data": {
      "text/plain": [
       "NaT"
      ]
     },
     "execution_count": 174,
     "metadata": {},
     "output_type": "execute_result"
    }
   ],
   "source": [
    "def max_start_date(consumption_df, reporting_date, user_id, date_of_interest):\n",
    "    \"\"\"\n",
    "    (df,date like str, int)\n",
    "    \"\"\"\n",
    "    max_start = consumption_df[\n",
    "        (consumption_df[\"user_id\"] == 20029)\n",
    "        & (\n",
    "            consumption_df[date_of_interest]\n",
    "            <= pd.Timestamp(reporting_date + \" 23:59:59\", tz=\"UTC\")\n",
    "        )\n",
    "    ][date_of_interest].max()\n",
    "\n",
    "    return max_start\n",
    "\n",
    "\n",
    "reporting_date = \"2021-08-15\"\n",
    "max_start_date(\n",
    "    consumption_df=df_consumption,\n",
    "    reporting_date=reporting_date,\n",
    "    user_id=20168,\n",
    "    date_of_interest=\"started_at\",\n",
    ")"
   ]
  },
  {
   "cell_type": "code",
   "execution_count": 158,
   "id": "c0f32654-b399-4445-8951-984ae79584c0",
   "metadata": {},
   "outputs": [
    {
     "data": {
      "text/html": [
       "<div>\n",
       "<style scoped>\n",
       "    .dataframe tbody tr th:only-of-type {\n",
       "        vertical-align: middle;\n",
       "    }\n",
       "\n",
       "    .dataframe tbody tr th {\n",
       "        vertical-align: top;\n",
       "    }\n",
       "\n",
       "    .dataframe thead th {\n",
       "        text-align: right;\n",
       "    }\n",
       "</style>\n",
       "<table border=\"1\" class=\"dataframe\">\n",
       "  <thead>\n",
       "    <tr style=\"text-align: right;\">\n",
       "      <th></th>\n",
       "      <th>user_id</th>\n",
       "      <th>started_at</th>\n",
       "    </tr>\n",
       "  </thead>\n",
       "  <tbody>\n",
       "    <tr>\n",
       "      <th>36</th>\n",
       "      <td>20029</td>\n",
       "      <td>2021-08-13 21:49:07+00:00</td>\n",
       "    </tr>\n",
       "  </tbody>\n",
       "</table>\n",
       "</div>"
      ],
      "text/plain": [
       "    user_id                started_at\n",
       "36    20029 2021-08-13 21:49:07+00:00"
      ]
     },
     "metadata": {},
     "output_type": "display_data"
    },
    {
     "data": {
      "text/plain": [
       "Timestamp('2021-08-13 21:49:07+0000', tz='UTC')"
      ]
     },
     "execution_count": 158,
     "metadata": {},
     "output_type": "execute_result"
    }
   ],
   "source": [
    "reporting_date = \"2021-08-14\"\n",
    "df_consumption_start = df_consumption[[\"user_id\", \"started_at\"]]\n",
    "\n",
    "display(\n",
    "    df_consumption_start[\n",
    "        (df_consumption_start[\"user_id\"] == 20029)\n",
    "        & (\n",
    "            df_consumption_start[\"started_at\"]\n",
    "            <= pd.Timestamp(reporting_date + \" 23:59:59\", tz=\"UTC\")\n",
    "        )\n",
    "    ]\n",
    ")\n",
    "\n",
    "df_consumption_start[\n",
    "    (df_consumption_start[\"user_id\"] == 20029)\n",
    "    & (\n",
    "        df_consumption_start[\"started_at\"]\n",
    "        <= pd.Timestamp(reporting_date + \" 23:59:59\", tz=\"UTC\")\n",
    "    )\n",
    "][\"started_at\"].max()"
   ]
  },
  {
   "cell_type": "code",
   "execution_count": 138,
   "id": "3b121baa-8f9f-4d42-8a60-43098eb444c3",
   "metadata": {},
   "outputs": [
    {
     "data": {
      "text/plain": [
       "user_id                             20029\n",
       "started_at      2021-08-15 10:18:23+00:00\n",
       "completed_at    2021-08-15 12:30:36+00:00\n",
       "dtype: object"
      ]
     },
     "execution_count": 138,
     "metadata": {},
     "output_type": "execute_result"
    }
   ],
   "source": []
  },
  {
   "cell_type": "code",
   "execution_count": null,
   "id": "a1644d7c-6499-4c53-a557-e80e1d91d00a",
   "metadata": {},
   "outputs": [],
   "source": []
  },
  {
   "cell_type": "code",
   "execution_count": null,
   "id": "e5a062d1-23f3-451d-81e7-ad3b011c4601",
   "metadata": {},
   "outputs": [],
   "source": []
  },
  {
   "cell_type": "code",
   "execution_count": null,
   "id": "8fe6d08e-6698-4ca0-aaac-4d89eeda8297",
   "metadata": {},
   "outputs": [],
   "source": []
  },
  {
   "cell_type": "markdown",
   "id": "8ef612f4-7328-4c84-990a-96c7df2b5212",
   "metadata": {},
   "source": [
    "# DATA WRANGLING"
   ]
  },
  {
   "cell_type": "code",
   "execution_count": 176,
   "id": "b8c97843-5525-48e6-8bae-fa7bbcd0323a",
   "metadata": {},
   "outputs": [
    {
     "name": "stderr",
     "output_type": "stream",
     "text": [
      "Requesting query... \n",
      "Requesting query... \n",
      "Requesting query... \n",
      "Query running...\n",
      "Query running...\n",
      "Query running...\n",
      "Job ID: 485073ea-dc42-4565-aa9c-c75b12d196d8\n",
      "Job ID: 485073ea-dc42-4565-aa9c-c75b12d196d8\n",
      "Job ID: 485073ea-dc42-4565-aa9c-c75b12d196d8\n",
      "Query done.\n",
      "Processed: 10.4 KB Billed: 10.0 MB\n",
      "Query done.\n",
      "Processed: 10.4 KB Billed: 10.0 MB\n",
      "Query done.\n",
      "Processed: 10.4 KB Billed: 10.0 MB\n",
      "Standard price: $0.00 USD\n",
      "\n",
      "Standard price: $0.00 USD\n",
      "\n",
      "Standard price: $0.00 USD\n",
      "\n",
      "Got 30 rows.\n",
      "\n",
      "Got 30 rows.\n",
      "\n",
      "Got 30 rows.\n",
      "\n",
      "Requesting query... \n",
      "Requesting query... \n",
      "Requesting query... \n",
      "Query running...\n",
      "Query running...\n",
      "Query running...\n",
      "Job ID: 1e361aa0-c261-4795-ab88-44791d48e555\n",
      "Job ID: 1e361aa0-c261-4795-ab88-44791d48e555\n",
      "Job ID: 1e361aa0-c261-4795-ab88-44791d48e555\n",
      "Query done.\n",
      "Processed: 10.4 KB Billed: 10.0 MB\n",
      "Query done.\n",
      "Processed: 10.4 KB Billed: 10.0 MB\n",
      "Query done.\n",
      "Processed: 10.4 KB Billed: 10.0 MB\n",
      "Standard price: $0.00 USD\n",
      "\n",
      "Standard price: $0.00 USD\n",
      "\n",
      "Standard price: $0.00 USD\n",
      "\n",
      "Got 30 rows.\n",
      "\n",
      "Got 30 rows.\n",
      "\n",
      "Got 30 rows.\n",
      "\n",
      "Requesting query... \n",
      "Requesting query... \n",
      "Requesting query... \n",
      "Query running...\n",
      "Query running...\n",
      "Query running...\n",
      "Job ID: 53e268cb-9ba3-4a09-a71f-51ac74ed5e5d\n",
      "Job ID: 53e268cb-9ba3-4a09-a71f-51ac74ed5e5d\n",
      "Job ID: 53e268cb-9ba3-4a09-a71f-51ac74ed5e5d\n",
      "Query done.\n",
      "Processed: 10.3 KB Billed: 10.0 MB\n",
      "Query done.\n",
      "Processed: 10.3 KB Billed: 10.0 MB\n",
      "Query done.\n",
      "Processed: 10.3 KB Billed: 10.0 MB\n",
      "Standard price: $0.00 USD\n",
      "\n",
      "Standard price: $0.00 USD\n",
      "\n",
      "Standard price: $0.00 USD\n",
      "\n",
      "Got 0 rows.\n",
      "\n",
      "Got 0 rows.\n",
      "\n",
      "Got 0 rows.\n",
      "\n"
     ]
    }
   ],
   "source": [
    "ls_users, df_logins, df_consumption = get_data()"
   ]
  },
  {
   "cell_type": "code",
   "execution_count": 97,
   "id": "092d8e37-4612-4a8c-ab20-8e8584fb5168",
   "metadata": {},
   "outputs": [],
   "source": [
    "df_actions = update_last_login(create_base_df(ls_user), df_logins)"
   ]
  },
  {
   "cell_type": "code",
   "execution_count": 180,
   "id": "bcaa7925-dceb-473f-b563-c7053a31c71d",
   "metadata": {},
   "outputs": [
    {
     "name": "stderr",
     "output_type": "stream",
     "text": [
      "Requesting query... \n",
      "Requesting query... \n",
      "Requesting query... \n",
      "Query running...\n",
      "Query running...\n",
      "Query running...\n",
      "Job ID: 1346d194-8635-4e6f-8ac6-2f2505e43040\n",
      "Job ID: 1346d194-8635-4e6f-8ac6-2f2505e43040\n",
      "Job ID: 1346d194-8635-4e6f-8ac6-2f2505e43040\n",
      "Query done.\n",
      "Cache hit.\n",
      "\n",
      "Query done.\n",
      "Cache hit.\n",
      "\n",
      "Query done.\n",
      "Cache hit.\n",
      "\n",
      "Got 0 rows.\n",
      "\n",
      "Got 0 rows.\n",
      "\n",
      "Got 0 rows.\n",
      "\n"
     ]
    }
   ],
   "source": [
    "    query = \"\"\"\n",
    "        SELECT DISTINCT user_id,started_at,completed_at\n",
    "        FROM dtm_engagement.ft_content_consumption\n",
    "        WHERE group_id=1818\n",
    "        \"\"\"\n",
    "    consumption_df = pd.read_gbq(\n",
    "        query=query, credentials=credentials, project_id=project_id\n",
    "    )"
   ]
  },
  {
   "cell_type": "code",
   "execution_count": null,
   "id": "5e8afd1e-8778-4e8f-8c9a-eaba2d6c868a",
   "metadata": {},
   "outputs": [],
   "source": []
  }
 ],
 "metadata": {
  "kernelspec": {
   "display_name": "Python [conda env:std_env]",
   "language": "python",
   "name": "conda-env-std_env-py"
  },
  "language_info": {
   "codemirror_mode": {
    "name": "ipython",
    "version": 3
   },
   "file_extension": ".py",
   "mimetype": "text/x-python",
   "name": "python",
   "nbconvert_exporter": "python",
   "pygments_lexer": "ipython3",
   "version": "3.9.6"
  },
  "toc-autonumbering": true
 },
 "nbformat": 4,
 "nbformat_minor": 5
}
