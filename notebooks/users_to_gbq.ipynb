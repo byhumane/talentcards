{
 "cells": [
  {
   "cell_type": "code",
   "execution_count": 14,
   "source": [
    "import json\n",
    "import os\n",
    "import pytz\n",
    "from datetime import datetime, timedelta\n",
    "from typing import Dict\n",
    "import dateutil.relativedelta\n",
    "import pandas as pd\n",
    "from google.cloud import bigquery, storage\n",
    "\n",
    "# environment can be local or gcp\n",
    "# used to define the need for autentication\n",
    "environment='local'\n",
    "if environment=='local':\n",
    "    os.environ['GOOGLE_APPLICATION_CREDENTIALS'] = '../keys/gcp_key.json'\n",
    "\n",
    "def format_folder_path(table_path: str, date: str, file_name: str) -> str:\n",
    "    \"\"\"Formats the folder path, adding the year and month and returns the formatted folder path.\n",
    "\n",
    "    Args:\n",
    "      table_path (str): Table path.\n",
    "      date (str): Date with year, month and day values to be extracted and included in the folder path.\n",
    "      file_name (str): File name to be saved.\n",
    "\n",
    "    Returns:\n",
    "      The formatted folder path, with year, month and day included.\n",
    "    \"\"\"\n",
    "    dt = datetime.strptime(date, \"%Y-%m-%d\")\n",
    "    return f\"{table_path}/year={dt.year}/month={dt.month}/day={dt.day}/{file_name}.json\"\n",
    "\n",
    "\n",
    "def read_json_from_gcs(\n",
    "    bucket_name: str, filename: str, storage_client: storage.Client\n",
    ") -> Dict:\n",
    "    \"\"\"Read a json file from Google Cloud Storage.\n",
    "\n",
    "    Args:\n",
    "      bucket_name (str): Bucket name with json files.\n",
    "      filename (str): Json file name.\n",
    "      storage_client (str): Storage Client..\n",
    "\n",
    "    Returns:\n",
    "      Dictionary with json content.\n",
    "    \"\"\"\n",
    "    bucket = storage_client.get_bucket(bucket_name)\n",
    "    blob = bucket.get_blob(filename)\n",
    "    return json.loads(blob.download_as_bytes().decode(\"utf-8\"))\n",
    "\n",
    "\n",
    "def process_user_data(users_raw_data: Dict, date: datetime, group_id: int) -> pd.DataFrame:\n",
    "    \"\"\"Process raw users data to get only desired data.\n",
    "\n",
    "    Args:\n",
    "      users_raw_data (Dict): Semi-structured raw data.\n",
    "      date (datetime): Date.\n",
    "      group_id (int): Group id.\n",
    "\n",
    "\n",
    "    Returns:\n",
    "      Pandas dataframe pandas with structured data.\n",
    "    \"\"\"\n",
    "    users_list = []\n",
    "    for raw_data in users_raw_data:\n",
    "        for user in raw_data[\"data\"]:\n",
    "            users_dict = {\"user_id\": user[\"id\"], \"group_id\": int(group_id)}\n",
    "            users_dict.update(user[\"attributes\"])\n",
    "            users_dict[\"extraction_timestamp\"] = date\n",
    "            users_list.append(users_dict)\n",
    "    users_df = pd.DataFrame(users_list)\n",
    "    return fix_columns_to_upload_to_bq(users_df)\n",
    "\n",
    "\n",
    "def fix_columns_to_upload_to_bq(df: pd.DataFrame):\n",
    "    \"\"\"Removes `-` from dataframe columns and replace for `_`.\n",
    "\n",
    "    Args:\n",
    "      df: Dataframe to be formatted.\n",
    "\n",
    "    Returns:\n",
    "      Pandas dataframe with columns changed.\n",
    "    \"\"\"\n",
    "    fixed_columns = [column.replace(\"-\", \"_\") for column in df.columns.tolist()]\n",
    "    df.columns = fixed_columns\n",
    "    return df\n",
    "\n",
    "\n",
    "def get_groups_ids(groups_data):\n",
    "    groups_ids = []\n",
    "    for group_data in groups_data:\n",
    "        groups_ids.extend([group_id[\"id\"] for group_id in group_data[\"data\"]])\n",
    "    return groups_ids\n",
    "\n",
    "\n",
    "def start(request=None):\n",
    "    date = datetime.now()\n",
    "    date_str = date.strftime(\"%Y-%m-%d\")\n",
    "    landing_zone_bucket_name = os.getenv(\n",
    "        \"HUMANE_LANDING_ZONE_BUCKET\", \"humane-landing-zone\"\n",
    "    )\n",
    "    project_id = os.getenv(\"PROJECT_ID\", \"analytics-dev-308300\")\n",
    "    storage_client = storage.Client()\n",
    "    groups_path = format_folder_path(\"talentcard/Groups\", date_str, \"groups\")\n",
    "    groups_data = read_json_from_gcs(landing_zone_bucket_name, groups_path, storage_client)\n",
    "    groups_ids = get_groups_ids(groups_data)\n",
    "    users_processed_df_list = []\n",
    "    for group_id in groups_ids:\n",
    "        users_raw_data = read_json_from_gcs(\n",
    "            landing_zone_bucket_name,\n",
    "            format_folder_path(\"talentcard/Users\", date_str, f\"users-{group_id}\"),\n",
    "            storage_client,\n",
    "        )\n",
    "        users_processed_df = process_user_data(users_raw_data, date.strftime(\"%Y-%m-%d %H:%M:%S\"), group_id)\n",
    "        users_processed_df_list.append(users_processed_df)\n",
    "    users_processed_df_final = pd.concat(users_processed_df_list)\n",
    "    # talentcards_dataset = \"talentcards\"\n",
    "    # users_table_name = \"users\"\n",
    "    # users_processed_df_final.to_gbq(\n",
    "    #     f\"{talentcards_dataset}.{users_table_name}\",\n",
    "    #     if_exists=\"append\",\n",
    "    #     progress_bar=True,\n",
    "    # )\n",
    "\n",
    "    return users_processed_df_final\n"
   ],
   "outputs": [],
   "metadata": {}
  },
  {
   "cell_type": "code",
   "execution_count": 6,
   "source": [
    "df=start()"
   ],
   "outputs": [],
   "metadata": {}
  },
  {
   "cell_type": "code",
   "execution_count": 7,
   "source": [
    "df.shape"
   ],
   "outputs": [
    {
     "output_type": "execute_result",
     "data": {
      "text/plain": [
       "(64, 12)"
      ]
     },
     "metadata": {},
     "execution_count": 7
    }
   ],
   "metadata": {}
  },
  {
   "cell_type": "code",
   "execution_count": 11,
   "source": [
    "df[df.duplicated()]['group_id'].value_counts()"
   ],
   "outputs": [
    {
     "output_type": "execute_result",
     "data": {
      "text/plain": [
       "1818    30\n",
       "Name: group_id, dtype: int64"
      ]
     },
     "metadata": {},
     "execution_count": 11
    }
   ],
   "metadata": {}
  },
  {
   "cell_type": "code",
   "execution_count": null,
   "source": [],
   "outputs": [],
   "metadata": {}
  }
 ],
 "metadata": {
  "orig_nbformat": 4,
  "language_info": {
   "name": "python",
   "version": "3.9.7",
   "mimetype": "text/x-python",
   "codemirror_mode": {
    "name": "ipython",
    "version": 3
   },
   "pygments_lexer": "ipython3",
   "nbconvert_exporter": "python",
   "file_extension": ".py"
  },
  "kernelspec": {
   "name": "python3",
   "display_name": "Python 3.9.7 64-bit ('std_env': conda)"
  },
  "interpreter": {
   "hash": "cb1ba7f150d507ef1d1f1d30ab3b3b7b717d1d8faf2da1e077dd27ab2e32b187"
  }
 },
 "nbformat": 4,
 "nbformat_minor": 2
}