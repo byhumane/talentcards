{
 "cells": [
  {
   "cell_type": "markdown",
   "source": [
    "# GOALS\n",
    "To create a GBQ view containing a daily state on users engagement.\n",
    "- generate dates index\n",
    "- generate users and dates index\n",
    "- fill last_login_date for each date/user key\n",
    "- fill last_consumption_start_date for each date/user key\n",
    "- fill last_consumption_completion_date for each date/user key"
   ],
   "metadata": {}
  },
  {
   "cell_type": "markdown",
   "source": [
    "# PACKAGES"
   ],
   "metadata": {}
  },
  {
   "cell_type": "code",
   "execution_count": 24,
   "source": [
    "import pandas as pd\n",
    "from google.oauth2 import service_account\n",
    "import pandas_gbq\n",
    "import logging"
   ],
   "outputs": [],
   "metadata": {}
  },
  {
   "cell_type": "markdown",
   "source": [
    "# PARAMETERS"
   ],
   "metadata": {}
  },
  {
   "cell_type": "code",
   "execution_count": 25,
   "source": [
    "project_id = \"analytics-dev-308300\"\n",
    "\n",
    "cred_file=\"../keys/gcp_key.json\"\n",
    "\n",
    "destination_table='raw_engagement.users_engagement'"
   ],
   "outputs": [],
   "metadata": {}
  },
  {
   "cell_type": "code",
   "execution_count": 26,
   "source": [
    "pd.set_option(\"display.max_rows\", 200)\n",
    "pd.set_option(\"display.max_columns\", None)\n",
    "pd.set_option(\"display.width\", None)\n",
    "pd.set_option(\"display.max_colwidth\", None)"
   ],
   "outputs": [],
   "metadata": {}
  },
  {
   "cell_type": "markdown",
   "source": [
    "# FUNCTIONS"
   ],
   "metadata": {
    "tags": []
   }
  },
  {
   "cell_type": "markdown",
   "source": [
    "## get data"
   ],
   "metadata": {}
  },
  {
   "cell_type": "code",
   "execution_count": 27,
   "source": [
    "def get_data(project_id, credentials):\n",
    "    \"\"\"\n",
    "    ()-->df\n",
    "    \"\"\"\n",
    "    query = \"\"\"\n",
    "        SELECT DISTINCT\n",
    "            user_id,\n",
    "            created_at,\n",
    "            extraction_date,\n",
    "            user_name\n",
    "        FROM\n",
    "            dtm_engagement.dim_users\n",
    "        WHERE\n",
    "            group_id=1818\n",
    "    \"\"\"\n",
    "    users_df = pd.read_gbq(\n",
    "        query=query, credentials=credentials, project_id=project_id)\n",
    "\n",
    "    users_lst = users_df['user_id'].tolist()\n",
    "\n",
    "    \n",
    "    creation_df= users_df[['user_id','user_name','created_at']].drop_duplicates(ignore_index=True)\n",
    "    creation_df['created_at']=pd.to_datetime(\n",
    "        creation_df['created_at'], utc=True\n",
    "        )\n",
    "\n",
    "    query = \"\"\"\n",
    "        SELECT DISTINCT\n",
    "            user_id,\n",
    "            days_since_last_login,\n",
    "            extraction_date,\n",
    "            joined_group\n",
    "        FROM\n",
    "            dtm_engagement.hist_users\n",
    "        WHERE\n",
    "            group_id=1818\n",
    "        ORDER BY\n",
    "            extraction_date DESC\n",
    "        \"\"\"\n",
    "\n",
    "    login_df = pd.read_gbq(\n",
    "        query=query, credentials=credentials, project_id=project_id)\n",
    "\n",
    "    login_df=login_df.drop_duplicates(subset=['user_id','extraction_date'],keep='last',ignore_index=True)\n",
    "    \n",
    "#     login_df[\"last_login\"] = pd.to_datetime(\n",
    "#         login_df[\"last_login\"], utc=True\n",
    "#     )\n",
    "\n",
    "    query = \"\"\"\n",
    "        SELECT DISTINCT\n",
    "            user_id,\n",
    "            set_id,\n",
    "            started_at,\n",
    "            completed_at\n",
    "        FROM\n",
    "            dtm_engagement.ft_content_consumption\n",
    "        WHERE\n",
    "            group_id=1818\n",
    "        \"\"\"\n",
    "    consumption_df = pd.read_gbq(\n",
    "        query=query, credentials=credentials, project_id=project_id\n",
    "    )\n",
    "\n",
    "    consumption_df[\"started_at\"] = pd.to_datetime(\n",
    "        consumption_df[\"started_at\"], utc=True\n",
    "    )\n",
    "    consumption_df[\"completed_at\"] = pd.to_datetime(\n",
    "        consumption_df[\"completed_at\"], utc=True\n",
    "    )\n",
    "\n",
    "    return users_lst, creation_df, login_df, consumption_df"
   ],
   "outputs": [],
   "metadata": {}
  },
  {
   "cell_type": "markdown",
   "source": [
    "## generate base (users and dates) data frame"
   ],
   "metadata": {}
  },
  {
   "cell_type": "code",
   "execution_count": 60,
   "source": [
    "def create_base_df(\n",
    "    users_ls,\n",
    "    creation_df,\n",
    "    start_date=\"2021-08-16\",\n",
    "    end_date=pd.Timestamp.today().strftime(\"%Y-%m-%d\"),\n",
    "):\n",
    "    \"\"\"\n",
    "    (date-like, date_like, series) --> df\n",
    "    Create a dataframe with one row for each combination of user and date. Date range is defined by start_date and end_date (excluded).\n",
    "    \"\"\"\n",
    "    dates_index = (\n",
    "        pd.to_datetime(\n",
    "            pd.date_range(start=start_date, end=end_date, name=\"action_date\")\n",
    "        )\n",
    "        .strftime(\"%Y-%m-%d\")\n",
    "        .to_list()\n",
    "    )\n",
    "\n",
    "    actions_dict = [\n",
    "        {\"action_date\": action_date, \"user_id\": user}\n",
    "        for action_date in dates_index\n",
    "        for user in users_ls\n",
    "    ]\n",
    "\n",
    "    base_df=pd.DataFrame(actions_dict)\n",
    "    base_df=base_df.merge(creation_df, how='left',on='user_id')\n",
    "\n",
    "    base_df=base_df.drop(index=base_df[base_df['created_at'].dt.strftime('%Y-%m-%d')>base_df['action_date']].index)\n",
    "    \n",
    "    return base_df"
   ],
   "outputs": [],
   "metadata": {}
  },
  {
   "cell_type": "code",
   "execution_count": null,
   "source": [],
   "outputs": [],
   "metadata": {}
  },
  {
   "cell_type": "markdown",
   "source": [
    "## fill max date of interest for each date/user key"
   ],
   "metadata": {}
  },
  {
   "cell_type": "code",
   "execution_count": 29,
   "source": [
    "def max_date(consumption_df, reporting_date, user_id, date_of_interest):\n",
    "    \"\"\"\n",
    "    (df,date like str, int)-->date\n",
    "    Select the maximum value for date_of_interest field that is inferior to the reporting date (23:59:59), for the specified user_id.\n",
    "    \"\"\"\n",
    "    max_start = consumption_df[\n",
    "        (consumption_df[\"user_id\"] == user_id)\n",
    "        & (\n",
    "            consumption_df[date_of_interest]\n",
    "            <= pd.Timestamp(reporting_date + \" 23:59:59\", tz=\"UTC\")\n",
    "        )\n",
    "    ][date_of_interest].max()\n",
    "\n",
    "    return max_start"
   ],
   "outputs": [],
   "metadata": {}
  },
  {
   "cell_type": "markdown",
   "source": [
    "## Fill the number of completed sets by period"
   ],
   "metadata": {
    "tags": []
   }
  },
  {
   "cell_type": "code",
   "execution_count": 30,
   "source": [
    "def calculate_nb_of_sets_of_interest(consumption_df,reporting_date,user_id,date_of_interest,nb_of_days):\n",
    "    \"\"\"\n",
    "    (df, date like str, int, int, date like str)-->int\n",
    "    For the user_id, count the number of set_ids where completed at is between reporting_date-number_of_days and reporting_date.\n",
    "    \"\"\"\n",
    "\n",
    "    number_of_sets = consumption_df[(consumption_df['user_id']==user_id) & \n",
    "                                    (consumption_df[date_of_interest].between(pd.Timestamp(reporting_date + \" 23:59:59\", tz=\"UTC\")-pd.Timedelta(nb_of_days,'days'),pd.Timestamp(reporting_date + \" 23:59:59\", tz=\"UTC\")))]['set_id'].count()\n",
    "    \n",
    "    return number_of_sets"
   ],
   "outputs": [],
   "metadata": {}
  },
  {
   "cell_type": "markdown",
   "source": [
    "## Set user status based on dates"
   ],
   "metadata": {
    "tags": []
   }
  },
  {
   "cell_type": "code",
   "execution_count": 31,
   "source": [
    "def user_status(days_since_last_login, days_since_last_start,days_since_last_completion,ever_logged):\n",
    "    \"\"\"\n",
    "    (timedelta,timedelta,timedelta,bool)--> str\n",
    "    \"\"\"\n",
    "    if ever_logged==False:\n",
    "        return '0.bird'\n",
    "    elif days_since_last_completion <= 7:\n",
    "        return '4.learner'\n",
    "    elif days_since_last_start <= 7:\n",
    "        return '3.consumer'\n",
    "    elif days_since_last_login <= 7:\n",
    "        return '2.curious'\n",
    "    else:\n",
    "        return '1.missing'\n",
    "\n",
    "# assert user_status(\n",
    "#     timedelta_since_last_login=pd.Timedelta(pd.NaT),\n",
    "#     timedelta_since_last_start=pd.Timedelta('2 days 13:41:36'),\n",
    "#     timedelta_since_last_completion=pd.Timedelta('1 days 11:29:23'),\n",
    "#     ever_logged=True)=='4.learner'\n",
    "\n",
    "# assert user_status(\n",
    "#     timedelta_since_last_login=pd.Timedelta(pd.NaT),\n",
    "#     timedelta_since_last_start=pd.Timedelta('1 days 13:41:36'),\n",
    "#     timedelta_since_last_completion=pd.Timedelta('7 days 11:29:23'),\n",
    "#     ever_logged=True)=='3.consumer'\n",
    "\n",
    "# assert user_status(\n",
    "#     timedelta_since_last_login=pd.Timedelta(pd.NaT),\n",
    "#     timedelta_since_last_start=pd.Timedelta('1 days 13:41:36'),\n",
    "#     timedelta_since_last_completion=pd.Timedelta(pd.NaT),\n",
    "#     ever_logged=True)=='3.consumer'\n",
    "\n",
    "# # assert user_status(\n",
    "# #     timedelta_since_last_login=pd.Timedelta('1 days 13:41:36'),\n",
    "# #     timedelta_since_last_start=pd.Timedelta('8 days 13:41:36'),\n",
    "# #     timedelta_since_last_completion=pd.Timedelta('7 days 11:29:23'),\n",
    "# #     ever_logged=True)=='2.curious'\n",
    "\n",
    "# assert user_status(\n",
    "#     timedelta_since_last_login=pd.Timedelta('7 days 13:41:36'),\n",
    "#     timedelta_since_last_start=pd.Timedelta('8 days 13:41:36'),\n",
    "#     timedelta_since_last_completion=pd.Timedelta('10 days 11:29:23'),\n",
    "#     ever_logged=True)=='1.missing'\n",
    "\n",
    "# assert user_status(\n",
    "#     timedelta_since_last_login=pd.Timedelta('0 days'),\n",
    "#     timedelta_since_last_start=pd.Timedelta('0 days'),\n",
    "#     timedelta_since_last_completion=pd.Timedelta('0 days'),\n",
    "#     ever_logged=False)=='0.bird'"
   ],
   "outputs": [],
   "metadata": {}
  },
  {
   "cell_type": "markdown",
   "source": [
    "## create engagement df by completing base_df with calculated fields"
   ],
   "metadata": {}
  },
  {
   "cell_type": "code",
   "execution_count": 32,
   "source": [
    "def generate_engagement_df(base_df,consumption_df,login_df):\n",
    "    \"\"\"\n",
    "    (df,df,df)-->df\n",
    "    \"\"\"\n",
    "    engagement_df=base_df.copy()\n",
    "    \n",
    "    engagement_df=pd.merge(engagement_df,login_df,left_on=['user_id','action_date'],right_on=['user_id','extraction_date'])\n",
    "    \n",
    "    engagement_df['last_start_date']=engagement_df.apply(lambda x: max_date(consumption_df,x['action_date'],x['user_id'],'started_at'), axis=1)\n",
    "    engagement_df['timedelta_since_last_start']=pd.to_datetime(engagement_df['action_date']+' 23:59:59',utc=True)-engagement_df['last_start_date']\n",
    "    engagement_df['days_since_last_start']=engagement_df['timedelta_since_last_start'].dt.days\n",
    "    \n",
    "    engagement_df['last_completion_date']=engagement_df.apply(lambda x: max_date(consumption_df,x['action_date'],x['user_id'],'completed_at'), axis=1)\n",
    "    engagement_df['timedelta_since_last_completion']=(\n",
    "        pd.to_datetime(engagement_df['action_date']+' 23:59:59',utc=True)-engagement_df['last_completion_date']\n",
    "            )\n",
    "    engagement_df['days_since_last_completion']=engagement_df['timedelta_since_last_completion'].dt.days\n",
    "    \n",
    "    engagement_df['nb_of_completed_sets']=engagement_df.apply(lambda x: calculate_nb_of_sets_of_interest(consumption_df=consumption_df,reporting_date=x['action_date'],user_id=x['user_id'],date_of_interest='completed_at',nb_of_days=7),axis=1)\n",
    "    \n",
    "    engagement_df['user_status']=engagement_df.apply(lambda x:\n",
    "                                                               user_status(\n",
    "                                                                   x['days_since_last_login'],\n",
    "                                                                   x['days_since_last_start'],\n",
    "                                                                   x['days_since_last_completion'],\n",
    "                                                                   ever_logged=x['joined_group']),\n",
    "                                                               axis=1\n",
    "                                                              )\n",
    "    \n",
    "    return engagement_df"
   ],
   "outputs": [],
   "metadata": {}
  },
  {
   "cell_type": "markdown",
   "source": [
    "## create user_engagement table in gbq"
   ],
   "metadata": {}
  },
  {
   "cell_type": "code",
   "execution_count": 33,
   "source": [
    "def create_engagement_table(project_id=project_id, destination_table_name=destination_table, cred_file=cred_file):\n",
    "    \"\"\"\n",
    "    (df,str,str,str)--> gbq table\n",
    "    \"\"\"\n",
    "    \n",
    "    credentials = service_account.Credentials.from_service_account_file(cred_file)\n",
    "    \n",
    "    users_ls, creation_df, login_df, consumption_df = get_data(project_id=project_id,credentials=credentials)\n",
    "    \n",
    "    engagement_df = generate_engagement_df(\n",
    "                                create_base_df(users_ls=users_ls,\n",
    "                                               creation_df=creation_df),\n",
    "                                consumption_df=consumption_df,\n",
    "                                login_df=login_df\n",
    "                    )\n",
    "    \n",
    "    engagement_df.to_gbq(destination_table_name,project_id=project_id,credentials=credentials,if_exists='replace')\n",
    "    \n",
    "    return"
   ],
   "outputs": [],
   "metadata": {}
  },
  {
   "cell_type": "markdown",
   "source": [
    "# DATA WRANGLING"
   ],
   "metadata": {}
  },
  {
   "cell_type": "code",
   "execution_count": 36,
   "source": [
    "credentials = service_account.Credentials.from_service_account_file(cred_file)\n",
    "users_ls, creation_df, login_df, consumption_df = get_data(project_id=project_id,credentials=credentials)"
   ],
   "outputs": [],
   "metadata": {}
  },
  {
   "cell_type": "code",
   "execution_count": 63,
   "source": [
    "create_engagement_table()"
   ],
   "outputs": [
    {
     "output_type": "stream",
     "name": "stderr",
     "text": [
      "1it [00:04,  4.53s/it]\n"
     ]
    },
    {
     "output_type": "execute_result",
     "data": {
      "text/plain": [
       "([20030,\n",
       "  20294,\n",
       "  20295,\n",
       "  20296,\n",
       "  20297,\n",
       "  20082,\n",
       "  20108,\n",
       "  20130,\n",
       "  20144,\n",
       "  20145,\n",
       "  20146,\n",
       "  20147,\n",
       "  20156,\n",
       "  20157,\n",
       "  20158,\n",
       "  20159,\n",
       "  20160,\n",
       "  20163,\n",
       "  20166,\n",
       "  20172,\n",
       "  20135,\n",
       "  20220,\n",
       "  20217,\n",
       "  20029,\n",
       "  20032,\n",
       "  20137,\n",
       "  20213,\n",
       "  20136,\n",
       "  20302,\n",
       "  20118,\n",
       "  20161,\n",
       "  20165,\n",
       "  20168,\n",
       "  20129,\n",
       "  20293,\n",
       "  20100,\n",
       "  20167,\n",
       "  20214,\n",
       "  20162,\n",
       "  20169,\n",
       "  20215,\n",
       "  20164,\n",
       "  20138,\n",
       "  20134,\n",
       "  20216],\n",
       "     user_id                       user_name                created_at\n",
       " 0     20030                 Aurelien Jacomy 2021-07-25 02:42:03+00:00\n",
       " 1     20294                    Cleusio CRKS 2021-08-25 13:16:33+00:00\n",
       " 2     20295                   Nogueira CRKS 2021-08-25 13:17:01+00:00\n",
       " 3     20296                  Adalberto CRKS 2021-08-25 13:17:25+00:00\n",
       " 4     20297                     Daniel CRKS 2021-08-25 13:17:47+00:00\n",
       " 5     20082                         H Aluno 2021-07-31 23:54:33+00:00\n",
       " 6     20108                 Vinicius Galvao 2021-08-04 22:15:47+00:00\n",
       " 7     20130                     Teste Luana 2021-08-08 22:11:25+00:00\n",
       " 8     20144              Adriano Beltramini 2021-08-10 17:46:06+00:00\n",
       " 9     20145                    Diego Grippa 2021-08-10 17:46:23+00:00\n",
       " 10    20146                Patrick Ferreira 2021-08-10 17:46:53+00:00\n",
       " 11    20147                      Marilia Sa 2021-08-10 17:47:45+00:00\n",
       " 12    20156        Agripino Feitosa Ribeiro 2021-08-12 11:24:23+00:00\n",
       " 13    20157          Elias Machado de Godoy 2021-08-12 11:25:22+00:00\n",
       " 14    20158       Geraldo Ferreira da Silva 2021-08-12 11:25:59+00:00\n",
       " 15    20159          Rogerio Alves da Silva 2021-08-12 11:26:31+00:00\n",
       " 16    20160        Sergio Marthins da Silva 2021-08-12 11:26:57+00:00\n",
       " 17    20163        Marcelo Adelino de Sousa 2021-08-12 11:31:21+00:00\n",
       " 18    20166          Antonio Almir da Silva 2021-08-12 12:21:21+00:00\n",
       " 19    20172                    Walid Raydan 2021-08-12 14:44:47+00:00\n",
       " 20    20135                Roberta Carvalho 2021-08-09 16:47:49+00:00\n",
       " 21    20220                    Rafael Assis 2021-08-13 17:15:45+00:00\n",
       " 22    20217           Marcelo Rezk da Silva 2021-08-13 13:02:57+00:00\n",
       " 23    20029                    JM Benedetto 2021-07-25 00:11:04+00:00\n",
       " 24    20032                  Martin Ciriani 2021-07-25 21:00:47+00:00\n",
       " 25    20137                 Willian Ribeiro 2021-08-09 17:02:18+00:00\n",
       " 26    20213                 Roberto Barbosa 2021-08-13 12:59:06+00:00\n",
       " 27    20136                  Rodrigo Duarte 2021-08-09 16:50:25+00:00\n",
       " 28    20302                  Bruna Mesquita 2021-08-26 15:25:51+00:00\n",
       " 29    20118                  Martin Ciriani 2021-08-06 12:29:27+00:00\n",
       " 30    20161            Lucas Santos Ribeiro 2021-08-12 11:30:06+00:00\n",
       " 31    20165   Jose Carlos Pasquini Catozich 2021-08-12 11:33:06+00:00\n",
       " 32    20168    Joacquim Victor G Cavalcante 2021-08-12 12:39:10+00:00\n",
       " 33    20129                 Aurelien Jacomy 2021-08-08 20:10:50+00:00\n",
       " 34    20293                    Ricardo CRKS 2021-08-25 13:15:49+00:00\n",
       " 35    20100                  Luana Amarante 2021-08-03 11:05:51+00:00\n",
       " 36    20167        Idneide Silva Nascimento 2021-08-12 12:37:58+00:00\n",
       " 37    20214         Jemerson Da Silva Claro 2021-08-13 12:59:59+00:00\n",
       " 38    20162  Teresa Cristina Avile Lourenco 2021-08-12 11:30:47+00:00\n",
       " 39    20169       Luiz Claudio Da Silva Paz 2021-08-12 12:40:10+00:00\n",
       " 40    20215         Rafael Andrade de Jesus 2021-08-13 13:01:02+00:00\n",
       " 41    20164                  Arnaldo Lozano 2021-08-12 11:32:20+00:00\n",
       " 42    20138                    Sergio Silva 2021-08-09 17:03:28+00:00\n",
       " 43    20134                  Fernando Cesar 2021-08-09 16:39:58+00:00\n",
       " 44    20216     Paulo Sergio Massato Oshiro 2021-08-13 13:01:57+00:00,\n",
       "      user_id  days_since_last_login extraction_date joined_group\n",
       " 0      20030                    NaN      2021-09-11         True\n",
       " 1      20294                    NaN      2021-09-11        False\n",
       " 2      20295                    NaN      2021-09-11        False\n",
       " 3      20296                    NaN      2021-09-11        False\n",
       " 4      20297                    NaN      2021-09-11        False\n",
       " ..       ...                    ...             ...          ...\n",
       " 859    20168                    NaN      2021-08-23         None\n",
       " 860    20172                    NaN      2021-08-23         None\n",
       " 861    20213                    NaN      2021-08-23         None\n",
       " 862    20217                    NaN      2021-08-23         None\n",
       " 863    20220                    NaN      2021-08-23         None\n",
       " \n",
       " [864 rows x 4 columns],\n",
       "      user_id set_id                started_at              completed_at\n",
       " 0      20135  11474 2021-08-13 20:25:32+00:00                       NaT\n",
       " 1      20130  11508                       NaT                       NaT\n",
       " 2      20108  11401                       NaT                       NaT\n",
       " 3      20130  11401                       NaT                       NaT\n",
       " 4      20135  11401                       NaT                       NaT\n",
       " ..       ...    ...                       ...                       ...\n",
       " 391    20164  12069 2021-09-08 10:37:34+00:00 2021-09-08 10:43:19+00:00\n",
       " 392    20162  12069 2021-09-09 12:34:47+00:00 2021-09-09 12:37:15+00:00\n",
       " 393    20214  12069 2021-09-08 22:40:08+00:00 2021-09-08 22:41:49+00:00\n",
       " 394    20215  12069 2021-09-08 12:25:26+00:00 2021-09-08 12:27:38+00:00\n",
       " 395    20216  12069 2021-09-08 10:53:26+00:00 2021-09-08 10:56:48+00:00\n",
       " \n",
       " [396 rows x 4 columns])"
      ]
     },
     "metadata": {},
     "execution_count": 63
    }
   ],
   "metadata": {}
  },
  {
   "cell_type": "code",
   "execution_count": null,
   "source": [],
   "outputs": [],
   "metadata": {}
  }
 ],
 "metadata": {
  "environment": {
   "name": "common-cpu.m75",
   "type": "gcloud",
   "uri": "gcr.io/deeplearning-platform-release/base-cpu:m75"
  },
  "jupytext": {
   "formats": "ipynb,py:percent"
  },
  "kernelspec": {
   "name": "python3",
   "display_name": "Python 3.9.7 64-bit ('std_env': conda)"
  },
  "language_info": {
   "codemirror_mode": {
    "name": "ipython",
    "version": 3
   },
   "file_extension": ".py",
   "mimetype": "text/x-python",
   "name": "python",
   "nbconvert_exporter": "python",
   "pygments_lexer": "ipython3",
   "version": "3.9.7"
  },
  "toc-autonumbering": true,
  "interpreter": {
   "hash": "cb1ba7f150d507ef1d1f1d30ab3b3b7b717d1d8faf2da1e077dd27ab2e32b187"
  }
 },
 "nbformat": 4,
 "nbformat_minor": 5
}