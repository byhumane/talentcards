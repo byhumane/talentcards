{
 "cells": [
  {
   "cell_type": "markdown",
   "id": "ae849a88",
   "metadata": {},
   "source": [
    "# GOALS\n",
    "To create a GBQ view containing a daily state on users engagement.\n",
    "- generate dates index\n",
    "- generate users and dates index\n",
    "- fill last_login_date for each date/user key\n",
    "- fill last_consumption_start_date for each date/user key\n",
    "- fill last_consumption_completion_date for each date/user key"
   ]
  },
  {
   "cell_type": "markdown",
   "id": "45a2d4aa",
   "metadata": {},
   "source": [
    "# PACKAGES"
   ]
  },
  {
   "cell_type": "code",
   "execution_count": 36,
   "id": "4110c797",
   "metadata": {},
   "outputs": [],
   "source": [
    "import pandas as pd\n",
    "from google.oauth2 import service_account\n",
    "import pandas_gbq\n",
    "import logging"
   ]
  },
  {
   "cell_type": "markdown",
   "id": "a668881a",
   "metadata": {},
   "source": [
    "# PARAMETERS"
   ]
  },
  {
   "cell_type": "code",
   "execution_count": 37,
   "id": "4330d4af",
   "metadata": {},
   "outputs": [],
   "source": [
    "project_id = \"analytics-dev-308300\"\n",
    "\n",
    "cred_file=\"../keys/gcp_key.json\"\n",
    "\n",
    "destination_table='raw_engagement.users_engagement'"
   ]
  },
  {
   "cell_type": "code",
   "execution_count": 38,
   "id": "c183b696-bce0-4245-bd46-ba82c5f833b9",
   "metadata": {},
   "outputs": [],
   "source": [
    "pd.set_option(\"display.max_rows\", 200)\n",
    "pd.set_option(\"display.max_columns\", None)\n",
    "pd.set_option(\"display.width\", None)\n",
    "pd.set_option(\"display.max_colwidth\", None)"
   ]
  },
  {
   "cell_type": "markdown",
   "id": "ba4c6312",
   "metadata": {
    "tags": []
   },
   "source": [
    "# FUNCTIONS"
   ]
  },
  {
   "cell_type": "markdown",
   "id": "5a4d7e22",
   "metadata": {},
   "source": [
    "## get data"
   ]
  },
  {
   "cell_type": "code",
   "execution_count": 39,
   "id": "51d69d8c",
   "metadata": {},
   "outputs": [],
   "source": [
    "def get_data(project_id, credentials):\n",
    "    \"\"\"\n",
    "    ()-->df\n",
    "    \"\"\"\n",
    "    query = \"\"\"\n",
    "        SELECT DISTINCT\n",
    "            user_id,\n",
    "            created_at,\n",
    "            extraction_date,\n",
    "            user_name\n",
    "        FROM\n",
    "            dtm_engagement.dim_users\n",
    "        WHERE\n",
    "            group_id=1818\n",
    "    \"\"\"\n",
    "    users_df = pd.read_gbq(\n",
    "        query=query, credentials=credentials, project_id=project_id)\n",
    "\n",
    "    users_lst = users_df['user_id'].tolist()\n",
    "\n",
    "    \n",
    "    creation_df= users_df[['user_id','user_name','created_at']].drop_duplicates(ignore_index=True)\n",
    "    creation_df['created_at']=pd.to_datetime(\n",
    "        creation_df['created_at'], utc=True\n",
    "        )\n",
    "\n",
    "    query = \"\"\"\n",
    "        SELECT DISTINCT\n",
    "            user_id,\n",
    "            days_since_last_login,\n",
    "            extraction_date,\n",
    "            joined_group\n",
    "        FROM\n",
    "            dtm_engagement.hist_users\n",
    "        WHERE\n",
    "            group_id=1818\n",
    "        ORDER BY\n",
    "            extraction_date DESC\n",
    "        \"\"\"\n",
    "\n",
    "    login_df = pd.read_gbq(\n",
    "        query=query, credentials=credentials, project_id=project_id)\n",
    "\n",
    "    login_df=login_df.drop_duplicates(subset=['user_id','extraction_date'],keep='last',ignore_index=True)\n",
    "    \n",
    "#     login_df[\"last_login\"] = pd.to_datetime(\n",
    "#         login_df[\"last_login\"], utc=True\n",
    "#     )\n",
    "\n",
    "    query = \"\"\"\n",
    "        SELECT DISTINCT\n",
    "            user_id,\n",
    "            set_id,\n",
    "            started_at,\n",
    "            completed_at\n",
    "        FROM\n",
    "            dtm_engagement.ft_content_consumption\n",
    "        WHERE\n",
    "            group_id=1818\n",
    "        \"\"\"\n",
    "    consumption_df = pd.read_gbq(\n",
    "        query=query, credentials=credentials, project_id=project_id\n",
    "    )\n",
    "\n",
    "    consumption_df[\"started_at\"] = pd.to_datetime(\n",
    "        consumption_df[\"started_at\"], utc=True\n",
    "    )\n",
    "    consumption_df[\"completed_at\"] = pd.to_datetime(\n",
    "        consumption_df[\"completed_at\"], utc=True\n",
    "    )\n",
    "\n",
    "    return users_lst, creation_df, login_df, consumption_df"
   ]
  },
  {
   "cell_type": "markdown",
   "id": "e2ab8c30",
   "metadata": {},
   "source": [
    "## generate base (users and dates) data frame"
   ]
  },
  {
   "cell_type": "code",
   "execution_count": 40,
   "id": "e1a26f71",
   "metadata": {},
   "outputs": [],
   "source": [
    "def create_base_df(\n",
    "    users_ls,\n",
    "    creation_df,\n",
    "    start_date=\"2021-08-16\",\n",
    "    end_date=pd.Timestamp.today().strftime(\"%Y-%m-%d\"),\n",
    "):\n",
    "    \"\"\"\n",
    "    (date-like, date_like, series) --> df\n",
    "    Create a dataframe with one row for each combination of user and date. Date range is defined by start_date and end_date (excluded).\n",
    "    \"\"\"\n",
    "    dates_index = (\n",
    "        pd.to_datetime(\n",
    "            pd.date_range(start=start_date, end=end_date, name=\"action_date\")\n",
    "        )\n",
    "        .strftime(\"%Y-%m-%d\")\n",
    "        .to_list()\n",
    "    )\n",
    "\n",
    "    actions_dict = [\n",
    "        {\"action_date\": action_date, \"user_id\": user}\n",
    "        for action_date in dates_index\n",
    "        for user in users_ls\n",
    "    ]\n",
    "    \n",
    "    base_df=pd.DataFrame(actions_dict)\n",
    "    base_df=base_df.merge(creation_df, how='left',on='user_id')\n",
    "    base_df=base_df.drop(index=base_df[base_df['created_at']>base_df['action_date']].index)\n",
    "    \n",
    "    return base_df"
   ]
  },
  {
   "cell_type": "markdown",
   "id": "d168df1f",
   "metadata": {},
   "source": [
    "## fill max date of interest for each date/user key"
   ]
  },
  {
   "cell_type": "code",
   "execution_count": 41,
   "id": "261b9174",
   "metadata": {},
   "outputs": [],
   "source": [
    "def max_date(consumption_df, reporting_date, user_id, date_of_interest):\n",
    "    \"\"\"\n",
    "    (df,date like str, int)-->date\n",
    "    Select the maximum value for date_of_interest field that is inferior to the reporting date (23:59:59), for the specified user_id.\n",
    "    \"\"\"\n",
    "    max_start = consumption_df[\n",
    "        (consumption_df[\"user_id\"] == user_id)\n",
    "        & (\n",
    "            consumption_df[date_of_interest]\n",
    "            <= pd.Timestamp(reporting_date + \" 23:59:59\", tz=\"UTC\")\n",
    "        )\n",
    "    ][date_of_interest].max()\n",
    "\n",
    "    return max_start"
   ]
  },
  {
   "cell_type": "markdown",
   "id": "660f958e-b5b3-4204-a690-299e858848f6",
   "metadata": {
    "tags": []
   },
   "source": [
    "## Fill the number of completed sets by period"
   ]
  },
  {
   "cell_type": "code",
   "execution_count": 42,
   "id": "42b5423d-ba91-4065-99b7-5c20fd64b03a",
   "metadata": {},
   "outputs": [],
   "source": [
    "def calculate_nb_of_sets_of_interest(consumption_df,reporting_date,user_id,date_of_interest,nb_of_days):\n",
    "    \"\"\"\n",
    "    (df, date like str, int, int, date like str)-->int\n",
    "    For the user_id, count the number of set_ids where completed at is between reporting_date-number_of_days and reporting_date.\n",
    "    \"\"\"\n",
    "\n",
    "    number_of_sets = consumption_df[(consumption_df['user_id']==user_id) & \n",
    "                                    (consumption_df[date_of_interest].between(pd.Timestamp(reporting_date + \" 23:59:59\", tz=\"UTC\")-pd.Timedelta(nb_of_days,'days'),pd.Timestamp(reporting_date + \" 23:59:59\", tz=\"UTC\")))]['set_id'].count()\n",
    "    \n",
    "    return number_of_sets"
   ]
  },
  {
   "cell_type": "markdown",
   "id": "113b6f1e-181d-424d-8283-22a81befcedf",
   "metadata": {
    "tags": []
   },
   "source": [
    "## Set user status based on dates"
   ]
  },
  {
   "cell_type": "code",
   "execution_count": 43,
   "id": "77604c18-fb29-4bc4-9c4e-2e5bc74bcec1",
   "metadata": {},
   "outputs": [],
   "source": [
    "def user_status(days_since_last_login, days_since_last_start,days_since_last_completion,ever_logged):\n",
    "    \"\"\"\n",
    "    (timedelta,timedelta,timedelta,bool)--> str\n",
    "    \"\"\"\n",
    "    if ever_logged==False:\n",
    "        return '0.bird'\n",
    "    elif days_since_last_completion <= 7:\n",
    "        return '4.learner'\n",
    "    elif days_since_last_start <= 7:\n",
    "        return '3.consumer'\n",
    "    elif days_since_last_login <= 7:\n",
    "        return '2.curious'\n",
    "    else:\n",
    "        return '1.missing'\n",
    "\n",
    "# assert user_status(\n",
    "#     timedelta_since_last_login=pd.Timedelta(pd.NaT),\n",
    "#     timedelta_since_last_start=pd.Timedelta('2 days 13:41:36'),\n",
    "#     timedelta_since_last_completion=pd.Timedelta('1 days 11:29:23'),\n",
    "#     ever_logged=True)=='4.learner'\n",
    "\n",
    "# assert user_status(\n",
    "#     timedelta_since_last_login=pd.Timedelta(pd.NaT),\n",
    "#     timedelta_since_last_start=pd.Timedelta('1 days 13:41:36'),\n",
    "#     timedelta_since_last_completion=pd.Timedelta('7 days 11:29:23'),\n",
    "#     ever_logged=True)=='3.consumer'\n",
    "\n",
    "# assert user_status(\n",
    "#     timedelta_since_last_login=pd.Timedelta(pd.NaT),\n",
    "#     timedelta_since_last_start=pd.Timedelta('1 days 13:41:36'),\n",
    "#     timedelta_since_last_completion=pd.Timedelta(pd.NaT),\n",
    "#     ever_logged=True)=='3.consumer'\n",
    "\n",
    "# # assert user_status(\n",
    "# #     timedelta_since_last_login=pd.Timedelta('1 days 13:41:36'),\n",
    "# #     timedelta_since_last_start=pd.Timedelta('8 days 13:41:36'),\n",
    "# #     timedelta_since_last_completion=pd.Timedelta('7 days 11:29:23'),\n",
    "# #     ever_logged=True)=='2.curious'\n",
    "\n",
    "# assert user_status(\n",
    "#     timedelta_since_last_login=pd.Timedelta('7 days 13:41:36'),\n",
    "#     timedelta_since_last_start=pd.Timedelta('8 days 13:41:36'),\n",
    "#     timedelta_since_last_completion=pd.Timedelta('10 days 11:29:23'),\n",
    "#     ever_logged=True)=='1.missing'\n",
    "\n",
    "# assert user_status(\n",
    "#     timedelta_since_last_login=pd.Timedelta('0 days'),\n",
    "#     timedelta_since_last_start=pd.Timedelta('0 days'),\n",
    "#     timedelta_since_last_completion=pd.Timedelta('0 days'),\n",
    "#     ever_logged=False)=='0.bird'"
   ]
  },
  {
   "cell_type": "markdown",
   "id": "3ef23bc1-afc7-46c5-9d20-9ba0e8b668ee",
   "metadata": {},
   "source": [
    "## create engagement df by completing base_df with calculated fields"
   ]
  },
  {
   "cell_type": "code",
   "execution_count": 44,
   "id": "be4d1f21-1b8d-4837-9b24-ecd0fe243e98",
   "metadata": {},
   "outputs": [],
   "source": [
    "def generate_engagement_df(base_df,consumption_df,login_df):\n",
    "    \"\"\"\n",
    "    (df,df,df)-->df\n",
    "    \"\"\"\n",
    "    engagement_df=base_df.copy()\n",
    "    \n",
    "    engagement_df=pd.merge(engagement_df,login_df,left_on=['user_id','action_date'],right_on=['user_id','extraction_date'])\n",
    "    \n",
    "    engagement_df['last_start_date']=engagement_df.apply(lambda x: max_date(consumption_df,x['action_date'],x['user_id'],'started_at'), axis=1)\n",
    "    engagement_df['timedelta_since_last_start']=pd.to_datetime(engagement_df['action_date']+' 23:59:59',utc=True)-engagement_df['last_start_date']\n",
    "    engagement_df['days_since_last_start']=engagement_df['timedelta_since_last_start'].dt.days\n",
    "    \n",
    "    engagement_df['last_completion_date']=engagement_df.apply(lambda x: max_date(consumption_df,x['action_date'],x['user_id'],'completed_at'), axis=1)\n",
    "    engagement_df['timedelta_since_last_completion']=(\n",
    "        pd.to_datetime(engagement_df['action_date']+' 23:59:59',utc=True)-engagement_df['last_completion_date']\n",
    "            )\n",
    "    engagement_df['days_since_last_completion']=engagement_df['timedelta_since_last_completion'].dt.days\n",
    "    \n",
    "    engagement_df['nb_of_completed_sets']=engagement_df.apply(lambda x: calculate_nb_of_sets_of_interest(consumption_df=consumption_df,reporting_date=x['action_date'],user_id=x['user_id'],date_of_interest='completed_at',nb_of_days=7),axis=1)\n",
    "    \n",
    "    engagement_df['user_status']=engagement_df.apply(lambda x:\n",
    "                                                               user_status(\n",
    "                                                                   x['days_since_last_login'],\n",
    "                                                                   x['days_since_last_start'],\n",
    "                                                                   x['days_since_last_completion'],\n",
    "                                                                   ever_logged=x['joined_group']),\n",
    "                                                               axis=1\n",
    "                                                              )\n",
    "    \n",
    "    return engagement_df"
   ]
  },
  {
   "cell_type": "markdown",
   "id": "4fb5f754-1912-4de4-b7d7-8431451978f8",
   "metadata": {},
   "source": [
    "## create user_engagement table in gbq"
   ]
  },
  {
   "cell_type": "code",
   "execution_count": 47,
   "id": "e1df8859-251e-4208-a856-91c725cd9e13",
   "metadata": {},
   "outputs": [],
   "source": [
    "def create_engagement_table(project_id=project_id, destination_table_name=destination_table, cred_file=cred_file):\n",
    "    \"\"\"\n",
    "    (df,str,str,str)--> gbq table\n",
    "    \"\"\"\n",
    "    \n",
    "    credentials = service_account.Credentials.from_service_account_file(cred_file)\n",
    "    \n",
    "    users_ls, creation_df, login_df, consumption_df = get_data(project_id=project_id,credentials=credentials)\n",
    "    \n",
    "    engagement_df = generate_engagement_df(\n",
    "                                create_base_df(users_ls=users_ls,\n",
    "                                               creation_df=creation_df),\n",
    "                                consumption_df=consumption_df,\n",
    "                                login_df=login_df\n",
    "                    )\n",
    "    \n",
    "    engagement_df.to_gbq(destination_table_name,project_id=project_id,credentials=credentials,if_exists='replace')\n",
    "    \n",
    "    return"
   ]
  },
  {
   "cell_type": "markdown",
   "id": "72b1980f",
   "metadata": {},
   "source": [
    "# DATA WRANGLING"
   ]
  },
  {
   "cell_type": "code",
   "execution_count": 48,
   "id": "66b5953b-7edf-484c-8a2e-34b1a549042e",
   "metadata": {},
   "outputs": [
    {
     "name": "stderr",
     "output_type": "stream",
     "text": [
      "1it [00:05,  5.35s/it]\n"
     ]
    }
   ],
   "source": [
    "create_engagement_table()"
   ]
  },
  {
   "cell_type": "code",
   "execution_count": null,
   "id": "da4aaf6e-0cdb-496b-b6a2-6cc7a5984698",
   "metadata": {},
   "outputs": [],
   "source": []
  }
 ],
 "metadata": {
  "environment": {
   "name": "common-cpu.m75",
   "type": "gcloud",
   "uri": "gcr.io/deeplearning-platform-release/base-cpu:m75"
  },
  "jupytext": {
   "formats": "ipynb,py:percent"
  },
  "kernelspec": {
   "display_name": "Python [conda env:std_env]",
   "language": "python",
   "name": "conda-env-std_env-py"
  },
  "language_info": {
   "codemirror_mode": {
    "name": "ipython",
    "version": 3
   },
   "file_extension": ".py",
   "mimetype": "text/x-python",
   "name": "python",
   "nbconvert_exporter": "python",
   "pygments_lexer": "ipython3",
   "version": "3.9.6"
  },
  "toc-autonumbering": true
 },
 "nbformat": 4,
 "nbformat_minor": 5
}
