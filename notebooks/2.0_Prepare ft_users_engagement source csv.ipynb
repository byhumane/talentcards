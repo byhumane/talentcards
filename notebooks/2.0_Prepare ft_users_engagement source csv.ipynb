{
 "cells": [
  {
   "cell_type": "markdown",
   "source": [
    "# GOALS\n",
    "To create a GBQ view containing a daily state on users engagement.\n",
    "- generate dates index\n",
    "- generate users and dates index\n",
    "- fill last_login_date for each date/user key\n",
    "- fill last_consumption_start_date for each date/user key\n",
    "- fill last_consumption_completion_date for each date/user key"
   ],
   "metadata": {}
  },
  {
   "cell_type": "markdown",
   "source": [
    "# PACKAGES"
   ],
   "metadata": {}
  },
  {
   "cell_type": "code",
   "execution_count": 1,
   "source": [
    "import pandas as pd\n",
    "from google.oauth2 import service_account\n",
    "import pandas_gbq\n",
    "import logging"
   ],
   "outputs": [],
   "metadata": {}
  },
  {
   "cell_type": "markdown",
   "source": [
    "# PARAMETERS"
   ],
   "metadata": {}
  },
  {
   "cell_type": "code",
   "execution_count": 2,
   "source": [
    "logger = logging.getLogger(\"pandas_gbq\")\n",
    "logger.setLevel(logging.DEBUG)\n",
    "logger.addHandler(logging.StreamHandler())\n",
    "\n",
    "project_id = \"analytics-dev-308300\"\n",
    "\n",
    "credentials = service_account.Credentials.from_service_account_file(\n",
    "    \"../keys/gcp_key.json\",\n",
    ")\n",
    "\n",
    "\n",
    "pd.set_option(\"display.max_rows\", 200)\n",
    "pd.set_option(\"display.max_columns\", None)\n",
    "pd.set_option(\"display.width\", None)\n",
    "pd.set_option(\"display.max_colwidth\", None)"
   ],
   "outputs": [],
   "metadata": {}
  },
  {
   "cell_type": "code",
   "execution_count": 3,
   "source": [
    "user_id = 20129"
   ],
   "outputs": [],
   "metadata": {}
  },
  {
   "cell_type": "markdown",
   "source": [
    "# FUNCTIONS"
   ],
   "metadata": {
    "tags": []
   }
  },
  {
   "cell_type": "markdown",
   "source": [
    "## get data"
   ],
   "metadata": {}
  },
  {
   "cell_type": "code",
   "execution_count": 4,
   "source": [
    "def get_data():\n",
    "    \"\"\"\n",
    "    ()-->df\n",
    "    \"\"\"\n",
    "    users_file=pd.read_excel('../data/in/users.xlsx')\n",
    "    users_file['last_login']=users_file['last_login'].fillna(pd.NaT)\n",
    "#     users_file=users_file[users_file['group_id']==1818]\n",
    "    \n",
    "    users_list = users_file['user_id'].unique().tolist()\n",
    "    \n",
    "    creation_df= users_file[['user_id','created_at']].drop_duplicates(ignore_index=True)\n",
    "    creation_df['created_at']=pd.to_datetime(\n",
    "        creation_df['created_at'], utc=True\n",
    "        )   \n",
    "    \n",
    "    login_df = users_file[['date_str','user_id','last_login']]\n",
    "    login_df = login_df.rename(columns={'date_str':'extraction_date'})\n",
    "    login_df['last_login']=pd.to_datetime(\n",
    "        login_df['last_login'], utc=True\n",
    "        )\n",
    "\n",
    "    consumption_df = pd.read_excel('../data/in/reports.xlsx')\n",
    "    consumption_df[\"started_at\"] = pd.to_datetime(\n",
    "        consumption_df[\"started_at\"], utc=True\n",
    "    )\n",
    "    consumption_df[\"completed_at\"] = pd.to_datetime(\n",
    "        consumption_df[\"completed_at\"], utc=True\n",
    "    )\n",
    "\n",
    "    return users_list, creation_df, login_df, consumption_df"
   ],
   "outputs": [],
   "metadata": {}
  },
  {
   "cell_type": "markdown",
   "source": [
    "## generate base (users and dates) data frame"
   ],
   "metadata": {}
  },
  {
   "cell_type": "code",
   "execution_count": 5,
   "source": [
    "def create_base_df(\n",
    "    ls_users,\n",
    "    creation_df,\n",
    "    start_date=\"2021-08-16\",\n",
    "    end_date=pd.Timestamp.today().strftime(\"%Y-%m-%d\"),\n",
    "):\n",
    "    \"\"\"\n",
    "    (date-like, date_like, series) --> df\n",
    "    Create a dataframe with one row for each combination of user and date. Date range is defined by start_date and end_date (excluded).\n",
    "    \"\"\"\n",
    "    dates_index = (\n",
    "        pd.to_datetime(\n",
    "            pd.date_range(start=start_date, end=end_date, name=\"action_date\")\n",
    "        )\n",
    "        .strftime(\"%Y-%m-%d\")\n",
    "        .to_list()\n",
    "    )\n",
    "\n",
    "    actions_dict = [\n",
    "        {\"action_date\": action_date, \"user_id\": user}\n",
    "        for action_date in dates_index\n",
    "        for user in ls_users\n",
    "    ]\n",
    "    \n",
    "    base_df=pd.DataFrame(actions_dict)\n",
    "    base_df=base_df.merge(creation_df, how='left',on='user_id')\n",
    "    base_df=base_df.drop(index=base_df[base_df['created_at']>base_df['action_date']].index)\n",
    "    \n",
    "    return base_df"
   ],
   "outputs": [],
   "metadata": {}
  },
  {
   "cell_type": "markdown",
   "source": [
    "## fill last_login_date for each date/user key"
   ],
   "metadata": {}
  },
  {
   "cell_type": "code",
   "execution_count": 6,
   "source": [
    "def update_last_login(base_df, logins_df):\n",
    "    \"\"\"\n",
    "    (df,df)-->df\n",
    "    Include last_login and created_at into actions_df.\n",
    "    \"\"\"\n",
    "    actions_df = base_df.merge(\n",
    "        logins_df,\n",
    "        how=\"left\",\n",
    "        left_on=[\"action_date\", \"user_id\"],\n",
    "        right_on=[\"extraction_date\", \"user_id\"],\n",
    "    ).drop(columns=[\"extraction_date\"])\n",
    "    \n",
    "    actions_df['last_login']=actions_df['last_login'].fillna(pd.NaT)\n",
    "    \n",
    "    return actions_df"
   ],
   "outputs": [],
   "metadata": {}
  },
  {
   "cell_type": "markdown",
   "source": [
    "## fill last_consumption_date for each date/user key"
   ],
   "metadata": {}
  },
  {
   "cell_type": "code",
   "execution_count": 7,
   "source": [
    "def max_date(consumption_df, reporting_date, user_id, date_of_interest):\n",
    "    \"\"\"\n",
    "    (df,date like str, int)\n",
    "    Select the maximum value for date_of_interest field that is inferior to the reporting date (23:59:59), for the specified user_id.\n",
    "    \"\"\"\n",
    "    max_start = consumption_df[\n",
    "        (consumption_df[\"user_id\"] == user_id)\n",
    "        & (\n",
    "            consumption_df[date_of_interest]\n",
    "            <= pd.Timestamp(reporting_date + \" 23:59:59\", tz=\"UTC\")\n",
    "        )\n",
    "    ][date_of_interest].max()\n",
    "\n",
    "    return max_start"
   ],
   "outputs": [],
   "metadata": {}
  },
  {
   "cell_type": "code",
   "execution_count": 8,
   "source": [
    "def user_status(timedelta_since_last_login, timedelta_since_last_start,timedelta_since_last_completion):\n",
    "    \"\"\"\n",
    "    (timedelta,timedelta,timedelta)--> str\n",
    "    \"\"\"\n",
    "    if timedelta_since_last_completion <= pd.Timedelta(7,'D'):\n",
    "        return '4.learner'\n",
    "    elif timedelta_since_last_start <= pd.Timedelta(7,'D'):\n",
    "        return '3.consumer'\n",
    "    elif timedelta_since_last_login <= pd.Timedelta(7,'D'):\n",
    "        return '2.curious'\n",
    "    else:\n",
    "        return '1.missing'\n",
    "\n",
    "assert user_status(\n",
    "    timedelta_since_last_login=pd.Timedelta(pd.NaT),\n",
    "    timedelta_since_last_start=pd.Timedelta('2 days 13:41:36'),\n",
    "    timedelta_since_last_completion=pd.Timedelta('1 days 11:29:23'))=='4.learner'\n",
    "\n",
    "assert user_status(\n",
    "    timedelta_since_last_login=pd.Timedelta(pd.NaT),\n",
    "    timedelta_since_last_start=pd.Timedelta('1 days 13:41:36'),\n",
    "    timedelta_since_last_completion=pd.Timedelta('7 days 11:29:23'))=='3.consumer'\n",
    "\n",
    "assert user_status(\n",
    "    timedelta_since_last_login=pd.Timedelta(pd.NaT),\n",
    "    timedelta_since_last_start=pd.Timedelta('1 days 13:41:36'),\n",
    "    timedelta_since_last_completion=pd.Timedelta(pd.NaT))=='3.consumer'\n",
    "\n",
    "assert user_status(\n",
    "    timedelta_since_last_login=pd.Timedelta('1 days 13:41:36'),\n",
    "    timedelta_since_last_start=pd.Timedelta('8 days 13:41:36'),\n",
    "    timedelta_since_last_completion=pd.Timedelta('7 days 11:29:23'))=='2.curious'\n",
    "\n",
    "assert user_status(\n",
    "    timedelta_since_last_login=pd.Timedelta('7 days 13:41:36'),\n",
    "    timedelta_since_last_start=pd.Timedelta('8 days 13:41:36'),\n",
    "    timedelta_since_last_completion=pd.Timedelta('10 days 11:29:23'))=='1.missing'"
   ],
   "outputs": [],
   "metadata": {}
  },
  {
   "cell_type": "code",
   "execution_count": 9,
   "source": [
    "def update_consumption_dates(actions_df,consumption_df):\n",
    "    \"\"\"\n",
    "    (df,df)-->df\n",
    "    Update the start_date for each user with the maximum value inferior to the action_date. Action date is extended with 23:59:59 to encompass the entire day.\n",
    "    \"\"\"\n",
    "    updated_actions_df=actions_df.copy()\n",
    "    updated_actions_df['last_start_date']=updated_actions_df.apply(lambda x: max_date(consumption_df,x['action_date'],x['user_id'],'started_at'), axis=1)\n",
    "    updated_actions_df['last_completion_date']=updated_actions_df.apply(lambda x: max_date(consumption_df,x['action_date'],x['user_id'],'completed_at'), axis=1)\n",
    "    \n",
    "    updated_actions_df['timedelta_since_last_login']=pd.to_datetime(updated_actions_df['action_date']+' 23:59:59',utc=True)-pd.to_datetime(updated_actions_df['last_login'],utc=True)\n",
    "    updated_actions_df['timedelta_since_last_start']=pd.to_datetime(updated_actions_df['action_date']+' 23:59:59',utc=True)-updated_actions_df['last_start_date']\n",
    "    updated_actions_df['timedelta_since_last_completion']=pd.to_datetime(updated_actions_df['action_date']+' 23:59:59',utc=True)-updated_actions_df['last_completion_date']\n",
    "    \n",
    "    updated_actions_df['user_status']=updated_actions_df.apply(lambda x:\n",
    "                                                               user_status(\n",
    "                                                                   x['timedelta_since_last_login'],\n",
    "                                                                   x['timedelta_since_last_start'],\n",
    "                                                                   x['timedelta_since_last_completion']),\n",
    "                                                               axis=1\n",
    "                                                              )\n",
    "    \n",
    "    return updated_actions_df\n",
    "    "
   ],
   "outputs": [],
   "metadata": {}
  },
  {
   "cell_type": "markdown",
   "source": [
    "# DATA WRANGLING"
   ],
   "metadata": {}
  },
  {
   "cell_type": "code",
   "execution_count": 11,
   "source": [
    "ls_users, df_creation, df_logins, df_consumption = get_data()"
   ],
   "outputs": [],
   "metadata": {}
  },
  {
   "cell_type": "code",
   "execution_count": 12,
   "source": [
    "df_actions = update_last_login(create_base_df(ls_users,df_creation), df_logins)"
   ],
   "outputs": [],
   "metadata": {}
  },
  {
   "cell_type": "code",
   "execution_count": 13,
   "source": [
    "reporting_date = \"2021-08-14\"\n",
    "max_date(consumption_df=df_consumption, reporting_date=reporting_date, user_id=user_id, date_of_interest='started_at')"
   ],
   "outputs": [
    {
     "output_type": "execute_result",
     "data": {
      "text/plain": [
       "NaT"
      ]
     },
     "metadata": {},
     "execution_count": 13
    }
   ],
   "metadata": {}
  },
  {
   "cell_type": "code",
   "execution_count": 14,
   "source": [
    "df_actions_final=update_consumption_dates(df_actions,df_consumption)\n",
    "df_actions_final"
   ],
   "outputs": [
    {
     "output_type": "execute_result",
     "data": {
      "text/plain": [
       "    action_date  user_id                created_at                last_login  \\\n",
       "0    2021-08-16    20029 2021-07-25 00:11:04+00:00                       NaT   \n",
       "1    2021-08-16    20030 2021-07-25 02:42:03+00:00                       NaT   \n",
       "2    2021-08-16    20032 2021-07-25 21:00:47+00:00                       NaT   \n",
       "3    2021-08-16    20082 2021-07-31 23:54:33+00:00                       NaT   \n",
       "4    2021-08-16    20100 2021-08-03 11:05:51+00:00                       NaT   \n",
       "..          ...      ...                       ...                       ...   \n",
       "429  2021-08-26    20293 2021-08-25 13:15:49+00:00 2021-08-25 20:38:20+00:00   \n",
       "430  2021-08-26    20294 2021-08-25 13:16:33+00:00                       NaT   \n",
       "431  2021-08-26    20295 2021-08-25 13:17:01+00:00                       NaT   \n",
       "432  2021-08-26    20296 2021-08-25 13:17:25+00:00                       NaT   \n",
       "433  2021-08-26    20297 2021-08-25 13:17:47+00:00                       NaT   \n",
       "\n",
       "              last_start_date      last_completion_date  \\\n",
       "0   2021-08-15 10:18:23+00:00 2021-08-15 12:30:36+00:00   \n",
       "1                         NaT                       NaT   \n",
       "2   2021-08-16 22:11:30+00:00 2021-08-13 17:43:00+00:00   \n",
       "3                         NaT                       NaT   \n",
       "4   2021-08-14 16:02:44+00:00 2021-08-14 16:04:27+00:00   \n",
       "..                        ...                       ...   \n",
       "429 2021-08-26 13:44:41+00:00 2021-08-26 13:45:07+00:00   \n",
       "430                       NaT                       NaT   \n",
       "431                       NaT                       NaT   \n",
       "432                       NaT                       NaT   \n",
       "433                       NaT                       NaT   \n",
       "\n",
       "    timedelta_since_last_login timedelta_since_last_start  \\\n",
       "0                          NaT            1 days 13:41:36   \n",
       "1                          NaT                        NaT   \n",
       "2                          NaT            0 days 01:48:29   \n",
       "3                          NaT                        NaT   \n",
       "4                          NaT            2 days 07:57:15   \n",
       "..                         ...                        ...   \n",
       "429            1 days 03:21:39            0 days 10:15:18   \n",
       "430                        NaT                        NaT   \n",
       "431                        NaT                        NaT   \n",
       "432                        NaT                        NaT   \n",
       "433                        NaT                        NaT   \n",
       "\n",
       "    timedelta_since_last_completion user_status  \n",
       "0                   1 days 11:29:23   4.learner  \n",
       "1                               NaT   1.missing  \n",
       "2                   3 days 06:16:59   4.learner  \n",
       "3                               NaT   1.missing  \n",
       "4                   2 days 07:55:32   4.learner  \n",
       "..                              ...         ...  \n",
       "429                 0 days 10:14:52   4.learner  \n",
       "430                             NaT   1.missing  \n",
       "431                             NaT   1.missing  \n",
       "432                             NaT   1.missing  \n",
       "433                             NaT   1.missing  \n",
       "\n",
       "[434 rows x 10 columns]"
      ],
      "text/html": [
       "<div>\n",
       "<style scoped>\n",
       "    .dataframe tbody tr th:only-of-type {\n",
       "        vertical-align: middle;\n",
       "    }\n",
       "\n",
       "    .dataframe tbody tr th {\n",
       "        vertical-align: top;\n",
       "    }\n",
       "\n",
       "    .dataframe thead th {\n",
       "        text-align: right;\n",
       "    }\n",
       "</style>\n",
       "<table border=\"1\" class=\"dataframe\">\n",
       "  <thead>\n",
       "    <tr style=\"text-align: right;\">\n",
       "      <th></th>\n",
       "      <th>action_date</th>\n",
       "      <th>user_id</th>\n",
       "      <th>created_at</th>\n",
       "      <th>last_login</th>\n",
       "      <th>last_start_date</th>\n",
       "      <th>last_completion_date</th>\n",
       "      <th>timedelta_since_last_login</th>\n",
       "      <th>timedelta_since_last_start</th>\n",
       "      <th>timedelta_since_last_completion</th>\n",
       "      <th>user_status</th>\n",
       "    </tr>\n",
       "  </thead>\n",
       "  <tbody>\n",
       "    <tr>\n",
       "      <th>0</th>\n",
       "      <td>2021-08-16</td>\n",
       "      <td>20029</td>\n",
       "      <td>2021-07-25 00:11:04+00:00</td>\n",
       "      <td>NaT</td>\n",
       "      <td>2021-08-15 10:18:23+00:00</td>\n",
       "      <td>2021-08-15 12:30:36+00:00</td>\n",
       "      <td>NaT</td>\n",
       "      <td>1 days 13:41:36</td>\n",
       "      <td>1 days 11:29:23</td>\n",
       "      <td>4.learner</td>\n",
       "    </tr>\n",
       "    <tr>\n",
       "      <th>1</th>\n",
       "      <td>2021-08-16</td>\n",
       "      <td>20030</td>\n",
       "      <td>2021-07-25 02:42:03+00:00</td>\n",
       "      <td>NaT</td>\n",
       "      <td>NaT</td>\n",
       "      <td>NaT</td>\n",
       "      <td>NaT</td>\n",
       "      <td>NaT</td>\n",
       "      <td>NaT</td>\n",
       "      <td>1.missing</td>\n",
       "    </tr>\n",
       "    <tr>\n",
       "      <th>2</th>\n",
       "      <td>2021-08-16</td>\n",
       "      <td>20032</td>\n",
       "      <td>2021-07-25 21:00:47+00:00</td>\n",
       "      <td>NaT</td>\n",
       "      <td>2021-08-16 22:11:30+00:00</td>\n",
       "      <td>2021-08-13 17:43:00+00:00</td>\n",
       "      <td>NaT</td>\n",
       "      <td>0 days 01:48:29</td>\n",
       "      <td>3 days 06:16:59</td>\n",
       "      <td>4.learner</td>\n",
       "    </tr>\n",
       "    <tr>\n",
       "      <th>3</th>\n",
       "      <td>2021-08-16</td>\n",
       "      <td>20082</td>\n",
       "      <td>2021-07-31 23:54:33+00:00</td>\n",
       "      <td>NaT</td>\n",
       "      <td>NaT</td>\n",
       "      <td>NaT</td>\n",
       "      <td>NaT</td>\n",
       "      <td>NaT</td>\n",
       "      <td>NaT</td>\n",
       "      <td>1.missing</td>\n",
       "    </tr>\n",
       "    <tr>\n",
       "      <th>4</th>\n",
       "      <td>2021-08-16</td>\n",
       "      <td>20100</td>\n",
       "      <td>2021-08-03 11:05:51+00:00</td>\n",
       "      <td>NaT</td>\n",
       "      <td>2021-08-14 16:02:44+00:00</td>\n",
       "      <td>2021-08-14 16:04:27+00:00</td>\n",
       "      <td>NaT</td>\n",
       "      <td>2 days 07:57:15</td>\n",
       "      <td>2 days 07:55:32</td>\n",
       "      <td>4.learner</td>\n",
       "    </tr>\n",
       "    <tr>\n",
       "      <th>...</th>\n",
       "      <td>...</td>\n",
       "      <td>...</td>\n",
       "      <td>...</td>\n",
       "      <td>...</td>\n",
       "      <td>...</td>\n",
       "      <td>...</td>\n",
       "      <td>...</td>\n",
       "      <td>...</td>\n",
       "      <td>...</td>\n",
       "      <td>...</td>\n",
       "    </tr>\n",
       "    <tr>\n",
       "      <th>429</th>\n",
       "      <td>2021-08-26</td>\n",
       "      <td>20293</td>\n",
       "      <td>2021-08-25 13:15:49+00:00</td>\n",
       "      <td>2021-08-25 20:38:20+00:00</td>\n",
       "      <td>2021-08-26 13:44:41+00:00</td>\n",
       "      <td>2021-08-26 13:45:07+00:00</td>\n",
       "      <td>1 days 03:21:39</td>\n",
       "      <td>0 days 10:15:18</td>\n",
       "      <td>0 days 10:14:52</td>\n",
       "      <td>4.learner</td>\n",
       "    </tr>\n",
       "    <tr>\n",
       "      <th>430</th>\n",
       "      <td>2021-08-26</td>\n",
       "      <td>20294</td>\n",
       "      <td>2021-08-25 13:16:33+00:00</td>\n",
       "      <td>NaT</td>\n",
       "      <td>NaT</td>\n",
       "      <td>NaT</td>\n",
       "      <td>NaT</td>\n",
       "      <td>NaT</td>\n",
       "      <td>NaT</td>\n",
       "      <td>1.missing</td>\n",
       "    </tr>\n",
       "    <tr>\n",
       "      <th>431</th>\n",
       "      <td>2021-08-26</td>\n",
       "      <td>20295</td>\n",
       "      <td>2021-08-25 13:17:01+00:00</td>\n",
       "      <td>NaT</td>\n",
       "      <td>NaT</td>\n",
       "      <td>NaT</td>\n",
       "      <td>NaT</td>\n",
       "      <td>NaT</td>\n",
       "      <td>NaT</td>\n",
       "      <td>1.missing</td>\n",
       "    </tr>\n",
       "    <tr>\n",
       "      <th>432</th>\n",
       "      <td>2021-08-26</td>\n",
       "      <td>20296</td>\n",
       "      <td>2021-08-25 13:17:25+00:00</td>\n",
       "      <td>NaT</td>\n",
       "      <td>NaT</td>\n",
       "      <td>NaT</td>\n",
       "      <td>NaT</td>\n",
       "      <td>NaT</td>\n",
       "      <td>NaT</td>\n",
       "      <td>1.missing</td>\n",
       "    </tr>\n",
       "    <tr>\n",
       "      <th>433</th>\n",
       "      <td>2021-08-26</td>\n",
       "      <td>20297</td>\n",
       "      <td>2021-08-25 13:17:47+00:00</td>\n",
       "      <td>NaT</td>\n",
       "      <td>NaT</td>\n",
       "      <td>NaT</td>\n",
       "      <td>NaT</td>\n",
       "      <td>NaT</td>\n",
       "      <td>NaT</td>\n",
       "      <td>1.missing</td>\n",
       "    </tr>\n",
       "  </tbody>\n",
       "</table>\n",
       "<p>434 rows × 10 columns</p>\n",
       "</div>"
      ]
     },
     "metadata": {},
     "execution_count": 14
    }
   ],
   "metadata": {}
  },
  {
   "cell_type": "code",
   "execution_count": 16,
   "source": [
    "df_actions_final.to_gbq('dtm_engagement.ft_users_engagement',project_id=project_id,if_exists='replace',credentials=credentials)"
   ],
   "outputs": [
    {
     "output_type": "stream",
     "name": "stderr",
     "text": [
      "434 out of 434 rows loaded.\n",
      "1it [00:06,  6.46s/it]\n"
     ]
    }
   ],
   "metadata": {}
  },
  {
   "cell_type": "code",
   "execution_count": null,
   "source": [],
   "outputs": [],
   "metadata": {}
  },
  {
   "cell_type": "code",
   "execution_count": null,
   "source": [],
   "outputs": [],
   "metadata": {}
  }
 ],
 "metadata": {
  "environment": {
   "name": "common-cpu.m75",
   "type": "gcloud",
   "uri": "gcr.io/deeplearning-platform-release/base-cpu:m75"
  },
  "kernelspec": {
   "name": "python3",
   "display_name": "Python 3.9.6 64-bit ('std_env': conda)"
  },
  "language_info": {
   "codemirror_mode": {
    "name": "ipython",
    "version": 3
   },
   "file_extension": ".py",
   "mimetype": "text/x-python",
   "name": "python",
   "nbconvert_exporter": "python",
   "pygments_lexer": "ipython3",
   "version": "3.9.6"
  },
  "toc-autonumbering": true,
  "interpreter": {
   "hash": "5240143eb509376184726817cc84407f45d982fe6afa94b09f6c6714fb9f9d03"
  }
 },
 "nbformat": 4,
 "nbformat_minor": 5
}