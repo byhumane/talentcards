{
 "cells": [
  {
   "cell_type": "markdown",
   "source": [
    "# GOAL\n",
    "- test integration with Heroku Clip"
   ],
   "metadata": {}
  },
  {
   "cell_type": "markdown",
   "source": [
    "# PACKAGES"
   ],
   "metadata": {}
  },
  {
   "cell_type": "markdown",
   "source": [],
   "metadata": {}
  },
  {
   "cell_type": "markdown",
   "source": [
    "# PARAMETERS"
   ],
   "metadata": {}
  },
  {
   "cell_type": "code",
   "execution_count": 4,
   "source": [
    "import pandas as pd"
   ],
   "outputs": [],
   "metadata": {}
  },
  {
   "cell_type": "markdown",
   "source": [
    "# FUNCTIONS"
   ],
   "metadata": {}
  },
  {
   "cell_type": "code",
   "execution_count": null,
   "source": [],
   "outputs": [],
   "metadata": {}
  },
  {
   "cell_type": "markdown",
   "source": [
    "# DATA WRANGLING"
   ],
   "metadata": {}
  },
  {
   "cell_type": "code",
   "execution_count": 5,
   "source": [
    "df=pd.read_csv('https://data.heroku.com/dataclips/uanzvysitborvyjhkwfjfkubjesv.csv')"
   ],
   "outputs": [],
   "metadata": {}
  },
  {
   "cell_type": "code",
   "execution_count": 6,
   "source": [
    "df"
   ],
   "outputs": [
    {
     "output_type": "execute_result",
     "data": {
      "text/html": [
       "<div>\n",
       "<style scoped>\n",
       "    .dataframe tbody tr th:only-of-type {\n",
       "        vertical-align: middle;\n",
       "    }\n",
       "\n",
       "    .dataframe tbody tr th {\n",
       "        vertical-align: top;\n",
       "    }\n",
       "\n",
       "    .dataframe thead th {\n",
       "        text-align: right;\n",
       "    }\n",
       "</style>\n",
       "<table border=\"1\" class=\"dataframe\">\n",
       "  <thead>\n",
       "    <tr style=\"text-align: right;\">\n",
       "      <th></th>\n",
       "      <th>activity_id</th>\n",
       "      <th>user_id</th>\n",
       "      <th>talent_id</th>\n",
       "      <th>id</th>\n",
       "      <th>talent_id.1</th>\n",
       "      <th>xp_points</th>\n",
       "      <th>created_at</th>\n",
       "      <th>updated_at</th>\n",
       "    </tr>\n",
       "  </thead>\n",
       "  <tbody>\n",
       "    <tr>\n",
       "      <th>0</th>\n",
       "      <td>8</td>\n",
       "      <td>11</td>\n",
       "      <td>20137</td>\n",
       "      <td>8</td>\n",
       "      <td>11474.0</td>\n",
       "      <td>100</td>\n",
       "      <td>2021-08-17 12:55:38.741421</td>\n",
       "      <td>2021-08-17 12:55:38.741421</td>\n",
       "    </tr>\n",
       "    <tr>\n",
       "      <th>1</th>\n",
       "      <td>9</td>\n",
       "      <td>11</td>\n",
       "      <td>20137</td>\n",
       "      <td>9</td>\n",
       "      <td>11401.0</td>\n",
       "      <td>70</td>\n",
       "      <td>2021-08-17 12:56:49.150849</td>\n",
       "      <td>2021-08-17 12:56:49.150849</td>\n",
       "    </tr>\n",
       "    <tr>\n",
       "      <th>2</th>\n",
       "      <td>10</td>\n",
       "      <td>11</td>\n",
       "      <td>20137</td>\n",
       "      <td>10</td>\n",
       "      <td>11457.0</td>\n",
       "      <td>70</td>\n",
       "      <td>2021-08-17 12:57:09.169366</td>\n",
       "      <td>2021-08-17 12:57:09.169366</td>\n",
       "    </tr>\n",
       "    <tr>\n",
       "      <th>3</th>\n",
       "      <td>10</td>\n",
       "      <td>11</td>\n",
       "      <td>20137</td>\n",
       "      <td>10</td>\n",
       "      <td>11457.0</td>\n",
       "      <td>70</td>\n",
       "      <td>2021-08-17 12:58:19.976532</td>\n",
       "      <td>2021-08-17 12:58:19.976532</td>\n",
       "    </tr>\n",
       "    <tr>\n",
       "      <th>4</th>\n",
       "      <td>9</td>\n",
       "      <td>11</td>\n",
       "      <td>20137</td>\n",
       "      <td>9</td>\n",
       "      <td>11401.0</td>\n",
       "      <td>70</td>\n",
       "      <td>2021-08-17 12:58:45.682862</td>\n",
       "      <td>2021-08-17 12:58:45.682862</td>\n",
       "    </tr>\n",
       "    <tr>\n",
       "      <th>...</th>\n",
       "      <td>...</td>\n",
       "      <td>...</td>\n",
       "      <td>...</td>\n",
       "      <td>...</td>\n",
       "      <td>...</td>\n",
       "      <td>...</td>\n",
       "      <td>...</td>\n",
       "      <td>...</td>\n",
       "    </tr>\n",
       "    <tr>\n",
       "      <th>237</th>\n",
       "      <td>26</td>\n",
       "      <td>27</td>\n",
       "      <td>20167</td>\n",
       "      <td>26</td>\n",
       "      <td>12069.0</td>\n",
       "      <td>140</td>\n",
       "      <td>2021-09-10 13:45:34.746228</td>\n",
       "      <td>2021-09-10 13:45:34.746228</td>\n",
       "    </tr>\n",
       "    <tr>\n",
       "      <th>238</th>\n",
       "      <td>22</td>\n",
       "      <td>27</td>\n",
       "      <td>20167</td>\n",
       "      <td>22</td>\n",
       "      <td>11835.0</td>\n",
       "      <td>100</td>\n",
       "      <td>2021-09-10 13:45:34.784247</td>\n",
       "      <td>2021-09-10 13:45:34.784247</td>\n",
       "    </tr>\n",
       "    <tr>\n",
       "      <th>239</th>\n",
       "      <td>27</td>\n",
       "      <td>33</td>\n",
       "      <td>20215</td>\n",
       "      <td>27</td>\n",
       "      <td>11972.0</td>\n",
       "      <td>10</td>\n",
       "      <td>2021-09-10 13:45:38.723188</td>\n",
       "      <td>2021-09-10 13:45:38.723188</td>\n",
       "    </tr>\n",
       "    <tr>\n",
       "      <th>240</th>\n",
       "      <td>27</td>\n",
       "      <td>24</td>\n",
       "      <td>20164</td>\n",
       "      <td>27</td>\n",
       "      <td>11972.0</td>\n",
       "      <td>10</td>\n",
       "      <td>2021-09-10 13:45:40.154265</td>\n",
       "      <td>2021-09-10 13:45:40.154265</td>\n",
       "    </tr>\n",
       "    <tr>\n",
       "      <th>241</th>\n",
       "      <td>25</td>\n",
       "      <td>34</td>\n",
       "      <td>20216</td>\n",
       "      <td>25</td>\n",
       "      <td>11957.0</td>\n",
       "      <td>140</td>\n",
       "      <td>2021-09-10 13:45:42.094926</td>\n",
       "      <td>2021-09-10 13:45:42.094926</td>\n",
       "    </tr>\n",
       "  </tbody>\n",
       "</table>\n",
       "<p>242 rows × 8 columns</p>\n",
       "</div>"
      ],
      "text/plain": [
       "     activity_id  user_id  talent_id  id  talent_id.1  xp_points  \\\n",
       "0              8       11      20137   8      11474.0        100   \n",
       "1              9       11      20137   9      11401.0         70   \n",
       "2             10       11      20137  10      11457.0         70   \n",
       "3             10       11      20137  10      11457.0         70   \n",
       "4              9       11      20137   9      11401.0         70   \n",
       "..           ...      ...        ...  ..          ...        ...   \n",
       "237           26       27      20167  26      12069.0        140   \n",
       "238           22       27      20167  22      11835.0        100   \n",
       "239           27       33      20215  27      11972.0         10   \n",
       "240           27       24      20164  27      11972.0         10   \n",
       "241           25       34      20216  25      11957.0        140   \n",
       "\n",
       "                     created_at                  updated_at  \n",
       "0    2021-08-17 12:55:38.741421  2021-08-17 12:55:38.741421  \n",
       "1    2021-08-17 12:56:49.150849  2021-08-17 12:56:49.150849  \n",
       "2    2021-08-17 12:57:09.169366  2021-08-17 12:57:09.169366  \n",
       "3    2021-08-17 12:58:19.976532  2021-08-17 12:58:19.976532  \n",
       "4    2021-08-17 12:58:45.682862  2021-08-17 12:58:45.682862  \n",
       "..                          ...                         ...  \n",
       "237  2021-09-10 13:45:34.746228  2021-09-10 13:45:34.746228  \n",
       "238  2021-09-10 13:45:34.784247  2021-09-10 13:45:34.784247  \n",
       "239  2021-09-10 13:45:38.723188  2021-09-10 13:45:38.723188  \n",
       "240  2021-09-10 13:45:40.154265  2021-09-10 13:45:40.154265  \n",
       "241  2021-09-10 13:45:42.094926  2021-09-10 13:45:42.094926  \n",
       "\n",
       "[242 rows x 8 columns]"
      ]
     },
     "metadata": {},
     "execution_count": 6
    }
   ],
   "metadata": {}
  },
  {
   "cell_type": "code",
   "execution_count": null,
   "source": [],
   "outputs": [],
   "metadata": {}
  }
 ],
 "metadata": {
  "orig_nbformat": 4,
  "language_info": {
   "name": "python",
   "version": "3.9.7",
   "mimetype": "text/x-python",
   "codemirror_mode": {
    "name": "ipython",
    "version": 3
   },
   "pygments_lexer": "ipython3",
   "nbconvert_exporter": "python",
   "file_extension": ".py"
  },
  "kernelspec": {
   "name": "python3",
   "display_name": "Python 3.9.7 64-bit ('std_env': conda)"
  },
  "interpreter": {
   "hash": "cb1ba7f150d507ef1d1f1d30ab3b3b7b717d1d8faf2da1e077dd27ab2e32b187"
  }
 },
 "nbformat": 4,
 "nbformat_minor": 2
}