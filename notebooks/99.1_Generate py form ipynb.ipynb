{
 "cells": [
  {
   "cell_type": "markdown",
   "source": [
    "# GOAL\n",
    "- Transform jupyter notebooks into py scripts"
   ],
   "metadata": {}
  },
  {
   "cell_type": "markdown",
   "source": [
    "# PACKAGES"
   ],
   "metadata": {}
  },
  {
   "cell_type": "code",
   "execution_count": 5,
   "source": [
    "import jupytext"
   ],
   "outputs": [],
   "metadata": {}
  },
  {
   "cell_type": "markdown",
   "source": [
    "# PARAMETERS"
   ],
   "metadata": {}
  },
  {
   "cell_type": "markdown",
   "source": [
    "# FUNCTIONS"
   ],
   "metadata": {}
  },
  {
   "cell_type": "code",
   "execution_count": 6,
   "source": [
    "def notebook2py(notebook_file_name,py_file_name):\n",
    "    \"\"\"\n",
    "    (str,str)--> none\n",
    "    Transform notebook_file_name into py_file_name using jupytext.\n",
    "    The percent format is used.\n",
    "    \"\"\"\n",
    "    jupytext.write(jupytext.read(notebook_file_name), py_file_name, fmt='py:percent')\n",
    "    return print(f'Notebook {notebook_file_name} saved as {py_file_name}')"
   ],
   "outputs": [],
   "metadata": {}
  },
  {
   "cell_type": "code",
   "execution_count": 7,
   "source": [
    "def notebooks2py(notebook2py_list):\n",
    "    \"\"\"\n",
    "    (list of dict)-->None\n",
    "    Expects a list of dicts under the form below:\n",
    "    {\n",
    "        'notebook_file_name':'exemple_path_and_file_name',\n",
    "        'py_file_name':'exemple_path_and_file_name'\n",
    "        }.\n",
    "    For each list element it will transform the notebook_file_name into py_file_name using jupytext.\n",
    "    \"\"\"\n",
    "    for item in notebook2py_list:\n",
    "        notebook2py(item['notebook_file_name'],item['py_file_name'])\n",
    "    return"
   ],
   "outputs": [],
   "metadata": {}
  },
  {
   "cell_type": "markdown",
   "source": [
    "# DATA WRANGLING"
   ],
   "metadata": {}
  },
  {
   "cell_type": "code",
   "execution_count": 8,
   "source": [
    "list_notebook2py=[\n",
    "    {'notebook_file_name':'1.0_Consume TalentCards API.ipynb','py_file_name':'1.0_Consume TalentCards API.py'},\n",
    "    {'notebook_file_name':'2.0_Prepare ft_users_engagement source gbq.ipynb','py_file_name':'2.0_Prepare ft_users_engagement source gbq.py'},\n",
    "    {'notebook_file_name':'2.1_Prepare non_pro_users.ipynb','py_file_name':'2.1_Prepare non_pro_users.py'},\n",
    "    {'notebook_file_name':'2.2_Prepare_users_manual_table.ipynb','py_file_name':'2.2_Prepare_users_manual_table.py'},\n",
    "    {'notebook_file_name':'2.3_Prepare ft_users_engagement source gbq users_manual.ipynb','py_file_name':'2.3_Prepare ft_users_engagement source gbq users_manual.py'},\n",
    "    {'notebook_file_name':'2.1_Prepare non_pro_users.ipynb','py_file_name':'2.1_Prepare non_pro_users.py'},\n",
    "]\n",
    "\n",
    "notebooks2py(list_notebook2py)"
   ],
   "outputs": [
    {
     "output_type": "stream",
     "name": "stdout",
     "text": [
      "Notebook 1.0_Consume TalentCards API.ipynb saved as 1.0_Consume TalentCards API.py\n",
      "Notebook 2.0_Prepare ft_users_engagement source gbq.ipynb saved as 2.0_Prepare ft_users_engagement source gbq.py\n",
      "Notebook 2.1_Prepare non_pro_users.ipynb saved as 2.1_Prepare non_pro_users.py\n",
      "Notebook 2.2_Prepare_users_manual_table.ipynb saved as 2.2_Prepare_users_manual_table.py\n",
      "Notebook 2.3_Prepare ft_users_engagement source gbq users_manual.ipynb saved as 2.3_Prepare ft_users_engagement source gbq users_manual.py\n",
      "Notebook 2.1_Prepare non_pro_users.ipynb saved as 2.1_Prepare non_pro_users.py\n"
     ]
    }
   ],
   "metadata": {}
  },
  {
   "cell_type": "code",
   "execution_count": null,
   "source": [],
   "outputs": [],
   "metadata": {}
  }
 ],
 "metadata": {
  "orig_nbformat": 4,
  "language_info": {
   "name": "python",
   "version": "3.9.7",
   "mimetype": "text/x-python",
   "codemirror_mode": {
    "name": "ipython",
    "version": 3
   },
   "pygments_lexer": "ipython3",
   "nbconvert_exporter": "python",
   "file_extension": ".py"
  },
  "kernelspec": {
   "name": "python3",
   "display_name": "Python 3.9.7 64-bit ('std_env': conda)"
  },
  "interpreter": {
   "hash": "cb1ba7f150d507ef1d1f1d30ab3b3b7b717d1d8faf2da1e077dd27ab2e32b187"
  }
 },
 "nbformat": 4,
 "nbformat_minor": 2
}