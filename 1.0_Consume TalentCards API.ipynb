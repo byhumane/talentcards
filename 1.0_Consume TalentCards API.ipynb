{
 "cells": [
  {
   "cell_type": "markdown",
   "id": "b05d2beb",
   "metadata": {},
   "source": [
    "# GOAL\n",
    "- Interact with TalentCards apis\n",
    "- Get users data\n",
    "- Get activity data"
   ]
  },
  {
   "cell_type": "markdown",
   "id": "e6a7314f",
   "metadata": {},
   "source": [
    "# PACKAGES"
   ]
  },
  {
   "cell_type": "code",
   "execution_count": null,
   "id": "05ed37dc",
   "metadata": {},
   "outputs": [],
   "source": [
    "import json\n",
    "import os\n",
    "from datetime import datetime\n",
    "from typing import Dict, List\n",
    "\n",
    "import pandas as pd\n",
    "import requests\n",
    "\n",
    "# from google.oauth2 import service_account\n",
    "# from oauth2client.service_account import ServiceAccountCredentials"
   ]
  },
  {
   "cell_type": "markdown",
   "id": "c401c6a7",
   "metadata": {
    "tags": []
   },
   "source": [
    "# PARAMETERS"
   ]
  },
  {
   "cell_type": "code",
   "execution_count": null,
   "id": "f5c80944-0f68-4d41-87f9-d45688421847",
   "metadata": {},
   "outputs": [],
   "source": [
    "access_token = open(\"./keys/talentcards.txt\", mode=\"r\").readline()\n",
    "group = 1818\n",
    "today = datetime.today().strftime(\"%Y-%m-%d\")"
   ]
  },
  {
   "cell_type": "markdown",
   "id": "7cdaa5af",
   "metadata": {},
   "source": [
    "# FUNCTIONS"
   ]
  },
  {
   "cell_type": "markdown",
   "id": "3eda60d5-7c2f-41dc-a50c-1c67cfac8612",
   "metadata": {
    "tags": []
   },
   "source": [
    "## fix_columns_to_upload_to_bq"
   ]
  },
  {
   "cell_type": "code",
   "execution_count": null,
   "id": "9e8bfeca-4ce4-4207-a868-66e210de1a71",
   "metadata": {},
   "outputs": [],
   "source": [
    "def fix_columns_to_upload_to_bq(df: pd.DataFrame):\n",
    "    fixed_columns = [column.replace(\"-\", \"_\") for column in df.columns.tolist()]\n",
    "    df.columns = fixed_columns\n",
    "    return df"
   ]
  },
  {
   "cell_type": "markdown",
   "id": "ca6274e6-2cba-4768-a618-00f0b081e6f6",
   "metadata": {
    "tags": []
   },
   "source": [
    "## get_users_data"
   ]
  },
  {
   "cell_type": "code",
   "execution_count": null,
   "id": "938c6d7c-82e7-4c4a-92f1-e9cdb7425cd9",
   "metadata": {},
   "outputs": [],
   "source": [
    "def get_users_data() -> List:\n",
    "    \"\"\"Get user details data from Talentlms API.\n",
    "\n",
    "    Returns:\n",
    "      Dictionary with userS details data.\n",
    "    \"\"\"\n",
    "    users = []\n",
    "    base_url = \"https://www.talentcards.io/api/v1\"\n",
    "    headers = {\n",
    "        \"Authorization\": f\"Bearer {access_token}\",\n",
    "        \"Content-type\": \"application/json\",\n",
    "        \"Accept\": \"application/json\",\n",
    "    }\n",
    "    users.append(\n",
    "        requests.get(f\"{base_url}/company/groups/1818/users\", headers=headers).json()\n",
    "    )\n",
    "\n",
    "    num_pages = users[0][\"meta\"][\"last_page\"]\n",
    "    if num_pages > 1:\n",
    "        for page in range(2, num_pages + 1):\n",
    "            users.append(\n",
    "                requests.get(\n",
    "                    f\"{base_url}/company/groups/1818/users\",\n",
    "                    headers=headers,\n",
    "                    params={\"page[number]\": page},\n",
    "                ).json()\n",
    "            )\n",
    "    return users"
   ]
  },
  {
   "cell_type": "markdown",
   "id": "a7ee5b14-b777-4236-b47d-3c9b516f9167",
   "metadata": {},
   "source": [
    "## process_user_data"
   ]
  },
  {
   "cell_type": "code",
   "execution_count": null,
   "id": "f4c333ec-6a2c-41ae-b88d-9f878810e6f4",
   "metadata": {
    "tags": []
   },
   "outputs": [],
   "source": [
    "def process_user_data(raw_data: List, date: datetime) -> pd.DataFrame:\n",
    "    \"\"\"Process raw data to get only desired data.\n",
    "\n",
    "    Args:\n",
    "      date:\n",
    "      raw_data (List): List of jason api responses.\n",
    "\n",
    "    Returns:\n",
    "      Pandas dataframe pandas with structured data.\n",
    "    \"\"\"\n",
    "    users_df = pd.DataFrame()\n",
    "    for response in raw_data:\n",
    "        users_list = []\n",
    "        for user in response[\"data\"]:\n",
    "            users_dict = {\"user_id\": user[\"id\"]}\n",
    "            users_dict.update(user[\"attributes\"])\n",
    "            update_at = user[\"attributes\"][\"updated-at\"][:-6]\n",
    "            update_at_date = datetime.strptime(update_at, \"%Y-%m-%dT%H:%M:%S\")\n",
    "            users_dict[\"updated_at\"] = update_at_date\n",
    "            users_dict[\"days_since_last_login\"] = (datetime.now() - update_at_date).days\n",
    "            users_dict[\"date_str\"] = date\n",
    "            del users_dict[\"updated-at\"]\n",
    "            users_list.append(users_dict)\n",
    "        response_df = pd.DataFrame(users_list)\n",
    "        users_df = users_df.append(response_df, ignore_index=True)\n",
    "    users_df = users_df.sort_values(by=\"user_id\", ignore_index=True)\n",
    "    return users_df"
   ]
  },
  {
   "cell_type": "markdown",
   "id": "6f807bee-37a3-42ac-966b-f82fdf697e52",
   "metadata": {},
   "source": [
    "## get_reports_data"
   ]
  },
  {
   "cell_type": "code",
   "execution_count": null,
   "id": "5df8c6b7-555d-4a84-8543-c89f716354dc",
   "metadata": {},
   "outputs": [],
   "source": [
    "def get_reports_data(group, user) -> List:\n",
    "    \"\"\"Get user details data from Talentlms API.\n",
    "\n",
    "    Returns:\n",
    "      Dictionary with userS details data.\n",
    "    \"\"\"\n",
    "    base_url = \"https://www.talentcards.io/api/v1\"\n",
    "    headers = {\n",
    "        \"Authorization\": f\"Bearer {access_token}\",\n",
    "        \"Content-type\": \"application/json\",\n",
    "        \"Accept\": \"application/json\",\n",
    "    }\n",
    "    response = []\n",
    "    response.append(\n",
    "        requests.get(\n",
    "            f\"{base_url}/company/groups/{group}/users/{user}/reports\",\n",
    "            headers=headers,\n",
    "        ).json()\n",
    "    )\n",
    "\n",
    "    num_pages = response[0][\"meta\"][\"last_page\"]\n",
    "    if num_pages > 1:\n",
    "        for page in range(2, num_pages + 1):\n",
    "            response.append(\n",
    "                requests.get(\n",
    "                    f\"{base_url}/company/groups/{group}/users/{user}/reports\",\n",
    "                    headers=headers,\n",
    "                ).json()\n",
    "            )\n",
    "\n",
    "    user_report = {\"group\": group, \"user\": user, \"reports\": response}\n",
    "\n",
    "    return user_report"
   ]
  },
  {
   "cell_type": "code",
   "execution_count": null,
   "id": "98dbc281-685e-4397-a555-c03869860c6e",
   "metadata": {},
   "outputs": [],
   "source": []
  },
  {
   "cell_type": "markdown",
   "id": "bcbad883-221d-4eb9-a56b-66acc8b27539",
   "metadata": {},
   "source": [
    "## process_reports_data"
   ]
  },
  {
   "cell_type": "code",
   "execution_count": null,
   "id": "f726380b-c1d8-4afc-bf59-acb66ad1188e",
   "metadata": {},
   "outputs": [],
   "source": [
    "def process_reports_data(user_report_dict):\n",
    "    \"\"\"Process json user_report to get only desired data.\n",
    "\n",
    "    Args:\n",
    "      date:\n",
    "      reports_data (Dict): Semi-structured json data.\n",
    "\n",
    "    Returns:\n",
    "      Pandas dataframe pandas with structured data.\n",
    "    \"\"\"\n",
    "\n",
    "    report = []\n",
    "    for page in user_report_dict[\"reports\"]:\n",
    "        for entry in page[\"data\"]:\n",
    "            if entry[\"type\"] == \"user-set-reports\":\n",
    "                report_dict = {\n",
    "                    \"group_id\": user_report_dict[\"group\"],\n",
    "                    \"user_id\": user_report_dict[\"user\"],\n",
    "                    \"sequence_id\": \"\",\n",
    "                    \"set_id\": entry[\"id\"],\n",
    "                    \"set-tests\": entry[\"meta\"][\"report\"][\"set-tests\"],\n",
    "                    \"finished-tests\": entry[\"meta\"][\"report\"][\"finished-tests\"],\n",
    "                    \"progress\": entry[\"meta\"][\"report\"][\"progress\"],\n",
    "                    \"cards\": entry[\"meta\"][\"report\"][\"cards\"],\n",
    "                    \"tests\": entry[\"meta\"][\"report\"][\"tests\"],\n",
    "                    \"started-at\": entry[\"meta\"][\"report\"][\"started-at\"],\n",
    "                    \"completed-at\": entry[\"meta\"][\"report\"][\"completed-at\"],\n",
    "                }\n",
    "                report.append(report_dict)\n",
    "            elif entry[\"type\"] == \"user-sequence-reports\":\n",
    "                for card_set in entry[\"meta\"][\"reports\"]:\n",
    "                    report_dict = {\n",
    "                        \"group_id\": user_report_dict[\"group\"],\n",
    "                        \"user_id\": user_report_dict[\"user\"],\n",
    "                        \"sequence_id\": entry[\"id\"],\n",
    "                        \"set_id\": card_set[\"id\"],\n",
    "                        \"set-tests\": card_set[\"meta\"][\"report\"][\"set-tests\"],\n",
    "                        \"finished-tests\": card_set[\"meta\"][\"report\"][\"finished-tests\"],\n",
    "                        \"progress\": card_set[\"meta\"][\"report\"][\"progress\"],\n",
    "                        \"cards\": card_set[\"meta\"][\"report\"][\"cards\"],\n",
    "                        \"tests\": card_set[\"meta\"][\"report\"][\"tests\"],\n",
    "                        \"started-at\": card_set[\"meta\"][\"report\"][\"started-at\"],\n",
    "                        \"completed-at\": card_set[\"meta\"][\"report\"][\"completed-at\"],\n",
    "                    }\n",
    "                    report.append(report_dict)\n",
    "        reports_df = pd.DataFrame(report)\n",
    "        reports_df[\"started-at\"] = pd.to_datetime(reports_df[\"started-at\"])\n",
    "        reports_df[\"completed-at\"] = pd.to_datetime(reports_df[\"completed-at\"])\n",
    "\n",
    "    return fix_columns_to_upload_to_bq(reports_df)"
   ]
  },
  {
   "cell_type": "markdown",
   "id": "41d7d6a9",
   "metadata": {
    "tags": []
   },
   "source": [
    "# DATA WRANGLING"
   ]
  },
  {
   "cell_type": "markdown",
   "id": "661b1817-c368-4a3c-bf9e-225b97c14ee1",
   "metadata": {},
   "source": [
    "##  users data"
   ]
  },
  {
   "cell_type": "code",
   "execution_count": null,
   "id": "ed327040-93c9-486c-906d-48ba7cb8ed96",
   "metadata": {},
   "outputs": [],
   "source": [
    "df_users = process_user_data(get_users_data(), today)"
   ]
  },
  {
   "cell_type": "code",
   "execution_count": null,
   "id": "fcc35a1c-c7ed-40d7-81e3-e9f4d69fb194",
   "metadata": {},
   "outputs": [],
   "source": [
    "df_users.to_excel(\"./data/out/users.xlsx\", index=False)"
   ]
  },
  {
   "cell_type": "code",
   "execution_count": null,
   "id": "48b4abee-ef32-41f2-9415-1b66b0406224",
   "metadata": {},
   "outputs": [],
   "source": [
    "df_users"
   ]
  },
  {
   "cell_type": "markdown",
   "id": "ae782312-6a6b-45c5-acbd-ca83443aa900",
   "metadata": {},
   "source": [
    "## user report"
   ]
  },
  {
   "cell_type": "code",
   "execution_count": null,
   "id": "78be6d7f-6967-47f8-8df3-b1f193e8fcd2",
   "metadata": {},
   "outputs": [],
   "source": [
    "user = 20129\n",
    "user_report = get_reports_data(group=group, user=user)"
   ]
  },
  {
   "cell_type": "code",
   "execution_count": null,
   "id": "2fe43695-dd34-424c-babb-92e0a39236c3",
   "metadata": {},
   "outputs": [],
   "source": [
    "df_report = process_reports_data(user_report_dict=user_report)\n",
    "df_report"
   ]
  },
  {
   "cell_type": "markdown",
   "id": "fd24fe67-0e14-4e01-935e-c93f00efe73a",
   "metadata": {},
   "source": [
    "## all users reports"
   ]
  },
  {
   "cell_type": "code",
   "execution_count": null,
   "id": "bf00f10c-c11d-42c8-b70b-583aa5ddb31e",
   "metadata": {},
   "outputs": [],
   "source": [
    "users_id = list(df_users[\"user_id\"].unique())\n",
    "\n",
    "df_reports = pd.DataFrame()\n",
    "for user in users_id:\n",
    "    df_reports = df_reports.append(\n",
    "        process_reports_data(get_reports_data(group=group, user=user)),\n",
    "        ignore_index=True,\n",
    "    )\n",
    "df_reports.shape"
   ]
  },
  {
   "cell_type": "code",
   "execution_count": null,
   "id": "e2e49057-2973-46f7-b55b-a1d7a83da0e9",
   "metadata": {},
   "outputs": [],
   "source": [
    "df_reports.dtypes"
   ]
  },
  {
   "cell_type": "code",
   "execution_count": null,
   "id": "ccb20b6e-4c7d-4933-9508-a3c4027a486e",
   "metadata": {},
   "outputs": [],
   "source": [
    "df_reports[\"started_at\"] = pd.to_datetime(\n",
    "    df_reports[\"started_at\"].fillna(pd.NaT)\n",
    ").dt.tz_convert(\"America/Sao_paulo\")\n",
    "df_reports[\"completed_at\"] = pd.to_datetime(\n",
    "    df_reports[\"completed_at\"].fillna(pd.NaT)\n",
    ").dt.tz_convert(\"America/Sao_paulo\")\n",
    "df_reports[\"start_date\"] = df_reports[\"started_at\"].dt.date\n",
    "df_reports[\"end_date\"] = df_reports[\"completed_at\"].dt.date\n",
    "df_reports = df_reports.sort_values(by=[\"end_date\", \"user_id\"], ignore_index=True)"
   ]
  },
  {
   "cell_type": "code",
   "execution_count": null,
   "id": "91794fe8-bd98-4317-806b-89af38486873",
   "metadata": {},
   "outputs": [],
   "source": [
    "df_reports.drop(columns=[\"started_at\", \"completed_at\"]).to_excel(\n",
    "    \"./data/out/users_reports.xlsx\", index=False\n",
    ")"
   ]
  },
  {
   "cell_type": "markdown",
   "id": "9598cc2f",
   "metadata": {
    "tags": []
   },
   "source": [
    "# SCRIPTING"
   ]
  }
 ],
 "metadata": {
  "jupytext": {
   "formats": "ipynb,py:percent"
  },
  "kernelspec": {
   "display_name": "Python [conda env:std_env]",
   "language": "python",
   "name": "conda-env-std_env-py"
  },
  "language_info": {
   "codemirror_mode": {
    "name": "ipython",
    "version": 3
   },
   "file_extension": ".py",
   "mimetype": "text/x-python",
   "name": "python",
   "nbconvert_exporter": "python",
   "pygments_lexer": "ipython3",
   "version": "3.9.6"
  }
 },
 "nbformat": 4,
 "nbformat_minor": 5
}
